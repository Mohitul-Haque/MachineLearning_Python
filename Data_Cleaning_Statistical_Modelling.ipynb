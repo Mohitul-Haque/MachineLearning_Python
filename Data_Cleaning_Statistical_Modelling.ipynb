{
  "nbformat": 4,
  "nbformat_minor": 0,
  "metadata": {
    "colab": {
      "provenance": []
    },
    "kernelspec": {
      "name": "python3",
      "display_name": "Python 3"
    },
    "language_info": {
      "name": "python"
    }
  },
  "cells": [
    {
      "cell_type": "markdown",
      "metadata": {
        "id": "y1Eqh00nAzBy"
      },
      "source": [
        "## **Short Summary of Results**"
      ]
    },
    {
      "cell_type": "markdown",
      "metadata": {
        "id": "txyDkk8wA8B4"
      },
      "source": [
        "1. It is an imbalanced dataset\n",
        "\n",
        "2. After extensive exploratory data analysis we have found the features that have the most correlation with the client's probability of opting for a term deposit. They are as follows▶\n",
        "\n",
        "a. Previous - The number of days that passed by after the client was last contacted from a previous campaign, when the number of days is low, the most likely outcome is that they won't subscribe to a term deposit. Otherwise, they will subscribe to a term deposit. \n",
        "\n",
        "b. Educational background - Tertiary educated people has the highest chance of subscribing to a term deposit, then comes secondary educated people and lastly primary educated people has the lowest chance of subscribing to a term deposit\n",
        "\n",
        "c. Marital status -  divorced people has the highest chance of subscribing to a term deposit, then comes single people and lastly married people has the lowest chance of subscribing to a term deposit.\n",
        "\n",
        "d. Housing loan- yes or no - People who does not have a housing loan has the highest chance of subscribing to a term deposit.\n",
        "\n",
        "e. Personal loan- yes or no - People who does not have a personal loan has the highest chance of subscribing to a term deposit.\n",
        "\n",
        "3. We found a Logistic Regression model accuracy of 87%\n",
        "\n",
        "4. The sensitivity (Sensitivity is calculated as the number of correct positive predictions divided by the total number of positives) is very low at approximately 0.20% as observed from the confusion matrix heatmap which can be improved by using bootstrap as discussed in assignment03.  From confusion matrix we found that the logistic regression model has 108 false negative. The ratio of true positive to false negative is 1:108. This ratio can be improved by using bootstrap to balance the response variable which will be discussed in assignment03. \n",
        "\n",
        "5. We found a Support Vector Machine accuracy of 88%\n",
        "\n",
        "6. We found a Decision Tree Classifier accuracy of 88%\n",
        "\n",
        "7. We found a Random Forest classifier accuracy of 87.7%"
      ]
    },
    {
      "cell_type": "code",
      "metadata": {
        "colab": {
          "base_uri": "https://localhost:8080/"
        },
        "id": "2CcGGP36EVnd",
        "outputId": "d23516e7-fe76-48c5-989b-0b3b5807dab1"
      },
      "source": [
        "\n",
        "import pandas as pd\n",
        "df = pd.read_csv ('bank.csv', sep=';')\n",
        "print (df)\n",
        "\n",
        "# df.head()\n",
        "# df.dtypes"
      ],
      "execution_count": null,
      "outputs": [
        {
          "output_type": "stream",
          "name": "stdout",
          "text": [
            "0    age            job  marital  education  ... pdays previous poutcome   y\n",
            "1     30     unemployed  married    primary  ...    -1        0  unknown  no\n",
            "2     33       services  married  secondary  ...   339        4  failure  no\n",
            "3     35     management   single   tertiary  ...   330        1  failure  no\n",
            "4     30     management  married   tertiary  ...    -1        0  unknown  no\n",
            "5     59    blue-collar  married  secondary  ...    -1        0  unknown  no\n",
            "...   ..            ...      ...        ...  ...   ...      ...      ...  ..\n",
            "4517  33       services  married  secondary  ...    -1        0  unknown  no\n",
            "4518  57  self-employed  married   tertiary  ...    -1        0  unknown  no\n",
            "4519  57     technician  married  secondary  ...    -1        0  unknown  no\n",
            "4520  28    blue-collar  married  secondary  ...   211        3    other  no\n",
            "4521  44   entrepreneur   single   tertiary  ...   249        7    other  no\n",
            "\n",
            "[4521 rows x 17 columns]\n"
          ]
        }
      ]
    },
    {
      "cell_type": "markdown",
      "metadata": {
        "id": "K3H64vxUcCNK"
      },
      "source": [
        "***Exploratory Data Analysis for Logistic Regression for Binary Classification***"
      ]
    },
    {
      "cell_type": "markdown",
      "metadata": {
        "id": "BXUwLkM9J7iy"
      },
      "source": [
        "# **Univariate Analysis**"
      ]
    },
    {
      "cell_type": "code",
      "metadata": {
        "colab": {
          "base_uri": "https://localhost:8080/",
          "height": 279
        },
        "id": "JvbQIvOCFuWl",
        "outputId": "5eee01b7-3e26-4b7d-b350-40ca19845159"
      },
      "source": [
        "import seaborn as sns\n",
        "import matplotlib.pyplot as plt\n",
        " \n",
        "# read a tips.csv file from seaborn library\n",
        "\n",
        " \n",
        "# count plot on single categorical variable\n",
        "sns.countplot(x ='y', data = df)\n",
        " \n",
        "# Show the plot\n",
        "plt.show()\n"
      ],
      "execution_count": null,
      "outputs": [
        {
          "output_type": "display_data",
          "data": {
            "image/png": "[encoded data removed]",
            "text/plain": [
              "<Figure size 432x288 with 1 Axes>"
            ]
          },
          "metadata": {
            "needs_background": "light"
          }
        }
      ]
    },
    {
      "cell_type": "markdown",
      "metadata": {
        "id": "D0IBV3pw7Mav"
      },
      "source": [
        "From above we can observe that most of the data is negative or negative chance of clients subscribing to a term deposit"
      ]
    },
    {
      "cell_type": "markdown",
      "metadata": {
        "id": "u7M8xEfoKRep"
      },
      "source": [
        "# **Bivariate Analysis**"
      ]
    },
    {
      "cell_type": "markdown",
      "metadata": {
        "id": "BADjG8t-_Mk2"
      },
      "source": [
        "Fitting in simple logistic regression model to determine the predictor variables"
      ]
    },
    {
      "cell_type": "code",
      "metadata": {
        "colab": {
          "base_uri": "https://localhost:8080/",
          "height": 364
        },
        "id": "HalNPbneIQyK",
        "outputId": "69033683-d502-4bc8-8d51-765efb15d27d"
      },
      "source": [
        "\n",
        "import seaborn as sns\n",
        "import matplotlib.pyplot as plt\n",
        "import numpy as np\n",
        "\n",
        "\n",
        "df['y_new'] = pd.factorize(df.y)[0]\n",
        "\n",
        "df['y_new'] = df.y_new.astype(float)\n",
        "\n",
        "\n",
        "df[\"age\"] = pd.to_numeric(df[\"age\"])\n",
        "df['age'] = df.age.astype(float)\n",
        "\n",
        "import statsmodels.formula.api\n",
        "from statsmodels.formula.api import logit\n",
        "mdl_recency1 = logit(\"y_new ~ age\", data = df).fit() \n",
        "explanatory_data1 = pd.DataFrame({\"age\": np.arange(20, 90, 2.5)}) \n",
        "prediction_data1 = explanatory_data1.assign(y_new = mdl_recency1.predict(explanatory_data1)) \n",
        " \n",
        "prediction_data1[\"most_likely_outcome\"] = np.round(prediction_data1[\"y_new\"]) \n",
        "sns.regplot(x=\"age\",y=\"y_new\", data=df, ci=None, logistic=True)\n",
        "\n",
        "sns.scatterplot(x=\"age\", y=\"most_likely_outcome\",data=prediction_data1,color=\"red\")\n",
        "plt.show() "
      ],
      "execution_count": null,
      "outputs": [
        {
          "output_type": "stream",
          "name": "stderr",
          "text": [
            "/usr/local/lib/python3.7/dist-packages/statsmodels/tools/_testing.py:19: FutureWarning: pandas.util.testing is deprecated. Use the functions in the public API at pandas.testing instead.\n",
            "  import pandas.util.testing as tm\n"
          ]
        },
        {
          "output_type": "stream",
          "name": "stdout",
          "text": [
            "Optimization terminated successfully.\n",
            "         Current function value: 0.356339\n",
            "         Iterations 6\n"
          ]
        },
        {
          "output_type": "display_data",
          "data": {
            "image/png": "[encoded data removed]",
            "text/plain": [
              "<Figure size 432x288 with 1 Axes>"
            ]
          },
          "metadata": {
            "needs_background": "light"
          }
        }
      ]
    },
    {
      "cell_type": "markdown",
      "metadata": {
        "id": "EKwDbDj6_1CW"
      },
      "source": [
        "1. Getting the most likely outcome\n",
        "One simpler prediction I can make, rather than calculating probabilities of a response, is to calculate the most likely response. That is, if the probability of subscribing to a term deposit is less than 0-point-5, the most likely outcome is that they won't subscribe to a term deposit. If their probability is greater then 0-point-5, it's more likely that they will subscribe to a term deposi. To calculate this, I simply round the predicted probabilities using numpy's round() function.\n",
        "\n",
        "2. Visualizing most likely outcome\n",
        "I plotted the most likely outcome by using the prediction data with the numbers I just calculated. For the variation in age, the most likely outcome is that they won't subscribe to a term deposit. so I will drop this variable from our predictor variables."
      ]
    },
    {
      "cell_type": "code",
      "metadata": {
        "colab": {
          "base_uri": "https://localhost:8080/",
          "height": 330
        },
        "id": "T0DETDBuobgy",
        "outputId": "c7d7d8f8-4f90-47cc-abc4-ea823d8784f3"
      },
      "source": [
        "df[\"pdays\"] = pd.to_numeric(df[\"pdays\"])\n",
        "df['pdays'] = df.pdays.astype(float)\n",
        "\n",
        "df['y_new'] = pd.factorize(df.y)[0]\n",
        "df['y_new'] = df.y_new.astype(float)\n",
        "\n",
        "import statsmodels.formula.api\n",
        "from statsmodels.formula.api import logit\n",
        "mdl_recency = logit(\"y_new ~ pdays\", data = df).fit() \n",
        "explanatory_data = pd.DataFrame({\"pdays\": np.arange(-1, 890, 25)}) \n",
        "prediction_data = explanatory_data.assign(y_new = mdl_recency.predict(explanatory_data)) \n",
        "\n",
        " \n",
        "prediction_data[\"most_likely_outcome_pdays\"] = np.round(prediction_data[\"y_new\"]) \n",
        "sns.regplot(x=\"pdays\",y=\"y_new\", data=df, ci=None, logistic=True)\n",
        "\n",
        "sns.scatterplot(x=\"pdays\", y=\"most_likely_outcome_pdays\",data=prediction_data,color=\"red\")\n",
        "plt.show() \n"
      ],
      "execution_count": null,
      "outputs": [
        {
          "output_type": "stream",
          "name": "stdout",
          "text": [
            "Optimization terminated successfully.\n",
            "         Current function value: 0.352780\n",
            "         Iterations 6\n"
          ]
        },
        {
          "output_type": "display_data",
          "data": {
            "image/png": "[encoded data removed]",
            "text/plain": [
              "<Figure size 432x288 with 1 Axes>"
            ]
          },
          "metadata": {
            "needs_background": "light"
          }
        }
      ]
    },
    {
      "cell_type": "markdown",
      "metadata": {
        "id": "h2cqPnn7HUIo"
      },
      "source": [
        "From the above graph, for the variation in number of days that passed by after the client was last contacted from a previous campaign, the most likely outcome is that they won't subscribe to a term deposit. so I will drop this variable from our predictor variables."
      ]
    },
    {
      "cell_type": "code",
      "metadata": {
        "colab": {
          "base_uri": "https://localhost:8080/",
          "height": 330
        },
        "id": "uZY9cLcBsN7Z",
        "outputId": "d4c759cd-1f77-403c-8693-d42405ccfdd7"
      },
      "source": [
        "import seaborn as sns\n",
        "import matplotlib.pyplot as plt\n",
        "import numpy as np\n",
        "\n",
        "df[\"previous\"] = pd.to_numeric(df[\"previous\"])\n",
        "df['previous'] = df.previous.astype(float)\n",
        "df['y_new'] = pd.factorize(df.y)[0]\n",
        "\n",
        "df['y_new'] = df.y_new.astype(float)\n",
        "\n",
        "# # print(df)\n",
        "# # df.dtypes\n",
        "import statsmodels.formula.api\n",
        "from statsmodels.formula.api import logit\n",
        "mdl_recency_previous = logit(\"y_new ~ previous\", data = df).fit() \n",
        "explanatory_data_previous = pd.DataFrame({\"previous\": np.arange(0, 25, 1)}) \n",
        "prediction_data_previous = explanatory_data_previous.assign(y_new = mdl_recency_previous.predict(explanatory_data_previous)) \n",
        "prediction_data_previous[\"most_likely_outcome_previous\"] = np.round(prediction_data_previous[\"y_new\"]) \n",
        "sns.regplot(x=\"previous\",y=\"y_new\", data=df, ci=None, logistic=True)\n",
        "\n",
        "sns.scatterplot(x=\"previous\", y=\"most_likely_outcome_previous\",data=prediction_data_previous,color=\"red\")\n",
        "plt.show() \n"
      ],
      "execution_count": null,
      "outputs": [
        {
          "output_type": "stream",
          "name": "stdout",
          "text": [
            "Optimization terminated successfully.\n",
            "         Current function value: 0.352410\n",
            "         Iterations 6\n"
          ]
        },
        {
          "output_type": "display_data",
          "data": {
            "image/png": "[encoded data removed]",
            "text/plain": [
              "<Figure size 432x288 with 1 Axes>"
            ]
          },
          "metadata": {
            "needs_background": "light"
          }
        }
      ]
    },
    {
      "cell_type": "markdown",
      "metadata": {
        "id": "5A23mv4VKnxI"
      },
      "source": [
        "From the above graph, for the number of days that passed by after the client was last contacted from a previous campaign, when the number of days is low, the most likely outcome is that they won't subscribe to a term deposit. Otherwise, they will subscribe to a term deposit. So this is eligible to be a predictor variable."
      ]
    },
    {
      "cell_type": "code",
      "metadata": {
        "colab": {
          "base_uri": "https://localhost:8080/",
          "height": 330
        },
        "id": "_aWTjnAZzqCV",
        "outputId": "dedabf76-924d-4aaa-b0eb-60d05c439dc4"
      },
      "source": [
        "import seaborn as sns\n",
        "import matplotlib.pyplot as plt\n",
        "import numpy as np\n",
        "\n",
        "df[\"balance\"] = pd.to_numeric(df[\"balance\"])\n",
        "df['balance'] = df.balance.astype(float)\n",
        "df['y_new'] = pd.factorize(df.y)[0]\n",
        "\n",
        "df['y_new'] = df.y_new.astype(float)\n",
        "\n",
        "\n",
        "import statsmodels.formula.api\n",
        "from statsmodels.formula.api import logit\n",
        "mdl_recency_balance = logit(\"y_new ~ balance\", data = df).fit() \n",
        "explanatory_data_balance = pd.DataFrame({\"balance\": np.arange(-1000, 70000, 3000)}) \n",
        "prediction_data_balance = explanatory_data_balance.assign(y_new = mdl_recency_balance.predict(explanatory_data_balance)) \n",
        "prediction_data_balance[\"most_likely_outcome_balance\"] = np.round(prediction_data_balance[\"y_new\"]) \n",
        "sns.regplot(x=\"balance\",y=\"y_new\", data=df, ci=None, logistic=True)\n",
        "\n",
        "sns.scatterplot(x=\"balance\", y=\"most_likely_outcome_balance\",data=prediction_data_balance,color=\"red\")\n",
        "plt.show()"
      ],
      "execution_count": null,
      "outputs": [
        {
          "output_type": "stream",
          "name": "stdout",
          "text": [
            "Optimization terminated successfully.\n",
            "         Current function value: 0.357186\n",
            "         Iterations 6\n"
          ]
        },
        {
          "output_type": "display_data",
          "data": {
            "image/png": "[encoded data removed]",
            "text/plain": [
              "<Figure size 432x288 with 1 Axes>"
            ]
          },
          "metadata": {
            "needs_background": "light"
          }
        }
      ]
    },
    {
      "cell_type": "markdown",
      "metadata": {
        "id": "fVVEOoblMldx"
      },
      "source": [
        "From the above graph, for the variation in account balance of the client, the most likely outcome is that they won't subscribe to a term deposit. so I will drop this variable from our predictor variables."
      ]
    },
    {
      "cell_type": "code",
      "metadata": {
        "colab": {
          "base_uri": "https://localhost:8080/",
          "height": 330
        },
        "id": "WFl4m3y0z9Z8",
        "outputId": "d4655646-637f-457f-c618-fae3b113b121"
      },
      "source": [
        "import seaborn as sns\n",
        "import matplotlib.pyplot as plt\n",
        "import numpy as np\n",
        "\n",
        "df[\"campaign\"] = pd.to_numeric(df[\"campaign\"])\n",
        "df['campaign'] = df.campaign.astype(float)\n",
        "df['y_new'] = pd.factorize(df.y)[0]\n",
        "\n",
        "df['y_new'] = df.y_new.astype(float)\n",
        "\n",
        "\n",
        "import statsmodels.formula.api\n",
        "from statsmodels.formula.api import logit\n",
        "mdl_recency_campaign = logit(\"y_new ~ campaign\", data = df).fit() \n",
        "explanatory_data_campaign = pd.DataFrame({\"campaign\": np.arange(0, 50, 2)}) \n",
        "prediction_data_campaign = explanatory_data_campaign.assign(y_new = mdl_recency_campaign.predict(explanatory_data_campaign)) \n",
        "prediction_data_campaign[\"most_likely_outcome_campaign\"] = np.round(prediction_data_campaign[\"y_new\"]) \n",
        "sns.regplot(x=\"campaign\",y=\"y_new\", data=df, ci=None, logistic=True)\n",
        "\n",
        "sns.scatterplot(x=\"campaign\", y=\"most_likely_outcome_campaign\",data=prediction_data_campaign,color=\"red\")\n",
        "plt.show()"
      ],
      "execution_count": null,
      "outputs": [
        {
          "output_type": "stream",
          "name": "stdout",
          "text": [
            "Optimization terminated successfully.\n",
            "         Current function value: 0.354841\n",
            "         Iterations 7\n"
          ]
        },
        {
          "output_type": "display_data",
          "data": {
            "image/png": "[encoded data removed]",
            "text/plain": [
              "<Figure size 432x288 with 1 Axes>"
            ]
          },
          "metadata": {
            "needs_background": "light"
          }
        }
      ]
    },
    {
      "cell_type": "markdown",
      "metadata": {
        "id": "nlVz1d2RNekG"
      },
      "source": [
        "From the above graph, for the variation in the number of contacts performed during this campaign and for this client,the most likely outcome is that they won't subscribe to a term deposit. so I will drop this variable from our predictor variables."
      ]
    },
    {
      "cell_type": "code",
      "metadata": {
        "colab": {
          "base_uri": "https://localhost:8080/",
          "height": 357
        },
        "id": "rVY6jd5pvwvG",
        "outputId": "8dfdbc5c-fcab-4c54-e20a-06f5941f7a17"
      },
      "source": [
        "pd.crosstab(df.job,df.y).plot(kind='bar')"
      ],
      "execution_count": null,
      "outputs": [
        {
          "output_type": "execute_result",
          "data": {
            "text/plain": [
              "<matplotlib.axes._subplots.AxesSubplot at 0x7fca3c6f8610>"
            ]
          },
          "metadata": {},
          "execution_count": 9
        },
        {
          "output_type": "display_data",
          "data": {
            "image/png": "[encoded data removed]",
            "text/plain": [
              "<Figure size 432x288 with 1 Axes>"
            ]
          },
          "metadata": {
            "needs_background": "light"
          }
        }
      ]
    },
    {
      "cell_type": "markdown",
      "metadata": {
        "id": "LnSNSSmAOR09"
      },
      "source": [
        "From above chart there seem to be some impact of job on subscribing a term deposit but it is not major hence we will ignore job in our analysis"
      ]
    },
    {
      "cell_type": "code",
      "metadata": {
        "colab": {
          "base_uri": "https://localhost:8080/",
          "height": 499
        },
        "id": "rpjiIeNukS3c",
        "outputId": "773b6454-0503-44db-e912-95adcb14023e"
      },
      "source": [
        "pd.crosstab(df.marital,df.y).plot(kind='bar')\n",
        "myField1_marital = df['marital']\n",
        "myField2_marital = df['y']\n",
        "myCrosstable_marital = pd.crosstab(myField1_marital, myField2_marital)\n",
        "print(myCrosstable_marital)\n",
        "import scipy.stats\n",
        "from scipy.stats import chi2_contingency\n",
        "chiVal_marital, pVal_marital, df_marital, exp_marital = chi2_contingency(myCrosstable_marital)\n",
        "chiVal_marital, pVal_marital, df_marital, exp_marital"
      ],
      "execution_count": null,
      "outputs": [
        {
          "output_type": "stream",
          "name": "stdout",
          "text": [
            "y           no  yes\n",
            "marital            \n",
            "divorced   451   77\n",
            "married   2520  277\n",
            "single    1029  167\n"
          ]
        },
        {
          "output_type": "execute_result",
          "data": {
            "text/plain": [
              "(19.03005634409817,\n",
              " 7.373535401823763e-05,\n",
              " 2,\n",
              " array([[ 467.15328467,   60.84671533],\n",
              "        [2474.67374475,  322.32625525],\n",
              "        [1058.17297058,  137.82702942]]))"
            ]
          },
          "metadata": {},
          "execution_count": 10
        },
        {
          "output_type": "display_data",
          "data": {
            "image/png": "[encoded data removed]",
            "text/plain": [
              "<Figure size 432x288 with 1 Axes>"
            ]
          },
          "metadata": {
            "needs_background": "light"
          }
        }
      ]
    },
    {
      "cell_type": "markdown",
      "metadata": {
        "id": "-9ZcXqlVQc0m"
      },
      "source": [
        "From the above output, the first value is the **chi-square** value of 19.03005634409817. The chance of such a value or even more extreme, in a sample, if there is no association in the population is 7.37e-5 (the second value). This is known as the p-value or significance. It is considered 'significant' usually if this value is below 0.05, which in this case it is. This indicates then an association between the two variables (one has an impact on the other).\n",
        "\n",
        "The third value is the degrees of freedom, which is an indication of the size of the table, since it is simply the number of rows - 1, times the number of columns - 1.\n",
        "\n",
        "The last array are the so called expected values. These are the counts to be expected if the two variables had no influence on each other.\n",
        "\n",
        "So my observation from the graph and the chi-square test is that divorced people has the highest chance of subscribing to a term deposit, then comes single people and lastly married people has the lowest chance of subscribing to a term deposit, as the p-value is much lower than 0.05 we will consider this variable as our predictor variable."
      ]
    },
    {
      "cell_type": "code",
      "metadata": {
        "colab": {
          "base_uri": "https://localhost:8080/",
          "height": 542
        },
        "id": "yaoMp3L9kYV5",
        "outputId": "bf8e93bd-814a-4cff-d1a6-37ed7e214f9e"
      },
      "source": [
        "pd.crosstab(df.education,df.y).plot(kind='bar')\n",
        "myField1_education = df['education']\n",
        "myField2_education = df['y']\n",
        "myCrosstable_education = pd.crosstab(myField1_education, myField2_education)\n",
        "print(myCrosstable_education)\n",
        "import scipy.stats\n",
        "from scipy.stats import chi2_contingency\n",
        "chiVal_education, pVal_education, df_education, exp_education = chi2_contingency(myCrosstable_education)\n",
        "chiVal_education, pVal_education, df_education, exp_education"
      ],
      "execution_count": null,
      "outputs": [
        {
          "output_type": "stream",
          "name": "stdout",
          "text": [
            "y            no  yes\n",
            "education           \n",
            "primary     614   64\n",
            "secondary  2061  245\n",
            "tertiary   1157  193\n",
            "unknown     168   19\n"
          ]
        },
        {
          "output_type": "execute_result",
          "data": {
            "text/plain": [
              "(15.236579554873757,\n",
              " 0.001625240003630989,\n",
              " 3,\n",
              " array([[ 599.867286  ,   78.132714  ],\n",
              "        [2040.2565804 ,  265.7434196 ],\n",
              "        [1194.42601194,  155.57398806],\n",
              "        [ 165.45012165,   21.54987835]]))"
            ]
          },
          "metadata": {},
          "execution_count": 11
        },
        {
          "output_type": "display_data",
          "data": {
            "image/png": "[encoded data removed]",
            "text/plain": [
              "<Figure size 432x288 with 1 Axes>"
            ]
          },
          "metadata": {
            "needs_background": "light"
          }
        }
      ]
    },
    {
      "cell_type": "markdown",
      "metadata": {
        "id": "ZK740xFZR9Rl"
      },
      "source": [
        "So my observation from the graph and the **chi-square test** is that tertiary educated people has the highest chance of subscribing to a term deposit, then comes secondary educated people and lastly primary educated people has the lowest chance of subscribing to a term deposit, as the p-value is much lower than 0.05 we will consider this variable as our predictor variable."
      ]
    },
    {
      "cell_type": "code",
      "metadata": {
        "colab": {
          "base_uri": "https://localhost:8080/",
          "height": 442
        },
        "id": "mqVQlWVc1As7",
        "outputId": "74d494ef-0e7b-487e-a641-607e3320c523"
      },
      "source": [
        "pd.crosstab(df.loan,df.y).plot(kind='bar')\n",
        "myField1 = df['loan']\n",
        "myField2 = df['y']\n",
        "myCrosstable = pd.crosstab(myField1, myField2)\n",
        "print(myCrosstable)\n",
        "import scipy.stats\n",
        "from scipy.stats import chi2_contingency\n",
        "chiVal_loan, pVal_loan, df_loan, exp_loan = chi2_contingency(myCrosstable)\n",
        "chiVal_loan, pVal_loan, df_loan, exp_loan"
      ],
      "execution_count": null,
      "outputs": [
        {
          "output_type": "stream",
          "name": "stdout",
          "text": [
            "y       no  yes\n",
            "loan           \n",
            "no    3352  478\n",
            "yes    648   43\n"
          ]
        },
        {
          "output_type": "execute_result",
          "data": {
            "text/plain": [
              "(21.87182161746215,\n",
              " 2.9148288298428256e-06,\n",
              " 1,\n",
              " array([[3388.63083389,  441.36916611],\n",
              "        [ 611.36916611,   79.63083389]]))"
            ]
          },
          "metadata": {},
          "execution_count": 12
        },
        {
          "output_type": "display_data",
          "data": {
            "image/png": "[encoded data removed]",
            "text/plain": [
              "<Figure size 432x288 with 1 Axes>"
            ]
          },
          "metadata": {
            "needs_background": "light"
          }
        }
      ]
    },
    {
      "cell_type": "markdown",
      "metadata": {
        "id": "R1eyqCmDSjyE"
      },
      "source": [
        "So my observation from the graph and the **chi-square test** is that people who does not have a personal loan has the highest chance of subscribing to a term deposit and also as the p-value is much lower than 0.05 we will consider this variable as our predictor variable."
      ]
    },
    {
      "cell_type": "code",
      "metadata": {
        "colab": {
          "base_uri": "https://localhost:8080/",
          "height": 372
        },
        "id": "wfyVe0uIxHsk",
        "outputId": "df4517d1-5d9a-414d-a732-2328eae24c3c"
      },
      "source": [
        "pd.crosstab(df.default,df.y).plot(kind='bar')\n",
        "myField1_default = df['default']\n",
        "myField2_default = df['y']\n",
        "myCrosstable_default = pd.crosstab(myField1_default, myField2_default)\n",
        "import scipy.stats\n",
        "from scipy.stats import chi2_contingency\n",
        "chiVal_default, pVal_default, df_default, exp_default = chi2_contingency(myCrosstable_default)\n",
        "chiVal_default, pVal_default, df_default, exp_default"
      ],
      "execution_count": null,
      "outputs": [
        {
          "output_type": "execute_result",
          "data": {
            "text/plain": [
              "(0.008753166978396806,\n",
              " 0.9254599873026758,\n",
              " 1,\n",
              " array([[3932.75823933,  512.24176067],\n",
              "        [  67.24176067,    8.75823933]]))"
            ]
          },
          "metadata": {},
          "execution_count": 13
        },
        {
          "output_type": "display_data",
          "data": {
            "image/png": "[encoded data removed]",
            "text/plain": [
              "<Figure size 432x288 with 1 Axes>"
            ]
          },
          "metadata": {
            "needs_background": "light"
          }
        }
      ]
    },
    {
      "cell_type": "markdown",
      "metadata": {
        "id": "4kyf0O6TS0w3"
      },
      "source": [
        "So my observation from the graph and the **chi-square test** is the p-value is much higher than 0.05 we will not consider this variable as our predictor variable."
      ]
    },
    {
      "cell_type": "code",
      "metadata": {
        "colab": {
          "base_uri": "https://localhost:8080/",
          "height": 440
        },
        "id": "srwEpNjo-iWn",
        "outputId": "85924623-ae5d-4d8c-d50f-41c8ed1f6519"
      },
      "source": [
        "pd.crosstab(df.housing,df.y).plot(kind='bar')\n",
        "myField1_housing = df['housing']\n",
        "myField2_housing = df['y']\n",
        "myCrosstable_housing = pd.crosstab(myField1_housing, myField2_housing)\n",
        "print(myCrosstable_housing)\n",
        "import scipy.stats\n",
        "from scipy.stats import chi2_contingency\n",
        "chiVal_housing, pVal_housing, df_housing, exp_housing = chi2_contingency(myCrosstable_housing)\n",
        "chiVal_housing, pVal_housing, df_housing, exp_housing"
      ],
      "execution_count": null,
      "outputs": [
        {
          "output_type": "stream",
          "name": "stdout",
          "text": [
            "y          no  yes\n",
            "housing           \n",
            "no       1661  301\n",
            "yes      2339  220\n"
          ]
        },
        {
          "output_type": "execute_result",
          "data": {
            "text/plain": [
              "(48.88462833144263,\n",
              " 2.7146998959323014e-12,\n",
              " 1,\n",
              " array([[1735.89913736,  226.10086264],\n",
              "        [2264.10086264,  294.89913736]]))"
            ]
          },
          "metadata": {},
          "execution_count": 14
        },
        {
          "output_type": "display_data",
          "data": {
            "image/png": "[encoded data removed]",
            "text/plain": [
              "<Figure size 432x288 with 1 Axes>"
            ]
          },
          "metadata": {
            "needs_background": "light"
          }
        }
      ]
    },
    {
      "cell_type": "markdown",
      "metadata": {
        "id": "ngul2NdbS_Qz"
      },
      "source": [
        "So my observation from the graph and the chi-square test is that people who does not have a housing loan has the highest chance of subscribing to a term deposit and also as the p-value is much lower than 0.05 we will consider this variable as our predictor variable."
      ]
    },
    {
      "cell_type": "code",
      "metadata": {
        "colab": {
          "base_uri": "https://localhost:8080/"
        },
        "id": "Daw9fuIYfzqB",
        "outputId": "bb742280-c569-4d63-cdd7-61df7193cb95"
      },
      "source": [
        "# Making the predictor dataframe by dropping other variables, I did not consider contact, day, month, poutcome as they did not seem important from the get go. \n",
        "# Also the problem states to not take duration as predictor as it states- \"this input should only be included for benchmark purposes and should be discarded if the intention is to have a realistic predictive model\"\n",
        "# dropping rows for unknown values in education column\n",
        "df_predict = df.drop(df.index[df['education'] == 'unknown'])\n",
        "df_predict1=df_predict.drop(columns=['contact', 'day', 'month', 'duration', 'pdays', 'default', 'balance', 'pdays','age','job','campaign', 'poutcome', 'y', 'y_new'])\n",
        "\n",
        "print(df_predict)\n",
        "print(df_predict1)\n",
        "\n",
        "df_predict.to_csv(r'As2_train_test_data.csv', index = False)"
      ],
      "execution_count": null,
      "outputs": [
        {
          "output_type": "stream",
          "name": "stdout",
          "text": [
            "0      age            job  marital  education  ... previous  poutcome   y y_new\n",
            "1     30.0     unemployed  married    primary  ...      0.0   unknown  no   0.0\n",
            "2     33.0       services  married  secondary  ...      4.0   failure  no   0.0\n",
            "3     35.0     management   single   tertiary  ...      1.0   failure  no   0.0\n",
            "4     30.0     management  married   tertiary  ...      0.0   unknown  no   0.0\n",
            "5     59.0    blue-collar  married  secondary  ...      0.0   unknown  no   0.0\n",
            "...    ...            ...      ...        ...  ...      ...       ...  ..   ...\n",
            "4517  33.0       services  married  secondary  ...      0.0   unknown  no   0.0\n",
            "4518  57.0  self-employed  married   tertiary  ...      0.0   unknown  no   0.0\n",
            "4519  57.0     technician  married  secondary  ...      0.0   unknown  no   0.0\n",
            "4520  28.0    blue-collar  married  secondary  ...      3.0     other  no   0.0\n",
            "4521  44.0   entrepreneur   single   tertiary  ...      7.0     other  no   0.0\n",
            "\n",
            "[4334 rows x 18 columns]\n",
            "0     marital  education housing loan  previous\n",
            "1     married    primary      no   no       0.0\n",
            "2     married  secondary     yes  yes       4.0\n",
            "3      single   tertiary     yes   no       1.0\n",
            "4     married   tertiary     yes  yes       0.0\n",
            "5     married  secondary     yes   no       0.0\n",
            "...       ...        ...     ...  ...       ...\n",
            "4517  married  secondary     yes   no       0.0\n",
            "4518  married   tertiary     yes  yes       0.0\n",
            "4519  married  secondary      no   no       0.0\n",
            "4520  married  secondary      no   no       3.0\n",
            "4521   single   tertiary     yes  yes       7.0\n",
            "\n",
            "[4334 rows x 5 columns]\n"
          ]
        }
      ]
    },
    {
      "cell_type": "markdown",
      "metadata": {
        "id": "qtYLqQB-leTE"
      },
      "source": [
        "**Predictor Dataframe**"
      ]
    },
    {
      "cell_type": "code",
      "metadata": {
        "colab": {
          "base_uri": "https://localhost:8080/",
          "height": 204
        },
        "id": "wWEGggupflPg",
        "outputId": "75ecdab5-bf96-4d2b-e60a-24a679005e89"
      },
      "source": [
        "# putting dummy variables in categorical columns\n",
        "education_dummies = pd.get_dummies(df_predict1.education, prefix=\"education\")\n",
        "df_with_dummies = pd.concat([df_predict1,education_dummies],axis='columns')\n",
        "df_with_dummies.drop('education',axis='columns',inplace=True)\n",
        "marital_dummies = pd.get_dummies(df_with_dummies.marital, prefix=\"marital\")\n",
        "df_with_dummies1 = pd.concat([df_with_dummies,marital_dummies],axis='columns')\n",
        "df_with_dummies1.drop('marital',axis='columns',inplace=True)\n",
        "housing_dummies = pd.get_dummies(df_with_dummies1.housing, prefix=\"housing\")\n",
        "df_with_dummies2 = pd.concat([df_with_dummies1,housing_dummies],axis='columns')\n",
        "df_with_dummies2.drop('housing',axis='columns',inplace=True)\n",
        "loan_dummies = pd.get_dummies(df_with_dummies2.loan, prefix=\"loan\")\n",
        "df_with_dummies3 = pd.concat([df_with_dummies2,loan_dummies],axis='columns')\n",
        "df_with_dummies3.drop('loan',axis='columns',inplace=True)\n",
        "df_with_dummies3.head()\n",
        "# df_with_dummies3.dtypes"
      ],
      "execution_count": null,
      "outputs": [
        {
          "output_type": "execute_result",
          "data": {
            "text/html": [
              "<div>\n",
              "<style scoped>\n",
              "    .dataframe tbody tr th:only-of-type {\n",
              "        vertical-align: middle;\n",
              "    }\n",
              "\n",
              "    .dataframe tbody tr th {\n",
              "        vertical-align: top;\n",
              "    }\n",
              "\n",
              "    .dataframe thead th {\n",
              "        text-align: right;\n",
              "    }\n",
              "</style>\n",
              "<table border=\"1\" class=\"dataframe\">\n",
              "  <thead>\n",
              "    <tr style=\"text-align: right;\">\n",
              "      <th></th>\n",
              "      <th>previous</th>\n",
              "      <th>education_primary</th>\n",
              "      <th>education_secondary</th>\n",
              "      <th>education_tertiary</th>\n",
              "      <th>marital_divorced</th>\n",
              "      <th>marital_married</th>\n",
              "      <th>marital_single</th>\n",
              "      <th>housing_no</th>\n",
              "      <th>housing_yes</th>\n",
              "      <th>loan_no</th>\n",
              "      <th>loan_yes</th>\n",
              "    </tr>\n",
              "  </thead>\n",
              "  <tbody>\n",
              "    <tr>\n",
              "      <th>1</th>\n",
              "      <td>0.0</td>\n",
              "      <td>1</td>\n",
              "      <td>0</td>\n",
              "      <td>0</td>\n",
              "      <td>0</td>\n",
              "      <td>1</td>\n",
              "      <td>0</td>\n",
              "      <td>1</td>\n",
              "      <td>0</td>\n",
              "      <td>1</td>\n",
              "      <td>0</td>\n",
              "    </tr>\n",
              "    <tr>\n",
              "      <th>2</th>\n",
              "      <td>4.0</td>\n",
              "      <td>0</td>\n",
              "      <td>1</td>\n",
              "      <td>0</td>\n",
              "      <td>0</td>\n",
              "      <td>1</td>\n",
              "      <td>0</td>\n",
              "      <td>0</td>\n",
              "      <td>1</td>\n",
              "      <td>0</td>\n",
              "      <td>1</td>\n",
              "    </tr>\n",
              "    <tr>\n",
              "      <th>3</th>\n",
              "      <td>1.0</td>\n",
              "      <td>0</td>\n",
              "      <td>0</td>\n",
              "      <td>1</td>\n",
              "      <td>0</td>\n",
              "      <td>0</td>\n",
              "      <td>1</td>\n",
              "      <td>0</td>\n",
              "      <td>1</td>\n",
              "      <td>1</td>\n",
              "      <td>0</td>\n",
              "    </tr>\n",
              "    <tr>\n",
              "      <th>4</th>\n",
              "      <td>0.0</td>\n",
              "      <td>0</td>\n",
              "      <td>0</td>\n",
              "      <td>1</td>\n",
              "      <td>0</td>\n",
              "      <td>1</td>\n",
              "      <td>0</td>\n",
              "      <td>0</td>\n",
              "      <td>1</td>\n",
              "      <td>0</td>\n",
              "      <td>1</td>\n",
              "    </tr>\n",
              "    <tr>\n",
              "      <th>5</th>\n",
              "      <td>0.0</td>\n",
              "      <td>0</td>\n",
              "      <td>1</td>\n",
              "      <td>0</td>\n",
              "      <td>0</td>\n",
              "      <td>1</td>\n",
              "      <td>0</td>\n",
              "      <td>0</td>\n",
              "      <td>1</td>\n",
              "      <td>1</td>\n",
              "      <td>0</td>\n",
              "    </tr>\n",
              "  </tbody>\n",
              "</table>\n",
              "</div>"
            ],
            "text/plain": [
              "   previous  education_primary  ...  loan_no  loan_yes\n",
              "1       0.0                  1  ...        1         0\n",
              "2       4.0                  0  ...        0         1\n",
              "3       1.0                  0  ...        1         0\n",
              "4       0.0                  0  ...        0         1\n",
              "5       0.0                  0  ...        1         0\n",
              "\n",
              "[5 rows x 11 columns]"
            ]
          },
          "metadata": {},
          "execution_count": 16
        }
      ]
    },
    {
      "cell_type": "code",
      "metadata": {
        "colab": {
          "base_uri": "https://localhost:8080/"
        },
        "id": "bE6RvVGuiXDr",
        "outputId": "bea4c9e2-d458-428e-aea1-1e9bdfd0188f"
      },
      "source": [
        "# Make whole dataframe float type\n",
        "df_with_dummies3 = df_with_dummies3.astype(float)\n",
        "df_with_dummies3.dtypes"
      ],
      "execution_count": null,
      "outputs": [
        {
          "output_type": "execute_result",
          "data": {
            "text/plain": [
              "previous               float64\n",
              "education_primary      float64\n",
              "education_secondary    float64\n",
              "education_tertiary     float64\n",
              "marital_divorced       float64\n",
              "marital_married        float64\n",
              "marital_single         float64\n",
              "housing_no             float64\n",
              "housing_yes            float64\n",
              "loan_no                float64\n",
              "loan_yes               float64\n",
              "dtype: object"
            ]
          },
          "metadata": {},
          "execution_count": 17
        }
      ]
    },
    {
      "cell_type": "code",
      "metadata": {
        "colab": {
          "base_uri": "https://localhost:8080/",
          "height": 204
        },
        "id": "is4ZVWySjkdO",
        "outputId": "cf3f7904-c13e-4945-c030-b3cd7f30fd68"
      },
      "source": [
        "X = df_with_dummies3\n",
        "X.head()"
      ],
      "execution_count": null,
      "outputs": [
        {
          "output_type": "execute_result",
          "data": {
            "text/html": [
              "<div>\n",
              "<style scoped>\n",
              "    .dataframe tbody tr th:only-of-type {\n",
              "        vertical-align: middle;\n",
              "    }\n",
              "\n",
              "    .dataframe tbody tr th {\n",
              "        vertical-align: top;\n",
              "    }\n",
              "\n",
              "    .dataframe thead th {\n",
              "        text-align: right;\n",
              "    }\n",
              "</style>\n",
              "<table border=\"1\" class=\"dataframe\">\n",
              "  <thead>\n",
              "    <tr style=\"text-align: right;\">\n",
              "      <th></th>\n",
              "      <th>previous</th>\n",
              "      <th>education_primary</th>\n",
              "      <th>education_secondary</th>\n",
              "      <th>education_tertiary</th>\n",
              "      <th>marital_divorced</th>\n",
              "      <th>marital_married</th>\n",
              "      <th>marital_single</th>\n",
              "      <th>housing_no</th>\n",
              "      <th>housing_yes</th>\n",
              "      <th>loan_no</th>\n",
              "      <th>loan_yes</th>\n",
              "    </tr>\n",
              "  </thead>\n",
              "  <tbody>\n",
              "    <tr>\n",
              "      <th>1</th>\n",
              "      <td>0.0</td>\n",
              "      <td>1.0</td>\n",
              "      <td>0.0</td>\n",
              "      <td>0.0</td>\n",
              "      <td>0.0</td>\n",
              "      <td>1.0</td>\n",
              "      <td>0.0</td>\n",
              "      <td>1.0</td>\n",
              "      <td>0.0</td>\n",
              "      <td>1.0</td>\n",
              "      <td>0.0</td>\n",
              "    </tr>\n",
              "    <tr>\n",
              "      <th>2</th>\n",
              "      <td>4.0</td>\n",
              "      <td>0.0</td>\n",
              "      <td>1.0</td>\n",
              "      <td>0.0</td>\n",
              "      <td>0.0</td>\n",
              "      <td>1.0</td>\n",
              "      <td>0.0</td>\n",
              "      <td>0.0</td>\n",
              "      <td>1.0</td>\n",
              "      <td>0.0</td>\n",
              "      <td>1.0</td>\n",
              "    </tr>\n",
              "    <tr>\n",
              "      <th>3</th>\n",
              "      <td>1.0</td>\n",
              "      <td>0.0</td>\n",
              "      <td>0.0</td>\n",
              "      <td>1.0</td>\n",
              "      <td>0.0</td>\n",
              "      <td>0.0</td>\n",
              "      <td>1.0</td>\n",
              "      <td>0.0</td>\n",
              "      <td>1.0</td>\n",
              "      <td>1.0</td>\n",
              "      <td>0.0</td>\n",
              "    </tr>\n",
              "    <tr>\n",
              "      <th>4</th>\n",
              "      <td>0.0</td>\n",
              "      <td>0.0</td>\n",
              "      <td>0.0</td>\n",
              "      <td>1.0</td>\n",
              "      <td>0.0</td>\n",
              "      <td>1.0</td>\n",
              "      <td>0.0</td>\n",
              "      <td>0.0</td>\n",
              "      <td>1.0</td>\n",
              "      <td>0.0</td>\n",
              "      <td>1.0</td>\n",
              "    </tr>\n",
              "    <tr>\n",
              "      <th>5</th>\n",
              "      <td>0.0</td>\n",
              "      <td>0.0</td>\n",
              "      <td>1.0</td>\n",
              "      <td>0.0</td>\n",
              "      <td>0.0</td>\n",
              "      <td>1.0</td>\n",
              "      <td>0.0</td>\n",
              "      <td>0.0</td>\n",
              "      <td>1.0</td>\n",
              "      <td>1.0</td>\n",
              "      <td>0.0</td>\n",
              "    </tr>\n",
              "  </tbody>\n",
              "</table>\n",
              "</div>"
            ],
            "text/plain": [
              "   previous  education_primary  ...  loan_no  loan_yes\n",
              "1       0.0                1.0  ...      1.0       0.0\n",
              "2       4.0                0.0  ...      0.0       1.0\n",
              "3       1.0                0.0  ...      1.0       0.0\n",
              "4       0.0                0.0  ...      0.0       1.0\n",
              "5       0.0                0.0  ...      1.0       0.0\n",
              "\n",
              "[5 rows x 11 columns]"
            ]
          },
          "metadata": {},
          "execution_count": 20
        }
      ]
    },
    {
      "cell_type": "code",
      "metadata": {
        "id": "Xt9YlHGPjsqs"
      },
      "source": [
        "y1 = df_predict.y_new"
      ],
      "execution_count": null,
      "outputs": []
    },
    {
      "cell_type": "markdown",
      "metadata": {
        "id": "9IXFf6YkmZ_b"
      },
      "source": [
        "## **1. Using Logistic Regression Classifier**"
      ]
    },
    {
      "cell_type": "code",
      "metadata": {
        "id": "_b3W3hiKj8ED"
      },
      "source": [
        "import sklearn.model_selection\n",
        "from sklearn.model_selection import train_test_split\n",
        "X_train, X_test, y_train, y_test = train_test_split(X,y1,train_size=0.8)"
      ],
      "execution_count": null,
      "outputs": []
    },
    {
      "cell_type": "markdown",
      "metadata": {
        "id": "nRhHMj3-n7rC"
      },
      "source": [
        "Above I have taken train size as 0.8 so I have take 80% data for training and 20% data for test"
      ]
    },
    {
      "cell_type": "code",
      "metadata": {
        "id": "ikBnysyMlnX8"
      },
      "source": [
        "import sklearn.linear_model\n",
        "from sklearn.linear_model import LogisticRegression\n",
        "model = LogisticRegression()"
      ],
      "execution_count": null,
      "outputs": []
    },
    {
      "cell_type": "code",
      "metadata": {
        "colab": {
          "base_uri": "https://localhost:8080/"
        },
        "id": "u0YanZC7l_n8",
        "outputId": "0f80e540-1ab7-4b44-fcc4-98e658c2e52c"
      },
      "source": [
        "model.fit(X_train, y_train)"
      ],
      "execution_count": null,
      "outputs": [
        {
          "output_type": "execute_result",
          "data": {
            "text/plain": [
              "LogisticRegression()"
            ]
          },
          "metadata": {},
          "execution_count": 24
        }
      ]
    },
    {
      "cell_type": "code",
      "metadata": {
        "colab": {
          "base_uri": "https://localhost:8080/"
        },
        "id": "ieZAtLx6mDXb",
        "outputId": "d493c32e-4f26-40d7-a901-e1aab825f82a"
      },
      "source": [
        "model.predict(X_test)\n"
      ],
      "execution_count": null,
      "outputs": [
        {
          "output_type": "execute_result",
          "data": {
            "text/plain": [
              "array([0., 0., 0., 0., 0., 0., 0., 0., 0., 0., 0., 0., 0., 0., 0., 0., 0.,\n",
              "       0., 0., 0., 0., 0., 0., 0., 0., 0., 0., 0., 0., 0., 0., 0., 0., 0.,\n",
              "       0., 0., 0., 0., 0., 0., 0., 0., 0., 0., 0., 0., 0., 0., 0., 0., 0.,\n",
              "       0., 0., 0., 0., 0., 0., 0., 0., 0., 0., 0., 0., 0., 0., 0., 0., 0.,\n",
              "       0., 0., 0., 0., 0., 0., 0., 0., 0., 0., 0., 0., 0., 0., 0., 0., 0.,\n",
              "       0., 0., 0., 0., 0., 0., 0., 0., 0., 0., 0., 0., 0., 0., 0., 0., 0.,\n",
              "       0., 0., 0., 0., 0., 0., 0., 0., 0., 0., 0., 0., 0., 0., 0., 0., 0.,\n",
              "       0., 0., 0., 0., 0., 0., 0., 0., 0., 0., 0., 0., 0., 0., 0., 0., 0.,\n",
              "       0., 0., 0., 0., 0., 0., 0., 0., 0., 0., 0., 0., 0., 0., 0., 0., 0.,\n",
              "       0., 0., 0., 0., 0., 0., 0., 0., 0., 0., 0., 0., 0., 0., 0., 0., 0.,\n",
              "       0., 0., 0., 0., 0., 0., 0., 0., 0., 1., 0., 0., 0., 0., 0., 0., 0.,\n",
              "       0., 0., 0., 0., 0., 0., 0., 0., 0., 0., 0., 0., 0., 0., 0., 0., 0.,\n",
              "       0., 0., 0., 0., 0., 0., 0., 0., 0., 0., 0., 0., 0., 0., 0., 0., 0.,\n",
              "       0., 0., 0., 0., 0., 0., 0., 0., 0., 0., 0., 0., 0., 0., 0., 0., 0.,\n",
              "       0., 0., 1., 0., 0., 0., 0., 0., 0., 0., 0., 0., 0., 0., 0., 0., 0.,\n",
              "       0., 0., 0., 0., 0., 0., 0., 0., 0., 0., 0., 0., 0., 0., 0., 0., 0.,\n",
              "       0., 0., 0., 0., 0., 0., 0., 0., 0., 0., 0., 0., 0., 0., 0., 0., 0.,\n",
              "       0., 0., 0., 0., 0., 0., 0., 0., 0., 0., 0., 0., 0., 0., 0., 0., 0.,\n",
              "       0., 0., 0., 0., 0., 0., 0., 0., 0., 0., 0., 0., 0., 0., 0., 0., 0.,\n",
              "       0., 0., 0., 0., 0., 0., 0., 0., 0., 0., 0., 0., 0., 0., 0., 0., 0.,\n",
              "       0., 0., 0., 0., 0., 0., 0., 0., 0., 0., 0., 0., 0., 0., 0., 0., 0.,\n",
              "       0., 0., 0., 0., 0., 0., 0., 0., 0., 0., 0., 0., 0., 0., 0., 0., 0.,\n",
              "       0., 0., 0., 0., 0., 0., 0., 0., 0., 0., 0., 0., 0., 0., 0., 0., 0.,\n",
              "       0., 0., 0., 0., 0., 0., 0., 0., 0., 0., 0., 0., 0., 0., 0., 0., 0.,\n",
              "       0., 0., 0., 0., 0., 0., 0., 0., 0., 0., 0., 0., 0., 0., 0., 0., 0.,\n",
              "       0., 0., 0., 0., 0., 0., 0., 0., 0., 0., 0., 0., 0., 0., 0., 0., 0.,\n",
              "       0., 0., 0., 0., 0., 0., 0., 0., 0., 0., 0., 0., 0., 0., 0., 0., 0.,\n",
              "       0., 0., 0., 0., 0., 0., 0., 0., 0., 0., 0., 0., 0., 0., 0., 0., 0.,\n",
              "       0., 0., 0., 0., 0., 0., 0., 0., 0., 0., 0., 0., 0., 0., 0., 0., 0.,\n",
              "       0., 0., 0., 0., 0., 0., 0., 0., 0., 0., 0., 0., 0., 0., 0., 0., 0.,\n",
              "       0., 0., 0., 0., 0., 0., 0., 0., 0., 0., 0., 0., 0., 0., 0., 0., 0.,\n",
              "       0., 0., 0., 0., 0., 0., 0., 0., 0., 0., 0., 0., 0., 0., 0., 0., 0.,\n",
              "       0., 0., 0., 0., 0., 0., 0., 0., 0., 0., 0., 0., 0., 0., 0., 0., 0.,\n",
              "       0., 0., 0., 0., 0., 0., 0., 0., 0., 0., 0., 0., 0., 0., 0., 0., 0.,\n",
              "       0., 0., 0., 0., 0., 0., 0., 0., 0., 0., 0., 0., 0., 0., 0., 0., 0.,\n",
              "       0., 0., 0., 0., 0., 0., 0., 0., 0., 0., 0., 0., 0., 0., 0., 0., 0.,\n",
              "       0., 0., 0., 0., 0., 0., 0., 0., 0., 0., 0., 0., 0., 0., 0., 0., 0.,\n",
              "       0., 0., 0., 0., 0., 0., 0., 0., 0., 0., 0., 0., 0., 0., 0., 0., 0.,\n",
              "       0., 0., 0., 0., 0., 0., 0., 0., 0., 0., 0., 0., 0., 0., 0., 0., 0.,\n",
              "       0., 0., 0., 0., 0., 0., 0., 0., 0., 0., 0., 0., 0., 0., 0., 0., 0.,\n",
              "       0., 0., 0., 0., 0., 0., 0., 0., 0., 0., 0., 0., 0., 0., 0., 0., 0.,\n",
              "       0., 0., 0., 0., 0., 0., 0., 0., 0., 0., 0., 0., 0., 0., 0., 0., 0.,\n",
              "       0., 0., 0., 0., 0., 0., 0., 0., 0., 0., 0., 0., 0., 0., 0., 0., 0.,\n",
              "       0., 0., 0., 0., 0., 0., 0., 0., 0., 0., 0., 0., 0., 0., 0., 0., 0.,\n",
              "       0., 0., 0., 0., 0., 0., 0., 0., 0., 0., 0., 0., 0., 0., 0., 0., 0.,\n",
              "       0., 0., 0., 0., 0., 0., 0., 0., 0., 0., 0., 0., 0., 0., 0., 0., 0.,\n",
              "       0., 0., 0., 0., 0., 0., 0., 0., 0., 0., 0., 0., 0., 0., 0., 0., 0.,\n",
              "       0., 0., 0., 0., 0., 0., 0., 0., 0., 0., 0., 0., 0., 0., 0., 0., 0.,\n",
              "       0., 0., 0., 0., 0., 0., 0., 0., 0., 0., 0., 0., 0., 0., 0., 0., 0.,\n",
              "       0., 0., 0., 0., 0., 0., 0., 0., 0., 0., 0., 0., 0., 0., 0., 0., 0.,\n",
              "       0., 0., 0., 0., 0., 0., 0., 0., 0., 0., 0., 0., 0., 0., 0., 0., 0.])"
            ]
          },
          "metadata": {},
          "execution_count": 25
        }
      ]
    },
    {
      "cell_type": "code",
      "metadata": {
        "id": "RUHFPJKFrivK"
      },
      "source": [
        "y_predicted = model.predict(X_test)"
      ],
      "execution_count": null,
      "outputs": []
    },
    {
      "cell_type": "markdown",
      "metadata": {
        "id": "E4RwdVAmoIei"
      },
      "source": [
        "Here, it shows the predictions for our test dataset"
      ]
    },
    {
      "cell_type": "code",
      "metadata": {
        "colab": {
          "base_uri": "https://localhost:8080/"
        },
        "id": "NB4sRfSpmI48",
        "outputId": "716c5501-5156-48e3-b5c4-5108c0b7f8b3"
      },
      "source": [
        "model.score(X_test,y_test)"
      ],
      "execution_count": null,
      "outputs": [
        {
          "output_type": "execute_result",
          "data": {
            "text/plain": [
              "0.8742791234140715"
            ]
          },
          "metadata": {},
          "execution_count": 26
        }
      ]
    },
    {
      "cell_type": "markdown",
      "metadata": {
        "id": "YA9KQn9ssLLw"
      },
      "source": [
        "Here we got 87% of accuracy\n"
      ]
    },
    {
      "cell_type": "markdown",
      "metadata": {
        "id": "2Pgp8YryrNiR"
      },
      "source": [
        "# **Confusion Matrix**"
      ]
    },
    {
      "cell_type": "code",
      "metadata": {
        "colab": {
          "base_uri": "https://localhost:8080/"
        },
        "id": "6sqiY_P0rMWJ",
        "outputId": "47a2e729-95f6-4eeb-f9e2-60e38f00abbf"
      },
      "source": [
        "from sklearn.metrics import confusion_matrix\n",
        "cm = confusion_matrix(y_test, y_predicted)\n",
        "cm"
      ],
      "execution_count": null,
      "outputs": [
        {
          "output_type": "execute_result",
          "data": {
            "text/plain": [
              "array([[757,   1],\n",
              "       [108,   1]])"
            ]
          },
          "metadata": {},
          "execution_count": 28
        }
      ]
    },
    {
      "cell_type": "code",
      "metadata": {
        "colab": {
          "base_uri": "https://localhost:8080/",
          "height": 459
        },
        "id": "Qv6UN3korrhy",
        "outputId": "5f977c56-7159-438e-b77e-57c1838ded03"
      },
      "source": [
        "%matplotlib inline\n",
        "import matplotlib.pyplot as plt\n",
        "import seaborn as sn\n",
        "plt.figure(figsize=(10,7))\n",
        "sn.heatmap(cm, annot=True)\n",
        "plt.xlabel('Predicted')\n",
        "plt.ylabel('Truth')"
      ],
      "execution_count": null,
      "outputs": [
        {
          "output_type": "execute_result",
          "data": {
            "text/plain": [
              "Text(69.0, 0.5, 'Truth')"
            ]
          },
          "metadata": {},
          "execution_count": 29
        },
        {
          "output_type": "display_data",
          "data": {
            "image/png": "[encoded data removed]",
            "text/plain": [
              "<Figure size 720x504 with 2 Axes>"
            ]
          },
          "metadata": {
            "needs_background": "light"
          }
        }
      ]
    },
    {
      "cell_type": "markdown",
      "metadata": {
        "id": "kFFeDkARsbMp"
      },
      "source": [
        "From the confusion matrix heatmap, there are 1 false-positive and 108 false-negative predictions. The ratio of true positive to false negative is 1:108. This ratio can be improved by using bootstrap to balance the response variable which will be discussed in assignment03."
      ]
    },
    {
      "cell_type": "markdown",
      "metadata": {
        "id": "b-9-CiWdPkx6"
      },
      "source": [
        "## **2. Using Support Vector Machine Classifier**"
      ]
    },
    {
      "cell_type": "code",
      "metadata": {
        "colab": {
          "base_uri": "https://localhost:8080/"
        },
        "id": "TO75EaNrI1yb",
        "outputId": "c77fa4fa-256b-4fd6-8080-0192b7dc951b"
      },
      "source": [
        "from sklearn.svm import SVC\n",
        "# the gamma parameter defines how far the influence of a single training example reaches, with low values meaning ‘far’ and high values meaning ‘close’.\n",
        "# when gamma=auto that represents gamma's default value which is '1/number_of_features'\n",
        "svm = SVC(gamma='auto')\n",
        "svm.fit(X_train, y_train)\n",
        "svm.score(X_test, y_test)"
      ],
      "execution_count": null,
      "outputs": [
        {
          "output_type": "execute_result",
          "data": {
            "text/plain": [
              "0.881199538638985"
            ]
          },
          "metadata": {},
          "execution_count": 106
        }
      ]
    },
    {
      "cell_type": "markdown",
      "metadata": {
        "id": "rEW0yCYmpyD7"
      },
      "source": [
        "Above the accuracy of the SVM model is shown. SVM uses a technique called the kernel trick to transform data and then based on these transformations it finds an optimal boundary between the possible outputs. So, it does some extremely complex data transformations, then figures out how to seperate the data based on the labels or outputs I've defined [1]."
      ]
    }
  ]
}
