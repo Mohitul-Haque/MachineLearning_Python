{
  "nbformat": 4,
  "nbformat_minor": 0,
  "metadata": {
    "colab": {
      "provenance": []
    },
    "kernelspec": {
      "name": "python3",
      "display_name": "Python 3"
    },
    "language_info": {
      "name": "python"
    }
  },
  "cells": [
    {
      "cell_type": "markdown",
      "source": [
        "# **Overview**\n",
        "\n",
        "1. Univariate analysis\n",
        "\n",
        "2. Bivariate analysis-linear regression\n",
        "\n",
        "3. Selection of most important explanatory variables\n",
        "\n",
        "4. Multiple linear regression for diamond dataset to get a prediction for Professor's diamond requirements."
      ],
      "metadata": {
        "id": "6nwM5LG8M2q1"
      }
    },
    {
      "cell_type": "code",
      "metadata": {
        "id": "nrio33iWCtuf",
        "colab": {
          "base_uri": "https://localhost:8080/"
        },
        "outputId": "a1bb42a1-9384-4478-eda8-7c8d5e74fbc8"
      },
      "source": [
        "import pandas as pd\n",
        "df1 = pd.read_excel ('MBA6636_SM21_Professor_Proposes_Data.xlsx')\n",
        "print (df1)"
      ],
      "execution_count": null,
      "outputs": [
        {
          "output_type": "stream",
          "name": "stdout",
          "text": [
            "     Carat Colour Clarity Cut Certification Polish Symmetry  Price  Wholesaler\n",
            "0     0.92      I     SI2   G           AGS      V        V   3000           1\n",
            "1     0.92      I     SI2   V           AGS      G        G   3000           1\n",
            "2     0.82      F     SI2   I           GIA      X        X   3004           1\n",
            "3     0.81      G     SI1   I           GIA      X        V   3004           1\n",
            "4     0.90      J     VS2   V           GIA      V        V   3006           1\n",
            "..     ...    ...     ...  ..           ...    ...      ...    ...         ...\n",
            "435   0.30      K    VVS1   V           GIA      X        V    547           3\n",
            "436   0.30      H     SI1   G           GIA      V        V    559           3\n",
            "437   0.30      H     SI1   X           GIA      V        V    559           3\n",
            "438   0.30      H     SI1   V           GIA      X        X    559           3\n",
            "439   0.30      H     SI1   X           GIA      V        X    559           3\n",
            "\n",
            "[440 rows x 9 columns]\n"
          ]
        }
      ]
    },
    {
      "cell_type": "markdown",
      "source": [
        "## **Exploratory Data Analysis**"
      ],
      "metadata": {
        "id": "t3lOJjUUFgTt"
      }
    },
    {
      "cell_type": "markdown",
      "source": [
        "# **Univariate Analysis**"
      ],
      "metadata": {
        "id": "HWZXTy39ALFx"
      }
    },
    {
      "cell_type": "code",
      "source": [
        "import seaborn as sns, numpy as np\n",
        "sns.set_theme(); \n",
        "\n",
        "ax = sns.distplot(df1.Price)"
      ],
      "metadata": {
        "colab": {
          "base_uri": "https://localhost:8080/",
          "height": 339
        },
        "id": "OAUVj3IqU3jM",
        "outputId": "f4af2449-1e8b-4213-f231-59225f6a32bb"
      },
      "execution_count": null,
      "outputs": [
        {
          "output_type": "stream",
          "name": "stderr",
          "text": [
            "/usr/local/lib/python3.7/dist-packages/seaborn/distributions.py:2619: FutureWarning: `distplot` is a deprecated function and will be removed in a future version. Please adapt your code to use either `displot` (a figure-level function with similar flexibility) or `histplot` (an axes-level function for histograms).\n",
            "  warnings.warn(msg, FutureWarning)\n"
          ]
        },
        {
          "output_type": "display_data",
          "data": {
            "image/png": "[encoded data removed]",
            "text/plain": [
              "<Figure size 432x288 with 1 Axes>"
            ]
          },
          "metadata": {}
        }
      ]
    },
    {
      "cell_type": "markdown",
      "source": [
        "Here we can observe that the price has a bimodal distribution"
      ],
      "metadata": {
        "id": "IMb62D4HAcFv"
      }
    },
    {
      "cell_type": "code",
      "source": [
        "df1['Price'].describe()"
      ],
      "metadata": {
        "colab": {
          "base_uri": "https://localhost:8080/"
        },
        "id": "NKpmVQDtVMJN",
        "outputId": "331d2d72-cd0e-4d8d-ca2b-bc14f5cc53c9"
      },
      "execution_count": null,
      "outputs": [
        {
          "output_type": "execute_result",
          "data": {
            "text/plain": [
              "count     440.000000\n",
              "mean     1716.738636\n",
              "std      1175.689127\n",
              "min       160.000000\n",
              "25%       520.000000\n",
              "50%      2169.000000\n",
              "75%      3012.500000\n",
              "max      3145.000000\n",
              "Name: Price, dtype: float64"
            ]
          },
          "metadata": {},
          "execution_count": 5
        }
      ]
    },
    {
      "cell_type": "code",
      "source": [
        "ax = sns.distplot(df1.Carat)"
      ],
      "metadata": {
        "colab": {
          "base_uri": "https://localhost:8080/",
          "height": 339
        },
        "id": "9HNvTSoZ-2sI",
        "outputId": "68d6c1fe-b690-46a5-a83c-f50cd4d60c3d"
      },
      "execution_count": null,
      "outputs": [
        {
          "output_type": "stream",
          "name": "stderr",
          "text": [
            "/usr/local/lib/python3.7/dist-packages/seaborn/distributions.py:2619: FutureWarning: `distplot` is a deprecated function and will be removed in a future version. Please adapt your code to use either `displot` (a figure-level function with similar flexibility) or `histplot` (an axes-level function for histograms).\n",
            "  warnings.warn(msg, FutureWarning)\n"
          ]
        },
        {
          "output_type": "display_data",
          "data": {
            "image/png": "[encoded data removed]",
            "text/plain": [
              "<Figure size 432x288 with 1 Axes>"
            ]
          },
          "metadata": {}
        }
      ]
    },
    {
      "cell_type": "markdown",
      "source": [
        "Here we can observe that the carat has a bimodal distribution"
      ],
      "metadata": {
        "id": "V2mWcJ4LBuSY"
      }
    },
    {
      "cell_type": "code",
      "source": [
        "df1['Carat'].describe()\n"
      ],
      "metadata": {
        "colab": {
          "base_uri": "https://localhost:8080/"
        },
        "id": "hEL5BhO_-7Mm",
        "outputId": "d199a761-6bbe-4f35-fdaa-c59578e2f24f"
      },
      "execution_count": null,
      "outputs": [
        {
          "output_type": "execute_result",
          "data": {
            "text/plain": [
              "count    440.00000\n",
              "mean       0.66925\n",
              "std        0.37980\n",
              "min        0.09000\n",
              "25%        0.30000\n",
              "50%        0.81000\n",
              "75%        1.01000\n",
              "max        1.58000\n",
              "Name: Carat, dtype: float64"
            ]
          },
          "metadata": {},
          "execution_count": 7
        }
      ]
    },
    {
      "cell_type": "code",
      "source": [
        "\n",
        "df1['Clarity']\n"
      ],
      "metadata": {
        "colab": {
          "base_uri": "https://localhost:8080/"
        },
        "id": "vn3CsjT0ARY0",
        "outputId": "6c0e20cb-06fc-4888-8774-054e514a78a4"
      },
      "execution_count": null,
      "outputs": [
        {
          "output_type": "execute_result",
          "data": {
            "text/plain": [
              "0       SI2\n",
              "1       SI2\n",
              "2       SI2\n",
              "3       SI1\n",
              "4       VS2\n",
              "       ... \n",
              "435    VVS1\n",
              "436     SI1\n",
              "437     SI1\n",
              "438     SI1\n",
              "439     SI1\n",
              "Name: Clarity, Length: 440, dtype: object"
            ]
          },
          "metadata": {},
          "execution_count": 8
        }
      ]
    },
    {
      "cell_type": "code",
      "source": [
        "import seaborn as sns\n",
        "import matplotlib.pyplot as plt\n",
        " \n",
        " \n",
        "# count plot on single categorical variable\n",
        "sns.countplot(x ='Clarity', data = df1)\n",
        " \n",
        "# Show the plot\n",
        "plt.show()"
      ],
      "metadata": {
        "colab": {
          "base_uri": "https://localhost:8080/",
          "height": 285
        },
        "id": "ff7CBNdnCP0V",
        "outputId": "1dbc514e-a088-4054-a16e-424d5a9b6f2b"
      },
      "execution_count": null,
      "outputs": [
        {
          "output_type": "display_data",
          "data": {
            "image/png": "[encoded data removed]",
            "text/plain": [
              "<Figure size 432x288 with 1 Axes>"
            ]
          },
          "metadata": {}
        }
      ]
    },
    {
      "cell_type": "markdown",
      "source": [
        "Here, we basically observe the individual counts of Clarity which states that SL1 has the most counts and WS1 has the lowest counts"
      ],
      "metadata": {
        "id": "yR7A414BDa3M"
      }
    },
    {
      "cell_type": "markdown",
      "source": [
        "Here, we are putting dummy variables in clarity as the level of importance of the clarity parameter. Where '1' signifies 'very few inclusions visible' which is I1 and '9' signifies 'very few inclusions at 30X'"
      ],
      "metadata": {
        "id": "e-3cDllvF5Tb"
      }
    },
    {
      "cell_type": "code",
      "source": [
        "df1[\"Clarity\"].replace({\"I1\": \"1\", \"I2\": \"2\", \"SI1\": \"3\", \"SI2\": \"4\", \"SI3\": \"5\", \"VS1\": \"6\", \"VS2\": \"7\", \"VVS1\": \"8\", \"VVS2\": \"9\"}, inplace=True)\n",
        "df1"
      ],
      "metadata": {
        "colab": {
          "base_uri": "https://localhost:8080/",
          "height": 423
        },
        "id": "NjlgbIWFAkzE",
        "outputId": "6e3209d4-207c-4672-83a9-424a93f44f60"
      },
      "execution_count": null,
      "outputs": [
        {
          "output_type": "execute_result",
          "data": {
            "text/html": [
              "<div>\n",
              "<style scoped>\n",
              "    .dataframe tbody tr th:only-of-type {\n",
              "        vertical-align: middle;\n",
              "    }\n",
              "\n",
              "    .dataframe tbody tr th {\n",
              "        vertical-align: top;\n",
              "    }\n",
              "\n",
              "    .dataframe thead th {\n",
              "        text-align: right;\n",
              "    }\n",
              "</style>\n",
              "<table border=\"1\" class=\"dataframe\">\n",
              "  <thead>\n",
              "    <tr style=\"text-align: right;\">\n",
              "      <th></th>\n",
              "      <th>Carat</th>\n",
              "      <th>Colour</th>\n",
              "      <th>Clarity</th>\n",
              "      <th>Cut</th>\n",
              "      <th>Certification</th>\n",
              "      <th>Polish</th>\n",
              "      <th>Symmetry</th>\n",
              "      <th>Price</th>\n",
              "      <th>Wholesaler</th>\n",
              "    </tr>\n",
              "  </thead>\n",
              "  <tbody>\n",
              "    <tr>\n",
              "      <th>0</th>\n",
              "      <td>0.92</td>\n",
              "      <td>I</td>\n",
              "      <td>4</td>\n",
              "      <td>G</td>\n",
              "      <td>AGS</td>\n",
              "      <td>V</td>\n",
              "      <td>V</td>\n",
              "      <td>3000</td>\n",
              "      <td>1</td>\n",
              "    </tr>\n",
              "    <tr>\n",
              "      <th>1</th>\n",
              "      <td>0.92</td>\n",
              "      <td>I</td>\n",
              "      <td>4</td>\n",
              "      <td>V</td>\n",
              "      <td>AGS</td>\n",
              "      <td>G</td>\n",
              "      <td>G</td>\n",
              "      <td>3000</td>\n",
              "      <td>1</td>\n",
              "    </tr>\n",
              "    <tr>\n",
              "      <th>2</th>\n",
              "      <td>0.82</td>\n",
              "      <td>F</td>\n",
              "      <td>4</td>\n",
              "      <td>I</td>\n",
              "      <td>GIA</td>\n",
              "      <td>X</td>\n",
              "      <td>X</td>\n",
              "      <td>3004</td>\n",
              "      <td>1</td>\n",
              "    </tr>\n",
              "    <tr>\n",
              "      <th>3</th>\n",
              "      <td>0.81</td>\n",
              "      <td>G</td>\n",
              "      <td>3</td>\n",
              "      <td>I</td>\n",
              "      <td>GIA</td>\n",
              "      <td>X</td>\n",
              "      <td>V</td>\n",
              "      <td>3004</td>\n",
              "      <td>1</td>\n",
              "    </tr>\n",
              "    <tr>\n",
              "      <th>4</th>\n",
              "      <td>0.90</td>\n",
              "      <td>J</td>\n",
              "      <td>7</td>\n",
              "      <td>V</td>\n",
              "      <td>GIA</td>\n",
              "      <td>V</td>\n",
              "      <td>V</td>\n",
              "      <td>3006</td>\n",
              "      <td>1</td>\n",
              "    </tr>\n",
              "    <tr>\n",
              "      <th>...</th>\n",
              "      <td>...</td>\n",
              "      <td>...</td>\n",
              "      <td>...</td>\n",
              "      <td>...</td>\n",
              "      <td>...</td>\n",
              "      <td>...</td>\n",
              "      <td>...</td>\n",
              "      <td>...</td>\n",
              "      <td>...</td>\n",
              "    </tr>\n",
              "    <tr>\n",
              "      <th>435</th>\n",
              "      <td>0.30</td>\n",
              "      <td>K</td>\n",
              "      <td>8</td>\n",
              "      <td>V</td>\n",
              "      <td>GIA</td>\n",
              "      <td>X</td>\n",
              "      <td>V</td>\n",
              "      <td>547</td>\n",
              "      <td>3</td>\n",
              "    </tr>\n",
              "    <tr>\n",
              "      <th>436</th>\n",
              "      <td>0.30</td>\n",
              "      <td>H</td>\n",
              "      <td>3</td>\n",
              "      <td>G</td>\n",
              "      <td>GIA</td>\n",
              "      <td>V</td>\n",
              "      <td>V</td>\n",
              "      <td>559</td>\n",
              "      <td>3</td>\n",
              "    </tr>\n",
              "    <tr>\n",
              "      <th>437</th>\n",
              "      <td>0.30</td>\n",
              "      <td>H</td>\n",
              "      <td>3</td>\n",
              "      <td>X</td>\n",
              "      <td>GIA</td>\n",
              "      <td>V</td>\n",
              "      <td>V</td>\n",
              "      <td>559</td>\n",
              "      <td>3</td>\n",
              "    </tr>\n",
              "    <tr>\n",
              "      <th>438</th>\n",
              "      <td>0.30</td>\n",
              "      <td>H</td>\n",
              "      <td>3</td>\n",
              "      <td>V</td>\n",
              "      <td>GIA</td>\n",
              "      <td>X</td>\n",
              "      <td>X</td>\n",
              "      <td>559</td>\n",
              "      <td>3</td>\n",
              "    </tr>\n",
              "    <tr>\n",
              "      <th>439</th>\n",
              "      <td>0.30</td>\n",
              "      <td>H</td>\n",
              "      <td>3</td>\n",
              "      <td>X</td>\n",
              "      <td>GIA</td>\n",
              "      <td>V</td>\n",
              "      <td>X</td>\n",
              "      <td>559</td>\n",
              "      <td>3</td>\n",
              "    </tr>\n",
              "  </tbody>\n",
              "</table>\n",
              "<p>440 rows × 9 columns</p>\n",
              "</div>"
            ],
            "text/plain": [
              "     Carat Colour Clarity Cut Certification Polish Symmetry  Price  Wholesaler\n",
              "0     0.92      I       4   G           AGS      V        V   3000           1\n",
              "1     0.92      I       4   V           AGS      G        G   3000           1\n",
              "2     0.82      F       4   I           GIA      X        X   3004           1\n",
              "3     0.81      G       3   I           GIA      X        V   3004           1\n",
              "4     0.90      J       7   V           GIA      V        V   3006           1\n",
              "..     ...    ...     ...  ..           ...    ...      ...    ...         ...\n",
              "435   0.30      K       8   V           GIA      X        V    547           3\n",
              "436   0.30      H       3   G           GIA      V        V    559           3\n",
              "437   0.30      H       3   X           GIA      V        V    559           3\n",
              "438   0.30      H       3   V           GIA      X        X    559           3\n",
              "439   0.30      H       3   X           GIA      V        X    559           3\n",
              "\n",
              "[440 rows x 9 columns]"
            ]
          },
          "metadata": {},
          "execution_count": 10
        }
      ]
    },
    {
      "cell_type": "markdown",
      "source": [],
      "metadata": {
        "id": "5sSSflA4Fpep"
      }
    },
    {
      "cell_type": "code",
      "source": [
        "# count plot on single categorical variable\n",
        "sns.countplot(x ='Colour', data = df1)\n",
        " \n",
        "# Show the plot\n",
        "plt.show()"
      ],
      "metadata": {
        "colab": {
          "base_uri": "https://localhost:8080/",
          "height": 284
        },
        "id": "gDp4xKXzgTEy",
        "outputId": "157a64bf-273e-4daa-b0dc-75dfa1b3ceb5"
      },
      "execution_count": null,
      "outputs": [
        {
          "output_type": "display_data",
          "data": {
            "image/png": "[encoded data removed]",
            "text/plain": [
              "<Figure size 432x288 with 1 Axes>"
            ]
          },
          "metadata": {}
        }
      ]
    },
    {
      "cell_type": "markdown",
      "source": [
        "Here, we basically observe the individual counts of Colour which states that I has the most counts and L has the lowest counts"
      ],
      "metadata": {
        "id": "DzFLtZnnGj1S"
      }
    },
    {
      "cell_type": "markdown",
      "source": [
        "Here, we are putting dummy variables in colou as the level of importance of the colour parameters where we classify them into two classes 'Colorless' and 'yellow'. Where '1' signifies 'yellow' and '2' signifies 'Colorless'"
      ],
      "metadata": {
        "id": "aRPje_6xGkIA"
      }
    },
    {
      "cell_type": "code",
      "source": [
        "df1[\"Colour\"].replace({\"D\": \"2\", \"E\": \"2\", \"F\": \"2\", \"G\": \"2\", \"H\": \"2\", \"I\": \"2\", \"J\": \"1\", \"K\": \"1\", \"L\": \"1\"}, inplace=True)\n",
        "df1"
      ],
      "metadata": {
        "colab": {
          "base_uri": "https://localhost:8080/",
          "height": 423
        },
        "id": "-c7siaCui-YX",
        "outputId": "ec58e763-d61c-4cf7-b43c-6d53957b9a1f"
      },
      "execution_count": null,
      "outputs": [
        {
          "output_type": "execute_result",
          "data": {
            "text/html": [
              "<div>\n",
              "<style scoped>\n",
              "    .dataframe tbody tr th:only-of-type {\n",
              "        vertical-align: middle;\n",
              "    }\n",
              "\n",
              "    .dataframe tbody tr th {\n",
              "        vertical-align: top;\n",
              "    }\n",
              "\n",
              "    .dataframe thead th {\n",
              "        text-align: right;\n",
              "    }\n",
              "</style>\n",
              "<table border=\"1\" class=\"dataframe\">\n",
              "  <thead>\n",
              "    <tr style=\"text-align: right;\">\n",
              "      <th></th>\n",
              "      <th>Carat</th>\n",
              "      <th>Colour</th>\n",
              "      <th>Clarity</th>\n",
              "      <th>Cut</th>\n",
              "      <th>Certification</th>\n",
              "      <th>Polish</th>\n",
              "      <th>Symmetry</th>\n",
              "      <th>Price</th>\n",
              "      <th>Wholesaler</th>\n",
              "    </tr>\n",
              "  </thead>\n",
              "  <tbody>\n",
              "    <tr>\n",
              "      <th>0</th>\n",
              "      <td>0.92</td>\n",
              "      <td>2</td>\n",
              "      <td>4</td>\n",
              "      <td>G</td>\n",
              "      <td>AGS</td>\n",
              "      <td>V</td>\n",
              "      <td>V</td>\n",
              "      <td>3000</td>\n",
              "      <td>1</td>\n",
              "    </tr>\n",
              "    <tr>\n",
              "      <th>1</th>\n",
              "      <td>0.92</td>\n",
              "      <td>2</td>\n",
              "      <td>4</td>\n",
              "      <td>V</td>\n",
              "      <td>AGS</td>\n",
              "      <td>G</td>\n",
              "      <td>G</td>\n",
              "      <td>3000</td>\n",
              "      <td>1</td>\n",
              "    </tr>\n",
              "    <tr>\n",
              "      <th>2</th>\n",
              "      <td>0.82</td>\n",
              "      <td>2</td>\n",
              "      <td>4</td>\n",
              "      <td>I</td>\n",
              "      <td>GIA</td>\n",
              "      <td>X</td>\n",
              "      <td>X</td>\n",
              "      <td>3004</td>\n",
              "      <td>1</td>\n",
              "    </tr>\n",
              "    <tr>\n",
              "      <th>3</th>\n",
              "      <td>0.81</td>\n",
              "      <td>2</td>\n",
              "      <td>3</td>\n",
              "      <td>I</td>\n",
              "      <td>GIA</td>\n",
              "      <td>X</td>\n",
              "      <td>V</td>\n",
              "      <td>3004</td>\n",
              "      <td>1</td>\n",
              "    </tr>\n",
              "    <tr>\n",
              "      <th>4</th>\n",
              "      <td>0.90</td>\n",
              "      <td>1</td>\n",
              "      <td>7</td>\n",
              "      <td>V</td>\n",
              "      <td>GIA</td>\n",
              "      <td>V</td>\n",
              "      <td>V</td>\n",
              "      <td>3006</td>\n",
              "      <td>1</td>\n",
              "    </tr>\n",
              "    <tr>\n",
              "      <th>...</th>\n",
              "      <td>...</td>\n",
              "      <td>...</td>\n",
              "      <td>...</td>\n",
              "      <td>...</td>\n",
              "      <td>...</td>\n",
              "      <td>...</td>\n",
              "      <td>...</td>\n",
              "      <td>...</td>\n",
              "      <td>...</td>\n",
              "    </tr>\n",
              "    <tr>\n",
              "      <th>435</th>\n",
              "      <td>0.30</td>\n",
              "      <td>1</td>\n",
              "      <td>8</td>\n",
              "      <td>V</td>\n",
              "      <td>GIA</td>\n",
              "      <td>X</td>\n",
              "      <td>V</td>\n",
              "      <td>547</td>\n",
              "      <td>3</td>\n",
              "    </tr>\n",
              "    <tr>\n",
              "      <th>436</th>\n",
              "      <td>0.30</td>\n",
              "      <td>2</td>\n",
              "      <td>3</td>\n",
              "      <td>G</td>\n",
              "      <td>GIA</td>\n",
              "      <td>V</td>\n",
              "      <td>V</td>\n",
              "      <td>559</td>\n",
              "      <td>3</td>\n",
              "    </tr>\n",
              "    <tr>\n",
              "      <th>437</th>\n",
              "      <td>0.30</td>\n",
              "      <td>2</td>\n",
              "      <td>3</td>\n",
              "      <td>X</td>\n",
              "      <td>GIA</td>\n",
              "      <td>V</td>\n",
              "      <td>V</td>\n",
              "      <td>559</td>\n",
              "      <td>3</td>\n",
              "    </tr>\n",
              "    <tr>\n",
              "      <th>438</th>\n",
              "      <td>0.30</td>\n",
              "      <td>2</td>\n",
              "      <td>3</td>\n",
              "      <td>V</td>\n",
              "      <td>GIA</td>\n",
              "      <td>X</td>\n",
              "      <td>X</td>\n",
              "      <td>559</td>\n",
              "      <td>3</td>\n",
              "    </tr>\n",
              "    <tr>\n",
              "      <th>439</th>\n",
              "      <td>0.30</td>\n",
              "      <td>2</td>\n",
              "      <td>3</td>\n",
              "      <td>X</td>\n",
              "      <td>GIA</td>\n",
              "      <td>V</td>\n",
              "      <td>X</td>\n",
              "      <td>559</td>\n",
              "      <td>3</td>\n",
              "    </tr>\n",
              "  </tbody>\n",
              "</table>\n",
              "<p>440 rows × 9 columns</p>\n",
              "</div>"
            ],
            "text/plain": [
              "     Carat Colour Clarity Cut Certification Polish Symmetry  Price  Wholesaler\n",
              "0     0.92      2       4   G           AGS      V        V   3000           1\n",
              "1     0.92      2       4   V           AGS      G        G   3000           1\n",
              "2     0.82      2       4   I           GIA      X        X   3004           1\n",
              "3     0.81      2       3   I           GIA      X        V   3004           1\n",
              "4     0.90      1       7   V           GIA      V        V   3006           1\n",
              "..     ...    ...     ...  ..           ...    ...      ...    ...         ...\n",
              "435   0.30      1       8   V           GIA      X        V    547           3\n",
              "436   0.30      2       3   G           GIA      V        V    559           3\n",
              "437   0.30      2       3   X           GIA      V        V    559           3\n",
              "438   0.30      2       3   V           GIA      X        X    559           3\n",
              "439   0.30      2       3   X           GIA      V        X    559           3\n",
              "\n",
              "[440 rows x 9 columns]"
            ]
          },
          "metadata": {},
          "execution_count": 13
        }
      ]
    },
    {
      "cell_type": "code",
      "source": [
        "# count plot on single categorical variable\n",
        "sns.countplot(x ='Certification', data = df1)\n",
        " \n",
        "# Show the plot\n",
        "plt.show()"
      ],
      "metadata": {
        "colab": {
          "base_uri": "https://localhost:8080/",
          "height": 284
        },
        "id": "gqqMRED0jF81",
        "outputId": "6ede767a-e95e-4164-8e5c-084d05fde1fb"
      },
      "execution_count": null,
      "outputs": [
        {
          "output_type": "display_data",
          "data": {
            "image/png": "[encoded data removed]",
            "text/plain": [
              "<Figure size 432x288 with 1 Axes>"
            ]
          },
          "metadata": {}
        }
      ]
    },
    {
      "cell_type": "markdown",
      "source": [
        "Here, we basically observe the individual counts of Certification which states that GIA has the most counts and AGS has the lowest counts"
      ],
      "metadata": {
        "id": "_vUqu570HJQZ"
      }
    },
    {
      "cell_type": "markdown",
      "source": [
        "Here, we are putting dummy variables in colour as the level of importance of the certificate parameters where we classify them into two classes 'AGS-GIA' and 'rest of the parameters'. Where '1' signifies 'rest of the parameters' and '2' is 'AGS-GIA'"
      ],
      "metadata": {
        "id": "c0XAMZgrKt6B"
      }
    },
    {
      "cell_type": "code",
      "source": [
        "df1[\"Certification\"].replace({\"AGS\": \"2\", \"GIA\": \"2\", \"IGI\": \"1\", \"EGL\": \"1\",\"DOW\": \"1\" }, inplace=True)\n",
        "df1"
      ],
      "metadata": {
        "colab": {
          "base_uri": "https://localhost:8080/",
          "height": 423
        },
        "id": "G24WmMGk7p9b",
        "outputId": "ee007bcc-10b2-41fa-e19c-920cc149c748"
      },
      "execution_count": null,
      "outputs": [
        {
          "output_type": "execute_result",
          "data": {
            "text/html": [
              "<div>\n",
              "<style scoped>\n",
              "    .dataframe tbody tr th:only-of-type {\n",
              "        vertical-align: middle;\n",
              "    }\n",
              "\n",
              "    .dataframe tbody tr th {\n",
              "        vertical-align: top;\n",
              "    }\n",
              "\n",
              "    .dataframe thead th {\n",
              "        text-align: right;\n",
              "    }\n",
              "</style>\n",
              "<table border=\"1\" class=\"dataframe\">\n",
              "  <thead>\n",
              "    <tr style=\"text-align: right;\">\n",
              "      <th></th>\n",
              "      <th>Carat</th>\n",
              "      <th>Colour</th>\n",
              "      <th>Clarity</th>\n",
              "      <th>Cut</th>\n",
              "      <th>Certification</th>\n",
              "      <th>Polish</th>\n",
              "      <th>Symmetry</th>\n",
              "      <th>Price</th>\n",
              "      <th>Wholesaler</th>\n",
              "    </tr>\n",
              "  </thead>\n",
              "  <tbody>\n",
              "    <tr>\n",
              "      <th>0</th>\n",
              "      <td>0.92</td>\n",
              "      <td>2</td>\n",
              "      <td>4</td>\n",
              "      <td>G</td>\n",
              "      <td>2</td>\n",
              "      <td>V</td>\n",
              "      <td>V</td>\n",
              "      <td>3000</td>\n",
              "      <td>1</td>\n",
              "    </tr>\n",
              "    <tr>\n",
              "      <th>1</th>\n",
              "      <td>0.92</td>\n",
              "      <td>2</td>\n",
              "      <td>4</td>\n",
              "      <td>V</td>\n",
              "      <td>2</td>\n",
              "      <td>G</td>\n",
              "      <td>G</td>\n",
              "      <td>3000</td>\n",
              "      <td>1</td>\n",
              "    </tr>\n",
              "    <tr>\n",
              "      <th>2</th>\n",
              "      <td>0.82</td>\n",
              "      <td>2</td>\n",
              "      <td>4</td>\n",
              "      <td>I</td>\n",
              "      <td>2</td>\n",
              "      <td>X</td>\n",
              "      <td>X</td>\n",
              "      <td>3004</td>\n",
              "      <td>1</td>\n",
              "    </tr>\n",
              "    <tr>\n",
              "      <th>3</th>\n",
              "      <td>0.81</td>\n",
              "      <td>2</td>\n",
              "      <td>3</td>\n",
              "      <td>I</td>\n",
              "      <td>2</td>\n",
              "      <td>X</td>\n",
              "      <td>V</td>\n",
              "      <td>3004</td>\n",
              "      <td>1</td>\n",
              "    </tr>\n",
              "    <tr>\n",
              "      <th>4</th>\n",
              "      <td>0.90</td>\n",
              "      <td>1</td>\n",
              "      <td>7</td>\n",
              "      <td>V</td>\n",
              "      <td>2</td>\n",
              "      <td>V</td>\n",
              "      <td>V</td>\n",
              "      <td>3006</td>\n",
              "      <td>1</td>\n",
              "    </tr>\n",
              "    <tr>\n",
              "      <th>...</th>\n",
              "      <td>...</td>\n",
              "      <td>...</td>\n",
              "      <td>...</td>\n",
              "      <td>...</td>\n",
              "      <td>...</td>\n",
              "      <td>...</td>\n",
              "      <td>...</td>\n",
              "      <td>...</td>\n",
              "      <td>...</td>\n",
              "    </tr>\n",
              "    <tr>\n",
              "      <th>435</th>\n",
              "      <td>0.30</td>\n",
              "      <td>1</td>\n",
              "      <td>8</td>\n",
              "      <td>V</td>\n",
              "      <td>2</td>\n",
              "      <td>X</td>\n",
              "      <td>V</td>\n",
              "      <td>547</td>\n",
              "      <td>3</td>\n",
              "    </tr>\n",
              "    <tr>\n",
              "      <th>436</th>\n",
              "      <td>0.30</td>\n",
              "      <td>2</td>\n",
              "      <td>3</td>\n",
              "      <td>G</td>\n",
              "      <td>2</td>\n",
              "      <td>V</td>\n",
              "      <td>V</td>\n",
              "      <td>559</td>\n",
              "      <td>3</td>\n",
              "    </tr>\n",
              "    <tr>\n",
              "      <th>437</th>\n",
              "      <td>0.30</td>\n",
              "      <td>2</td>\n",
              "      <td>3</td>\n",
              "      <td>X</td>\n",
              "      <td>2</td>\n",
              "      <td>V</td>\n",
              "      <td>V</td>\n",
              "      <td>559</td>\n",
              "      <td>3</td>\n",
              "    </tr>\n",
              "    <tr>\n",
              "      <th>438</th>\n",
              "      <td>0.30</td>\n",
              "      <td>2</td>\n",
              "      <td>3</td>\n",
              "      <td>V</td>\n",
              "      <td>2</td>\n",
              "      <td>X</td>\n",
              "      <td>X</td>\n",
              "      <td>559</td>\n",
              "      <td>3</td>\n",
              "    </tr>\n",
              "    <tr>\n",
              "      <th>439</th>\n",
              "      <td>0.30</td>\n",
              "      <td>2</td>\n",
              "      <td>3</td>\n",
              "      <td>X</td>\n",
              "      <td>2</td>\n",
              "      <td>V</td>\n",
              "      <td>X</td>\n",
              "      <td>559</td>\n",
              "      <td>3</td>\n",
              "    </tr>\n",
              "  </tbody>\n",
              "</table>\n",
              "<p>440 rows × 9 columns</p>\n",
              "</div>"
            ],
            "text/plain": [
              "     Carat Colour Clarity Cut Certification Polish Symmetry  Price  Wholesaler\n",
              "0     0.92      2       4   G             2      V        V   3000           1\n",
              "1     0.92      2       4   V             2      G        G   3000           1\n",
              "2     0.82      2       4   I             2      X        X   3004           1\n",
              "3     0.81      2       3   I             2      X        V   3004           1\n",
              "4     0.90      1       7   V             2      V        V   3006           1\n",
              "..     ...    ...     ...  ..           ...    ...      ...    ...         ...\n",
              "435   0.30      1       8   V             2      X        V    547           3\n",
              "436   0.30      2       3   G             2      V        V    559           3\n",
              "437   0.30      2       3   X             2      V        V    559           3\n",
              "438   0.30      2       3   V             2      X        X    559           3\n",
              "439   0.30      2       3   X             2      V        X    559           3\n",
              "\n",
              "[440 rows x 9 columns]"
            ]
          },
          "metadata": {},
          "execution_count": 15
        }
      ]
    },
    {
      "cell_type": "code",
      "source": [
        "# count plot on single categorical variable\n",
        "sns.countplot(x ='Cut', data = df1)\n",
        " \n",
        "# Show the plot\n",
        "plt.show()"
      ],
      "metadata": {
        "colab": {
          "base_uri": "https://localhost:8080/",
          "height": 284
        },
        "id": "DRlIHb_w7_g5",
        "outputId": "9dda8835-c6ae-4291-dda0-e3cdba48f358"
      },
      "execution_count": null,
      "outputs": [
        {
          "output_type": "display_data",
          "data": {
            "image/png": "[encoded data removed]",
            "text/plain": [
              "<Figure size 432x288 with 1 Axes>"
            ]
          },
          "metadata": {}
        }
      ]
    },
    {
      "cell_type": "markdown",
      "source": [
        "Here, we basically observe the individual counts of Cut which states that X has the most counts and G has the lowest counts"
      ],
      "metadata": {
        "id": "sGVVRG4AHQI4"
      }
    },
    {
      "cell_type": "markdown",
      "source": [
        "Here, we are putting dummy variables in cut as the level of importance of the cut parameters where we classify them into two categories 'Fair-Good' and 'Very good-ideal of the parameters'. Where '1' signifies 'Fair-Good' which is and '2' 'Very good-ideal of the parameters'"
      ],
      "metadata": {
        "id": "EMq6VbDfLGbm"
      }
    },
    {
      "cell_type": "code",
      "source": [
        "df1[\"Cut\"].replace({\"F\": \"1\", \"G\": \"1\", \"V\": \"2\", \"X\": \"2\", \"I\": \"2\"}, inplace=True)\n",
        "df1"
      ],
      "metadata": {
        "colab": {
          "base_uri": "https://localhost:8080/",
          "height": 423
        },
        "id": "Y2_ck_dR7v88",
        "outputId": "4209e016-ab74-4185-b741-911f1b2eaa83"
      },
      "execution_count": null,
      "outputs": [
        {
          "output_type": "execute_result",
          "data": {
            "text/html": [
              "<div>\n",
              "<style scoped>\n",
              "    .dataframe tbody tr th:only-of-type {\n",
              "        vertical-align: middle;\n",
              "    }\n",
              "\n",
              "    .dataframe tbody tr th {\n",
              "        vertical-align: top;\n",
              "    }\n",
              "\n",
              "    .dataframe thead th {\n",
              "        text-align: right;\n",
              "    }\n",
              "</style>\n",
              "<table border=\"1\" class=\"dataframe\">\n",
              "  <thead>\n",
              "    <tr style=\"text-align: right;\">\n",
              "      <th></th>\n",
              "      <th>Carat</th>\n",
              "      <th>Colour</th>\n",
              "      <th>Clarity</th>\n",
              "      <th>Cut</th>\n",
              "      <th>Certification</th>\n",
              "      <th>Polish</th>\n",
              "      <th>Symmetry</th>\n",
              "      <th>Price</th>\n",
              "      <th>Wholesaler</th>\n",
              "    </tr>\n",
              "  </thead>\n",
              "  <tbody>\n",
              "    <tr>\n",
              "      <th>0</th>\n",
              "      <td>0.92</td>\n",
              "      <td>2</td>\n",
              "      <td>4</td>\n",
              "      <td>1</td>\n",
              "      <td>2</td>\n",
              "      <td>V</td>\n",
              "      <td>V</td>\n",
              "      <td>3000</td>\n",
              "      <td>1</td>\n",
              "    </tr>\n",
              "    <tr>\n",
              "      <th>1</th>\n",
              "      <td>0.92</td>\n",
              "      <td>2</td>\n",
              "      <td>4</td>\n",
              "      <td>2</td>\n",
              "      <td>2</td>\n",
              "      <td>G</td>\n",
              "      <td>G</td>\n",
              "      <td>3000</td>\n",
              "      <td>1</td>\n",
              "    </tr>\n",
              "    <tr>\n",
              "      <th>2</th>\n",
              "      <td>0.82</td>\n",
              "      <td>2</td>\n",
              "      <td>4</td>\n",
              "      <td>2</td>\n",
              "      <td>2</td>\n",
              "      <td>X</td>\n",
              "      <td>X</td>\n",
              "      <td>3004</td>\n",
              "      <td>1</td>\n",
              "    </tr>\n",
              "    <tr>\n",
              "      <th>3</th>\n",
              "      <td>0.81</td>\n",
              "      <td>2</td>\n",
              "      <td>3</td>\n",
              "      <td>2</td>\n",
              "      <td>2</td>\n",
              "      <td>X</td>\n",
              "      <td>V</td>\n",
              "      <td>3004</td>\n",
              "      <td>1</td>\n",
              "    </tr>\n",
              "    <tr>\n",
              "      <th>4</th>\n",
              "      <td>0.90</td>\n",
              "      <td>1</td>\n",
              "      <td>7</td>\n",
              "      <td>2</td>\n",
              "      <td>2</td>\n",
              "      <td>V</td>\n",
              "      <td>V</td>\n",
              "      <td>3006</td>\n",
              "      <td>1</td>\n",
              "    </tr>\n",
              "    <tr>\n",
              "      <th>...</th>\n",
              "      <td>...</td>\n",
              "      <td>...</td>\n",
              "      <td>...</td>\n",
              "      <td>...</td>\n",
              "      <td>...</td>\n",
              "      <td>...</td>\n",
              "      <td>...</td>\n",
              "      <td>...</td>\n",
              "      <td>...</td>\n",
              "    </tr>\n",
              "    <tr>\n",
              "      <th>435</th>\n",
              "      <td>0.30</td>\n",
              "      <td>1</td>\n",
              "      <td>8</td>\n",
              "      <td>2</td>\n",
              "      <td>2</td>\n",
              "      <td>X</td>\n",
              "      <td>V</td>\n",
              "      <td>547</td>\n",
              "      <td>3</td>\n",
              "    </tr>\n",
              "    <tr>\n",
              "      <th>436</th>\n",
              "      <td>0.30</td>\n",
              "      <td>2</td>\n",
              "      <td>3</td>\n",
              "      <td>1</td>\n",
              "      <td>2</td>\n",
              "      <td>V</td>\n",
              "      <td>V</td>\n",
              "      <td>559</td>\n",
              "      <td>3</td>\n",
              "    </tr>\n",
              "    <tr>\n",
              "      <th>437</th>\n",
              "      <td>0.30</td>\n",
              "      <td>2</td>\n",
              "      <td>3</td>\n",
              "      <td>2</td>\n",
              "      <td>2</td>\n",
              "      <td>V</td>\n",
              "      <td>V</td>\n",
              "      <td>559</td>\n",
              "      <td>3</td>\n",
              "    </tr>\n",
              "    <tr>\n",
              "      <th>438</th>\n",
              "      <td>0.30</td>\n",
              "      <td>2</td>\n",
              "      <td>3</td>\n",
              "      <td>2</td>\n",
              "      <td>2</td>\n",
              "      <td>X</td>\n",
              "      <td>X</td>\n",
              "      <td>559</td>\n",
              "      <td>3</td>\n",
              "    </tr>\n",
              "    <tr>\n",
              "      <th>439</th>\n",
              "      <td>0.30</td>\n",
              "      <td>2</td>\n",
              "      <td>3</td>\n",
              "      <td>2</td>\n",
              "      <td>2</td>\n",
              "      <td>V</td>\n",
              "      <td>X</td>\n",
              "      <td>559</td>\n",
              "      <td>3</td>\n",
              "    </tr>\n",
              "  </tbody>\n",
              "</table>\n",
              "<p>440 rows × 9 columns</p>\n",
              "</div>"
            ],
            "text/plain": [
              "     Carat Colour Clarity Cut Certification Polish Symmetry  Price  Wholesaler\n",
              "0     0.92      2       4   1             2      V        V   3000           1\n",
              "1     0.92      2       4   2             2      G        G   3000           1\n",
              "2     0.82      2       4   2             2      X        X   3004           1\n",
              "3     0.81      2       3   2             2      X        V   3004           1\n",
              "4     0.90      1       7   2             2      V        V   3006           1\n",
              "..     ...    ...     ...  ..           ...    ...      ...    ...         ...\n",
              "435   0.30      1       8   2             2      X        V    547           3\n",
              "436   0.30      2       3   1             2      V        V    559           3\n",
              "437   0.30      2       3   2             2      V        V    559           3\n",
              "438   0.30      2       3   2             2      X        X    559           3\n",
              "439   0.30      2       3   2             2      V        X    559           3\n",
              "\n",
              "[440 rows x 9 columns]"
            ]
          },
          "metadata": {},
          "execution_count": 17
        }
      ]
    },
    {
      "cell_type": "code",
      "source": [
        "# count plot on single categorical variable\n",
        "sns.countplot(x ='Polish', data = df1)\n",
        " \n",
        "# Show the plot\n",
        "plt.show()"
      ],
      "metadata": {
        "colab": {
          "base_uri": "https://localhost:8080/",
          "height": 284
        },
        "id": "QM6hsc1P8INR",
        "outputId": "97c1ed1d-c1e8-420d-b539-e9cf6e74f40e"
      },
      "execution_count": null,
      "outputs": [
        {
          "output_type": "display_data",
          "data": {
            "image/png": "[encoded data removed]",
            "text/plain": [
              "<Figure size 432x288 with 1 Axes>"
            ]
          },
          "metadata": {}
        }
      ]
    },
    {
      "cell_type": "markdown",
      "source": [
        "Here, we basically observe the individual counts of Polish which states that V has the most counts and I has the lowest counts."
      ],
      "metadata": {
        "id": "oivCB1kfHX46"
      }
    },
    {
      "cell_type": "markdown",
      "source": [
        "Here, we are putting dummy variables in polish as the level of importance of the polish parameters where we classify them into two categories 'Fair-Good' and 'Very good-ideal of the parameters'. Where '1' signifies 'Fair-Good' which is and '2' 'Very good-ideal of the parameters'"
      ],
      "metadata": {
        "id": "lyW3mPYyMilO"
      }
    },
    {
      "cell_type": "code",
      "source": [
        "df1[\"Polish\"].replace({\"F\": \"1\", \"G\": \"1\", \"V\": \"2\", \"X\": \"2\", \"I\": \"2\", \"v\": \"2\"}, inplace=True)\n",
        "df1"
      ],
      "metadata": {
        "colab": {
          "base_uri": "https://localhost:8080/",
          "height": 423
        },
        "id": "IjfkzT7c8IU4",
        "outputId": "b79cc36e-3b1b-416a-d1d9-0efef89e9d08"
      },
      "execution_count": null,
      "outputs": [
        {
          "output_type": "execute_result",
          "data": {
            "text/html": [
              "<div>\n",
              "<style scoped>\n",
              "    .dataframe tbody tr th:only-of-type {\n",
              "        vertical-align: middle;\n",
              "    }\n",
              "\n",
              "    .dataframe tbody tr th {\n",
              "        vertical-align: top;\n",
              "    }\n",
              "\n",
              "    .dataframe thead th {\n",
              "        text-align: right;\n",
              "    }\n",
              "</style>\n",
              "<table border=\"1\" class=\"dataframe\">\n",
              "  <thead>\n",
              "    <tr style=\"text-align: right;\">\n",
              "      <th></th>\n",
              "      <th>Carat</th>\n",
              "      <th>Colour</th>\n",
              "      <th>Clarity</th>\n",
              "      <th>Cut</th>\n",
              "      <th>Certification</th>\n",
              "      <th>Polish</th>\n",
              "      <th>Symmetry</th>\n",
              "      <th>Price</th>\n",
              "      <th>Wholesaler</th>\n",
              "    </tr>\n",
              "  </thead>\n",
              "  <tbody>\n",
              "    <tr>\n",
              "      <th>0</th>\n",
              "      <td>0.92</td>\n",
              "      <td>2</td>\n",
              "      <td>4</td>\n",
              "      <td>1</td>\n",
              "      <td>2</td>\n",
              "      <td>2</td>\n",
              "      <td>V</td>\n",
              "      <td>3000</td>\n",
              "      <td>1</td>\n",
              "    </tr>\n",
              "    <tr>\n",
              "      <th>1</th>\n",
              "      <td>0.92</td>\n",
              "      <td>2</td>\n",
              "      <td>4</td>\n",
              "      <td>2</td>\n",
              "      <td>2</td>\n",
              "      <td>1</td>\n",
              "      <td>G</td>\n",
              "      <td>3000</td>\n",
              "      <td>1</td>\n",
              "    </tr>\n",
              "    <tr>\n",
              "      <th>2</th>\n",
              "      <td>0.82</td>\n",
              "      <td>2</td>\n",
              "      <td>4</td>\n",
              "      <td>2</td>\n",
              "      <td>2</td>\n",
              "      <td>2</td>\n",
              "      <td>X</td>\n",
              "      <td>3004</td>\n",
              "      <td>1</td>\n",
              "    </tr>\n",
              "    <tr>\n",
              "      <th>3</th>\n",
              "      <td>0.81</td>\n",
              "      <td>2</td>\n",
              "      <td>3</td>\n",
              "      <td>2</td>\n",
              "      <td>2</td>\n",
              "      <td>2</td>\n",
              "      <td>V</td>\n",
              "      <td>3004</td>\n",
              "      <td>1</td>\n",
              "    </tr>\n",
              "    <tr>\n",
              "      <th>4</th>\n",
              "      <td>0.90</td>\n",
              "      <td>1</td>\n",
              "      <td>7</td>\n",
              "      <td>2</td>\n",
              "      <td>2</td>\n",
              "      <td>2</td>\n",
              "      <td>V</td>\n",
              "      <td>3006</td>\n",
              "      <td>1</td>\n",
              "    </tr>\n",
              "    <tr>\n",
              "      <th>...</th>\n",
              "      <td>...</td>\n",
              "      <td>...</td>\n",
              "      <td>...</td>\n",
              "      <td>...</td>\n",
              "      <td>...</td>\n",
              "      <td>...</td>\n",
              "      <td>...</td>\n",
              "      <td>...</td>\n",
              "      <td>...</td>\n",
              "    </tr>\n",
              "    <tr>\n",
              "      <th>435</th>\n",
              "      <td>0.30</td>\n",
              "      <td>1</td>\n",
              "      <td>8</td>\n",
              "      <td>2</td>\n",
              "      <td>2</td>\n",
              "      <td>2</td>\n",
              "      <td>V</td>\n",
              "      <td>547</td>\n",
              "      <td>3</td>\n",
              "    </tr>\n",
              "    <tr>\n",
              "      <th>436</th>\n",
              "      <td>0.30</td>\n",
              "      <td>2</td>\n",
              "      <td>3</td>\n",
              "      <td>1</td>\n",
              "      <td>2</td>\n",
              "      <td>2</td>\n",
              "      <td>V</td>\n",
              "      <td>559</td>\n",
              "      <td>3</td>\n",
              "    </tr>\n",
              "    <tr>\n",
              "      <th>437</th>\n",
              "      <td>0.30</td>\n",
              "      <td>2</td>\n",
              "      <td>3</td>\n",
              "      <td>2</td>\n",
              "      <td>2</td>\n",
              "      <td>2</td>\n",
              "      <td>V</td>\n",
              "      <td>559</td>\n",
              "      <td>3</td>\n",
              "    </tr>\n",
              "    <tr>\n",
              "      <th>438</th>\n",
              "      <td>0.30</td>\n",
              "      <td>2</td>\n",
              "      <td>3</td>\n",
              "      <td>2</td>\n",
              "      <td>2</td>\n",
              "      <td>2</td>\n",
              "      <td>X</td>\n",
              "      <td>559</td>\n",
              "      <td>3</td>\n",
              "    </tr>\n",
              "    <tr>\n",
              "      <th>439</th>\n",
              "      <td>0.30</td>\n",
              "      <td>2</td>\n",
              "      <td>3</td>\n",
              "      <td>2</td>\n",
              "      <td>2</td>\n",
              "      <td>2</td>\n",
              "      <td>X</td>\n",
              "      <td>559</td>\n",
              "      <td>3</td>\n",
              "    </tr>\n",
              "  </tbody>\n",
              "</table>\n",
              "<p>440 rows × 9 columns</p>\n",
              "</div>"
            ],
            "text/plain": [
              "     Carat Colour Clarity Cut Certification Polish Symmetry  Price  Wholesaler\n",
              "0     0.92      2       4   1             2      2        V   3000           1\n",
              "1     0.92      2       4   2             2      1        G   3000           1\n",
              "2     0.82      2       4   2             2      2        X   3004           1\n",
              "3     0.81      2       3   2             2      2        V   3004           1\n",
              "4     0.90      1       7   2             2      2        V   3006           1\n",
              "..     ...    ...     ...  ..           ...    ...      ...    ...         ...\n",
              "435   0.30      1       8   2             2      2        V    547           3\n",
              "436   0.30      2       3   1             2      2        V    559           3\n",
              "437   0.30      2       3   2             2      2        V    559           3\n",
              "438   0.30      2       3   2             2      2        X    559           3\n",
              "439   0.30      2       3   2             2      2        X    559           3\n",
              "\n",
              "[440 rows x 9 columns]"
            ]
          },
          "metadata": {},
          "execution_count": 19
        }
      ]
    },
    {
      "cell_type": "code",
      "source": [
        "# count plot on single categorical variable\n",
        "sns.countplot(x ='Symmetry', data = df1)\n",
        " \n",
        "# Show the plot\n",
        "plt.show()"
      ],
      "metadata": {
        "colab": {
          "base_uri": "https://localhost:8080/",
          "height": 284
        },
        "id": "BSUzvoBh8RlZ",
        "outputId": "e1753b0a-3c25-4d9f-85e1-b6ee13cfaf6d"
      },
      "execution_count": null,
      "outputs": [
        {
          "output_type": "display_data",
          "data": {
            "image/png": "[encoded data removed]",
            "text/plain": [
              "<Figure size 432x288 with 1 Axes>"
            ]
          },
          "metadata": {}
        }
      ]
    },
    {
      "cell_type": "markdown",
      "source": [
        "Here, we basically observe the individual counts of Symmetry which states that V has the most counts and I has the lowest counts"
      ],
      "metadata": {
        "id": "kOnwegQGHhBc"
      }
    },
    {
      "cell_type": "markdown",
      "source": [
        "Here, we are putting dummy variables in symmetry as the level of importance of the symmetry parameters where we classify them into two categories 'Fair-Good' and 'Very good-ideal of the parameters'. Where '1' signifies 'Fair-Good' which is and '2' 'Very good-ideal of the parameters'"
      ],
      "metadata": {
        "id": "MuqNeYPLMoyt"
      }
    },
    {
      "cell_type": "code",
      "source": [
        "df1[\"Symmetry\"].replace({\"F\": \"1\", \"G\": \"1\", \"V\": \"2\", \"X\": \"2\", \"I\": \"2\"}, inplace=True)\n",
        "df1"
      ],
      "metadata": {
        "colab": {
          "base_uri": "https://localhost:8080/",
          "height": 423
        },
        "id": "RKf2QerJ8R1Q",
        "outputId": "6d156f59-bf2b-46ac-a5db-48b1d0a61d5a"
      },
      "execution_count": null,
      "outputs": [
        {
          "output_type": "execute_result",
          "data": {
            "text/html": [
              "<div>\n",
              "<style scoped>\n",
              "    .dataframe tbody tr th:only-of-type {\n",
              "        vertical-align: middle;\n",
              "    }\n",
              "\n",
              "    .dataframe tbody tr th {\n",
              "        vertical-align: top;\n",
              "    }\n",
              "\n",
              "    .dataframe thead th {\n",
              "        text-align: right;\n",
              "    }\n",
              "</style>\n",
              "<table border=\"1\" class=\"dataframe\">\n",
              "  <thead>\n",
              "    <tr style=\"text-align: right;\">\n",
              "      <th></th>\n",
              "      <th>Carat</th>\n",
              "      <th>Colour</th>\n",
              "      <th>Clarity</th>\n",
              "      <th>Cut</th>\n",
              "      <th>Certification</th>\n",
              "      <th>Polish</th>\n",
              "      <th>Symmetry</th>\n",
              "      <th>Price</th>\n",
              "      <th>Wholesaler</th>\n",
              "    </tr>\n",
              "  </thead>\n",
              "  <tbody>\n",
              "    <tr>\n",
              "      <th>0</th>\n",
              "      <td>0.92</td>\n",
              "      <td>2</td>\n",
              "      <td>4</td>\n",
              "      <td>1</td>\n",
              "      <td>2</td>\n",
              "      <td>2</td>\n",
              "      <td>2</td>\n",
              "      <td>3000</td>\n",
              "      <td>1</td>\n",
              "    </tr>\n",
              "    <tr>\n",
              "      <th>1</th>\n",
              "      <td>0.92</td>\n",
              "      <td>2</td>\n",
              "      <td>4</td>\n",
              "      <td>2</td>\n",
              "      <td>2</td>\n",
              "      <td>1</td>\n",
              "      <td>1</td>\n",
              "      <td>3000</td>\n",
              "      <td>1</td>\n",
              "    </tr>\n",
              "    <tr>\n",
              "      <th>2</th>\n",
              "      <td>0.82</td>\n",
              "      <td>2</td>\n",
              "      <td>4</td>\n",
              "      <td>2</td>\n",
              "      <td>2</td>\n",
              "      <td>2</td>\n",
              "      <td>2</td>\n",
              "      <td>3004</td>\n",
              "      <td>1</td>\n",
              "    </tr>\n",
              "    <tr>\n",
              "      <th>3</th>\n",
              "      <td>0.81</td>\n",
              "      <td>2</td>\n",
              "      <td>3</td>\n",
              "      <td>2</td>\n",
              "      <td>2</td>\n",
              "      <td>2</td>\n",
              "      <td>2</td>\n",
              "      <td>3004</td>\n",
              "      <td>1</td>\n",
              "    </tr>\n",
              "    <tr>\n",
              "      <th>4</th>\n",
              "      <td>0.90</td>\n",
              "      <td>1</td>\n",
              "      <td>7</td>\n",
              "      <td>2</td>\n",
              "      <td>2</td>\n",
              "      <td>2</td>\n",
              "      <td>2</td>\n",
              "      <td>3006</td>\n",
              "      <td>1</td>\n",
              "    </tr>\n",
              "    <tr>\n",
              "      <th>...</th>\n",
              "      <td>...</td>\n",
              "      <td>...</td>\n",
              "      <td>...</td>\n",
              "      <td>...</td>\n",
              "      <td>...</td>\n",
              "      <td>...</td>\n",
              "      <td>...</td>\n",
              "      <td>...</td>\n",
              "      <td>...</td>\n",
              "    </tr>\n",
              "    <tr>\n",
              "      <th>435</th>\n",
              "      <td>0.30</td>\n",
              "      <td>1</td>\n",
              "      <td>8</td>\n",
              "      <td>2</td>\n",
              "      <td>2</td>\n",
              "      <td>2</td>\n",
              "      <td>2</td>\n",
              "      <td>547</td>\n",
              "      <td>3</td>\n",
              "    </tr>\n",
              "    <tr>\n",
              "      <th>436</th>\n",
              "      <td>0.30</td>\n",
              "      <td>2</td>\n",
              "      <td>3</td>\n",
              "      <td>1</td>\n",
              "      <td>2</td>\n",
              "      <td>2</td>\n",
              "      <td>2</td>\n",
              "      <td>559</td>\n",
              "      <td>3</td>\n",
              "    </tr>\n",
              "    <tr>\n",
              "      <th>437</th>\n",
              "      <td>0.30</td>\n",
              "      <td>2</td>\n",
              "      <td>3</td>\n",
              "      <td>2</td>\n",
              "      <td>2</td>\n",
              "      <td>2</td>\n",
              "      <td>2</td>\n",
              "      <td>559</td>\n",
              "      <td>3</td>\n",
              "    </tr>\n",
              "    <tr>\n",
              "      <th>438</th>\n",
              "      <td>0.30</td>\n",
              "      <td>2</td>\n",
              "      <td>3</td>\n",
              "      <td>2</td>\n",
              "      <td>2</td>\n",
              "      <td>2</td>\n",
              "      <td>2</td>\n",
              "      <td>559</td>\n",
              "      <td>3</td>\n",
              "    </tr>\n",
              "    <tr>\n",
              "      <th>439</th>\n",
              "      <td>0.30</td>\n",
              "      <td>2</td>\n",
              "      <td>3</td>\n",
              "      <td>2</td>\n",
              "      <td>2</td>\n",
              "      <td>2</td>\n",
              "      <td>2</td>\n",
              "      <td>559</td>\n",
              "      <td>3</td>\n",
              "    </tr>\n",
              "  </tbody>\n",
              "</table>\n",
              "<p>440 rows × 9 columns</p>\n",
              "</div>"
            ],
            "text/plain": [
              "     Carat Colour Clarity Cut Certification Polish Symmetry  Price  Wholesaler\n",
              "0     0.92      2       4   1             2      2        2   3000           1\n",
              "1     0.92      2       4   2             2      1        1   3000           1\n",
              "2     0.82      2       4   2             2      2        2   3004           1\n",
              "3     0.81      2       3   2             2      2        2   3004           1\n",
              "4     0.90      1       7   2             2      2        2   3006           1\n",
              "..     ...    ...     ...  ..           ...    ...      ...    ...         ...\n",
              "435   0.30      1       8   2             2      2        2    547           3\n",
              "436   0.30      2       3   1             2      2        2    559           3\n",
              "437   0.30      2       3   2             2      2        2    559           3\n",
              "438   0.30      2       3   2             2      2        2    559           3\n",
              "439   0.30      2       3   2             2      2        2    559           3\n",
              "\n",
              "[440 rows x 9 columns]"
            ]
          },
          "metadata": {},
          "execution_count": 21
        }
      ]
    },
    {
      "cell_type": "markdown",
      "source": [
        "# **Bivariate Analysis**"
      ],
      "metadata": {
        "id": "SHVNM0Peuibv"
      }
    },
    {
      "cell_type": "code",
      "source": [
        "sns.relplot(x=\"Carat\", y=\"Price\", data=df1);"
      ],
      "metadata": {
        "colab": {
          "base_uri": "https://localhost:8080/",
          "height": 364
        },
        "id": "lM4Um5Sw82Ps",
        "outputId": "013c7f79-f1dd-485e-85ad-bf7cc12cca03"
      },
      "execution_count": null,
      "outputs": [
        {
          "output_type": "display_data",
          "data": {
            "image/png": "[encoded data removed]",
            "text/plain": [
              "<Figure size 360x360 with 1 Axes>"
            ]
          },
          "metadata": {}
        }
      ]
    },
    {
      "cell_type": "markdown",
      "source": [
        "Here, we can observe that there are two clusters for high caret values and low caret values for high priced diamond and low priced diamond. So, we will be dividing our dataset to two dataframe high priced and low priced. And as the professor's diamond falls into the high priced value we will continue our analysis on high priced dataset"
      ],
      "metadata": {
        "id": "1ZFAmNMOuoov"
      }
    },
    {
      "cell_type": "code",
      "source": [
        "df_highprice = df1[df1['Wholesaler'] < 3]\n",
        "print (df_highprice)\n",
        "\n",
        "df_lowprice = df1[df1['Wholesaler'] > 2]\n",
        "print (df_lowprice)\n",
        "df_highprice1=df_highprice.drop(columns=['Wholesaler'])\n",
        "df_lowprice1=df_lowprice.drop(columns=['Wholesaler'])"
      ],
      "metadata": {
        "colab": {
          "base_uri": "https://localhost:8080/"
        },
        "id": "L4JyJdeUBlOO",
        "outputId": "473559bf-4977-4c88-9299-b3cd9fa05832"
      },
      "execution_count": null,
      "outputs": [
        {
          "output_type": "stream",
          "name": "stdout",
          "text": [
            "     Carat Colour Clarity Cut Certification Polish Symmetry  Price  Wholesaler\n",
            "0     0.92      2       4   1             2      2        2   3000           1\n",
            "1     0.92      2       4   2             2      1        1   3000           1\n",
            "2     0.82      2       4   2             2      2        2   3004           1\n",
            "3     0.81      2       3   2             2      2        2   3004           1\n",
            "4     0.90      1       7   2             2      2        2   3006           1\n",
            "..     ...    ...     ...  ..           ...    ...      ...    ...         ...\n",
            "235   1.10      2       1   2             1      1        2   2772           2\n",
            "236   1.16      2       1   2             2      1        1   2775           2\n",
            "237   1.00      2       1   2             2      2        2   2779           2\n",
            "238   1.00      1       3   1             1      2        1   2780           2\n",
            "239   1.00      1       3   1             1      1        1   2780           2\n",
            "\n",
            "[240 rows x 9 columns]\n",
            "     Carat Colour Clarity Cut Certification Polish Symmetry  Price  Wholesaler\n",
            "240   0.09      2       3   2             1      1        1    190           3\n",
            "241   0.09      2       3   2             1      1        1    160           3\n",
            "242   0.09      2       3   2             1      2        1    160           3\n",
            "243   0.09      2       3   2             1      1        1    180           3\n",
            "244   0.09      2       6   2             1      2        1    190           3\n",
            "..     ...    ...     ...  ..           ...    ...      ...    ...         ...\n",
            "435   0.30      1       8   2             2      2        2    547           3\n",
            "436   0.30      2       3   1             2      2        2    559           3\n",
            "437   0.30      2       3   2             2      2        2    559           3\n",
            "438   0.30      2       3   2             2      2        2    559           3\n",
            "439   0.30      2       3   2             2      2        2    559           3\n",
            "\n",
            "[200 rows x 9 columns]\n"
          ]
        }
      ]
    },
    {
      "cell_type": "markdown",
      "source": [
        "Scatter plot for higher valued carat"
      ],
      "metadata": {
        "id": "BV6M9iIivY8n"
      }
    },
    {
      "cell_type": "code",
      "source": [
        "sns.relplot(x=\"Carat\", y=\"Price\", data=df_highprice);"
      ],
      "metadata": {
        "colab": {
          "base_uri": "https://localhost:8080/",
          "height": 364
        },
        "id": "yAj_gM-gLEhI",
        "outputId": "2169a573-d08a-45a8-c6d1-b09dbf36e8ad"
      },
      "execution_count": null,
      "outputs": [
        {
          "output_type": "display_data",
          "data": {
            "image/png": "[encoded data removed]",
            "text/plain": [
              "<Figure size 360x360 with 1 Axes>"
            ]
          },
          "metadata": {}
        }
      ]
    },
    {
      "cell_type": "markdown",
      "source": [
        "Linear Regression for Carat"
      ],
      "metadata": {
        "id": "k_G55GnZtx3I"
      }
    },
    {
      "cell_type": "code",
      "source": [
        "from sklearn import linear_model\n",
        "df_highprice1 = df_highprice1.astype(float)\n",
        "# reg = linear_model.LinearRegression()\n",
        "# carat=df_highprice.Carat\n",
        "# price=df_highprice.Price\n",
        "# reg.fit(carat,price)\n",
        "# printf(reg.coef_)\n",
        "# printf(reg.intercept_)\n",
        "# printf(reg.score)\n",
        "carat=df_highprice.Carat\n",
        "price=df_highprice.Price\n",
        "carat= carat.values.reshape(-1,1)\n",
        "price= price.values.reshape(-1, 1)\n",
        "\n",
        "reg = linear_model.LinearRegression()\n",
        "\n",
        "reg.fit(carat,price)\n",
        "print(reg.coef_)\n",
        "print(reg.intercept_)\n",
        "print(reg.score(carat,price))\n",
        "import statsmodels.api as sm\n",
        "\n",
        "mod = sm.OLS(price, carat)\n",
        "\n",
        "fii = mod.fit()\n",
        "\n",
        "p_values = fii.summary2().tables[1]['P>|t|']\n",
        "print(p_values)\n"
      ],
      "metadata": {
        "colab": {
          "base_uri": "https://localhost:8080/"
        },
        "id": "9VuL4hBNLLMk",
        "outputId": "931f6a19-97e2-412d-8e44-c6e81c5ab1e0"
      },
      "execution_count": null,
      "outputs": [
        {
          "output_type": "stream",
          "name": "stdout",
          "text": [
            "[[-980.60407738]]\n",
            "[3740.98432362]\n",
            "0.10715927124920899\n",
            "x1    1.766008e-166\n",
            "Name: P>|t|, dtype: float64\n"
          ]
        }
      ]
    },
    {
      "cell_type": "markdown",
      "source": [
        "Here we got a R-squared value of 10.7% which is informing us about the good significance of carat in our dataset, the negative co-efficient shows that the lighter diamonds are valued better"
      ],
      "metadata": {
        "id": "ut-o6oPpwCwt"
      }
    },
    {
      "cell_type": "markdown",
      "source": [
        "Linear Regression for Clarity"
      ],
      "metadata": {
        "id": "NkWgo5FGt6Ww"
      }
    },
    {
      "cell_type": "code",
      "source": [
        "clarity=df_highprice.Clarity\n",
        "clarity= clarity.values.reshape(-1,1)\n",
        "\n",
        "reg.fit(clarity,price)\n",
        "print(reg.coef_)\n",
        "print(reg.intercept_)\n",
        "print(reg.score(clarity,price))\n",
        "import statsmodels.api as sm\n",
        "\n",
        "mod = sm.OLS(price, clarity)\n",
        "\n",
        "fii = mod.fit()\n",
        "\n",
        "p_values = fii.summary2().tables[1]['P>|t|']\n",
        "print(p_values)\n",
        "\n"
      ],
      "metadata": {
        "colab": {
          "base_uri": "https://localhost:8080/"
        },
        "id": "z6CZ225_XNc0",
        "outputId": "070e3ef8-e9f4-4b78-ef3e-9a3c32a7d044"
      },
      "execution_count": null,
      "outputs": [
        {
          "output_type": "stream",
          "name": "stdout",
          "text": [
            "[[78.90917475]]\n",
            "[2526.13687564]\n",
            "0.13430904497595164\n",
            "x1    9.319503e-80\n",
            "Name: P>|t|, dtype: float64\n"
          ]
        }
      ]
    },
    {
      "cell_type": "markdown",
      "source": [
        "Here we got a R-squared value of 13.4% which is informing us that it is also a pretty significant variable in our dataset"
      ],
      "metadata": {
        "id": "Os9To9LUwpE8"
      }
    },
    {
      "cell_type": "markdown",
      "source": [
        "Linear Regression for Certification"
      ],
      "metadata": {
        "id": "T0fvP6uQt_uV"
      }
    },
    {
      "cell_type": "code",
      "source": [
        "certification=df_highprice.Certification\n",
        "certification= certification.values.reshape(-1,1)\n",
        "\n",
        "reg.fit(certification,price)\n",
        "print(reg.coef_)\n",
        "print(reg.intercept_)\n",
        "print(reg.score(certification,price))\n",
        "import statsmodels.api as sm\n",
        "\n",
        "mod = sm.OLS(price, certification)\n",
        "\n",
        "fii = mod.fit()\n",
        "\n",
        "p_values = fii.summary2().tables[1]['P>|t|']\n",
        "print(p_values)"
      ],
      "metadata": {
        "colab": {
          "base_uri": "https://localhost:8080/"
        },
        "id": "INGmVSnXXn46",
        "outputId": "5e0e5dcc-f562-4e4c-a764-d5b1f2253d26"
      },
      "execution_count": null,
      "outputs": [
        {
          "output_type": "stream",
          "name": "stdout",
          "text": [
            "[[169.66666667]]\n",
            "[2502.775]\n",
            "0.05354423770803973\n",
            "x1    7.384366e-123\n",
            "Name: P>|t|, dtype: float64\n"
          ]
        }
      ]
    },
    {
      "cell_type": "markdown",
      "source": [
        "Here we got a R-squared value of 5.3% which is informing us that it is less significant than the previous two variables"
      ],
      "metadata": {
        "id": "2kyGqA7Mw7zl"
      }
    },
    {
      "cell_type": "markdown",
      "source": [
        "Linear Regression for Cut"
      ],
      "metadata": {
        "id": "GhpHL0w5uDhY"
      }
    },
    {
      "cell_type": "code",
      "source": [
        "cut=df_highprice.Cut\n",
        "cut= cut.values.reshape(-1,1)\n",
        "\n",
        "reg.fit(cut,price)\n",
        "print(reg.coef_)\n",
        "print(reg.intercept_)\n",
        "print(reg.score(cut,price))\n",
        "import statsmodels.api as sm\n",
        "\n",
        "mod = sm.OLS(price, cut)\n",
        "\n",
        "fii = mod.fit()\n",
        "\n",
        "p_values = fii.summary2().tables[1]['P>|t|']\n",
        "print(p_values)\n"
      ],
      "metadata": {
        "colab": {
          "base_uri": "https://localhost:8080/"
        },
        "id": "jdO5o3mzX5U6",
        "outputId": "5f1c8cad-49ec-48e4-84d8-3c5b82ca5b5e"
      },
      "execution_count": null,
      "outputs": [
        {
          "output_type": "stream",
          "name": "stdout",
          "text": [
            "[[200.49333333]]\n",
            "[2431.47333333]\n",
            "0.07009561231946537\n",
            "x1    4.286856e-134\n",
            "Name: P>|t|, dtype: float64\n"
          ]
        }
      ]
    },
    {
      "cell_type": "markdown",
      "source": [
        "Here we got a R-squared value of 7.0% which is informing us that it is more significant than Certification but less significant than clarity and carat, furthermore it also has a very low p_value"
      ],
      "metadata": {
        "id": "Dcw98psqxPpc"
      }
    },
    {
      "cell_type": "markdown",
      "source": [
        "Linear Regression for Polish"
      ],
      "metadata": {
        "id": "cIohy_TPuGT4"
      }
    },
    {
      "cell_type": "code",
      "source": [
        "polish=df_highprice.Polish\n",
        "polish= polish.values.reshape(-1,1)\n",
        "\n",
        "reg.fit(polish,price)\n",
        "print(reg.coef_)\n",
        "print(reg.intercept_)\n",
        "print(reg.score(polish,price))\n",
        "from scipy import stats\n",
        "\n",
        "print(stats.ttest_ind(polish,price))\n",
        "mod = sm.OLS(price, polish)\n",
        "\n",
        "fii = mod.fit()\n",
        "\n",
        "p_values = fii.summary2().tables[1]['P>|t|']\n",
        "print(p_values)\n"
      ],
      "metadata": {
        "colab": {
          "base_uri": "https://localhost:8080/"
        },
        "id": "SxYiRgVEYK06",
        "outputId": "543191c9-b2d1-4bcf-ba93-ef40b57628c9"
      },
      "execution_count": null,
      "outputs": [
        {
          "output_type": "stream",
          "name": "stdout",
          "text": [
            "[[248.54158849]]\n",
            "[2381.3558474]\n",
            "0.11482760462973718\n",
            "Ttest_indResult(statistic=array([-116.2064331]), pvalue=array([0.]))\n",
            "x1    2.129667e-128\n",
            "Name: P>|t|, dtype: float64\n"
          ]
        }
      ]
    },
    {
      "cell_type": "markdown",
      "source": [
        "Here we got a R-squared value of 11.4% which is informing us that it also has significance but it has higher p_values than cut and carat"
      ],
      "metadata": {
        "id": "-SopzqP9xhAU"
      }
    },
    {
      "cell_type": "markdown",
      "source": [
        "Linear Regression for Symmetry"
      ],
      "metadata": {
        "id": "BB3uSFVjuIqO"
      }
    },
    {
      "cell_type": "code",
      "source": [
        "symmetry=df_highprice.Symmetry\n",
        "symmetry= symmetry.values.reshape(-1,1)\n",
        "\n",
        "reg.fit(symmetry,price)\n",
        "print(reg.coef_)\n",
        "print(reg.intercept_)\n",
        "print(reg.score(symmetry,price))\n",
        "import statsmodels.api as sm\n",
        "\n",
        "mod = sm.OLS(price,symmetry)\n",
        "\n",
        "fii = mod.fit()\n",
        "\n",
        "p_values = fii.summary2().tables[1]['P>|t|']\n",
        "print(p_values)"
      ],
      "metadata": {
        "colab": {
          "base_uri": "https://localhost:8080/"
        },
        "id": "we4x9D4JYZ5o",
        "outputId": "de8f338b-480b-41be-82da-a382218729e0"
      },
      "execution_count": null,
      "outputs": [
        {
          "output_type": "stream",
          "name": "stdout",
          "text": [
            "[[225.41426087]]\n",
            "[2423.84973913]\n",
            "0.09434694078262917\n"
          ]
        },
        {
          "output_type": "stream",
          "name": "stderr",
          "text": [
            "/usr/local/lib/python3.7/dist-packages/statsmodels/tools/_testing.py:19: FutureWarning: pandas.util.testing is deprecated. Use the functions in the public API at pandas.testing instead.\n",
            "  import pandas.util.testing as tm\n"
          ]
        },
        {
          "output_type": "stream",
          "name": "stdout",
          "text": [
            "x1    5.420488e-125\n",
            "Name: P>|t|, dtype: float64\n"
          ]
        }
      ]
    },
    {
      "cell_type": "markdown",
      "source": [
        "Here we got a R-squared value of 9.4% which is informing us that it also has significance and it has higher p_values than polish"
      ],
      "metadata": {
        "id": "1C42_L1O4Ikg"
      }
    },
    {
      "cell_type": "markdown",
      "source": [
        "Linear Regression for Colour"
      ],
      "metadata": {
        "id": "3FvneUB_uLOX"
      }
    },
    {
      "cell_type": "code",
      "source": [
        "colour=df_highprice.Colour\n",
        "colour= colour.values.reshape(-1,1)\n",
        "\n",
        "reg.fit(colour,price)\n",
        "print(reg.coef_)\n",
        "print(reg.intercept_)\n",
        "print(reg.score(colour,price))\n",
        "print(stats.ttest_ind(polish,price))\n",
        "mod = sm.OLS(price, colour)\n",
        "\n",
        "fii = mod.fit()\n",
        "\n",
        "p_values = fii.summary2().tables[1]['P>|t|']\n",
        "print(p_values)\n"
      ],
      "metadata": {
        "colab": {
          "base_uri": "https://localhost:8080/"
        },
        "id": "oWo3SIFhYky5",
        "outputId": "8ba0ed60-cab2-49d8-d64c-30186d753984"
      },
      "execution_count": null,
      "outputs": [
        {
          "output_type": "stream",
          "name": "stdout",
          "text": [
            "[[115.36237126]]\n",
            "[2564.52370469]\n",
            "0.02186444755978234\n",
            "Ttest_indResult(statistic=array([-116.2064331]), pvalue=array([0.]))\n",
            "x1    1.561377e-133\n",
            "Name: P>|t|, dtype: float64\n"
          ]
        }
      ]
    },
    {
      "cell_type": "markdown",
      "source": [
        "Here we got a R-squared value of 2.1% which is low but it has much lower p_value than polish"
      ],
      "metadata": {
        "id": "eDxu1Xy__snJ"
      }
    },
    {
      "cell_type": "markdown",
      "source": [
        "So here though Polish has good r-squared value it has higher p_values than 3'Cs except clarity but clarity has much better r-squared value so it should take precedence before Polish. So in our multiple linear model we will include all 4'c"
      ],
      "metadata": {
        "id": "McKNPaU8JA-B"
      }
    },
    {
      "cell_type": "markdown",
      "source": [
        "# **Multiple Linear Regression for High Priced Diamond**"
      ],
      "metadata": {
        "id": "PJwbvj3xrxRp"
      }
    },
    {
      "cell_type": "code",
      "source": [
        "df_highprice = df_highprice.astype(float)\n",
        "X=df_highprice.drop(columns=['Price'])\n",
        "X=X.drop(columns=['Certification'])\n",
        "X=X.drop(columns=['Polish'])\n",
        "X=X.drop(columns=['Wholesaler'])\n",
        "\n",
        "X=X.drop(columns=['Symmetry'])\n",
        "print(X)"
      ],
      "metadata": {
        "colab": {
          "base_uri": "https://localhost:8080/"
        },
        "id": "uc3RfRDHjuDJ",
        "outputId": "6b8946f0-9d4d-402d-af4c-271deb8c42be"
      },
      "execution_count": null,
      "outputs": [
        {
          "output_type": "stream",
          "name": "stdout",
          "text": [
            "     Carat  Colour  Clarity  Cut\n",
            "0     0.92     2.0      4.0  1.0\n",
            "1     0.92     2.0      4.0  2.0\n",
            "2     0.82     2.0      4.0  2.0\n",
            "3     0.81     2.0      3.0  2.0\n",
            "4     0.90     1.0      7.0  2.0\n",
            "..     ...     ...      ...  ...\n",
            "235   1.10     2.0      1.0  2.0\n",
            "236   1.16     2.0      1.0  2.0\n",
            "237   1.00     2.0      1.0  2.0\n",
            "238   1.00     1.0      3.0  1.0\n",
            "239   1.00     1.0      3.0  1.0\n",
            "\n",
            "[240 rows x 4 columns]\n"
          ]
        }
      ]
    },
    {
      "cell_type": "markdown",
      "source": [
        "We created our training data with the 4'C which are the most important explanatory variables in our dataset"
      ],
      "metadata": {
        "id": "MKAPek3ZrjGr"
      }
    },
    {
      "cell_type": "code",
      "source": [
        "y = df_highprice.Price\n",
        "y"
      ],
      "metadata": {
        "colab": {
          "base_uri": "https://localhost:8080/"
        },
        "id": "sGpUa5BflLBo",
        "outputId": "00b2437d-4a72-493a-aa3e-57a1ad8ca80d"
      },
      "execution_count": null,
      "outputs": [
        {
          "output_type": "execute_result",
          "data": {
            "text/plain": [
              "0      3000.0\n",
              "1      3000.0\n",
              "2      3004.0\n",
              "3      3004.0\n",
              "4      3006.0\n",
              "        ...  \n",
              "235    2772.0\n",
              "236    2775.0\n",
              "237    2779.0\n",
              "238    2780.0\n",
              "239    2780.0\n",
              "Name: Price, Length: 240, dtype: float64"
            ]
          },
          "metadata": {},
          "execution_count": 65
        }
      ]
    },
    {
      "cell_type": "code",
      "source": [
        "# Creating our testing data frame by putting relevant dummy variables\n",
        "X_test = {'Carat':[0.9], 'Colour':[1], 'Clarity':[4], 'Cut':[2]}\n",
        "\n",
        "X_test=pd.DataFrame.from_dict(X_test)\n",
        "X_test\n"
      ],
      "metadata": {
        "colab": {
          "base_uri": "https://localhost:8080/",
          "height": 80
        },
        "id": "5Fhd5wo7lUmX",
        "outputId": "c918b904-ce0b-4f61-ca9b-0f10b6dbe3c4"
      },
      "execution_count": null,
      "outputs": [
        {
          "output_type": "execute_result",
          "data": {
            "text/html": [
              "<div>\n",
              "<style scoped>\n",
              "    .dataframe tbody tr th:only-of-type {\n",
              "        vertical-align: middle;\n",
              "    }\n",
              "\n",
              "    .dataframe tbody tr th {\n",
              "        vertical-align: top;\n",
              "    }\n",
              "\n",
              "    .dataframe thead th {\n",
              "        text-align: right;\n",
              "    }\n",
              "</style>\n",
              "<table border=\"1\" class=\"dataframe\">\n",
              "  <thead>\n",
              "    <tr style=\"text-align: right;\">\n",
              "      <th></th>\n",
              "      <th>Carat</th>\n",
              "      <th>Colour</th>\n",
              "      <th>Clarity</th>\n",
              "      <th>Cut</th>\n",
              "    </tr>\n",
              "  </thead>\n",
              "  <tbody>\n",
              "    <tr>\n",
              "      <th>0</th>\n",
              "      <td>0.9</td>\n",
              "      <td>1</td>\n",
              "      <td>4</td>\n",
              "      <td>2</td>\n",
              "    </tr>\n",
              "  </tbody>\n",
              "</table>\n",
              "</div>"
            ],
            "text/plain": [
              "   Carat  Colour  Clarity  Cut\n",
              "0    0.9       1        4    2"
            ]
          },
          "metadata": {},
          "execution_count": 66
        }
      ]
    },
    {
      "cell_type": "code",
      "source": [
        "import pandas as pd\n",
        "import numpy as np\n",
        "from sklearn import datasets, linear_model\n",
        "from __future__ import division\n",
        "class LRPI:\n",
        "    def __init__(self, normalize=False, n_jobs=1, t_value = 2.13144955):\n",
        "        self.normalize = normalize\n",
        "        self.n_jobs = n_jobs\n",
        "        self.LR = linear_model.LinearRegression(normalize=self.normalize, n_jobs= self.n_jobs)\n",
        "        self.t_value = t_value\n",
        "        \n",
        "    def fit(self, X_train, y_train):\n",
        "        self.X_train = pd.DataFrame(X_train.values)\n",
        "        self.y_train = pd.DataFrame(y_train.values)\n",
        "        \n",
        "        self.LR.fit(self.X_train, self.y_train)\n",
        "        X_train_fit = self.LR.predict(self.X_train)\n",
        "        self.MSE = np.power(self.y_train.subtract(X_train_fit), 2).sum(axis=0) / (self.X_train.shape[0] - self.X_train.shape[1] - 1)\n",
        "        self.X_train.loc[:, 'const_one'] = 1\n",
        "        self.XTX_inv = np.linalg.inv(np.dot(np.transpose(self.X_train.values) , self.X_train.values))\n",
        "        \n",
        "    def predict(self, X_test):\n",
        "        self.X_test = pd.DataFrame(X_test.values)\n",
        "        self.pred = self.LR.predict(self.X_test)\n",
        "        self.X_test.loc[: , 'const_one'] =1\n",
        "        SE = [np.dot(np.transpose(self.X_test.values[i]) , np.dot(self.XTX_inv, self.X_test.values[i]) ) for i in range(len(self.X_test)) ]\n",
        "        results = pd.DataFrame(self.pred , columns=['Pred'])\n",
        "        \n",
        "        results.loc[:,\"lower\"] = results['Pred'].subtract((self.t_value)* (np.sqrt(self.MSE.values + np.multiply(SE,self.MSE.values) )),  axis=0)\n",
        "        results.loc[:,\"upper\"] = results['Pred'].add((self.t_value)* (np.sqrt(self.MSE.values + np.multiply(SE,self.MSE.values) )),  axis=0)\n",
        "        \n",
        "        return results"
      ],
      "metadata": {
        "id": "T0chQF9clioP"
      },
      "execution_count": null,
      "outputs": []
    },
    {
      "cell_type": "code",
      "source": [
        "model = LRPI()\n",
        "model.fit(X, y)"
      ],
      "metadata": {
        "colab": {
          "base_uri": "https://localhost:8080/"
        },
        "id": "WeAH_ANelq9W",
        "outputId": "16f342ea-7ef1-4236-86c8-7a09ba52d2a1"
      },
      "execution_count": null,
      "outputs": [
        {
          "output_type": "stream",
          "name": "stderr",
          "text": [
            "/usr/local/lib/python3.7/dist-packages/sklearn/linear_model/_base.py:155: FutureWarning: 'normalize' was deprecated in version 1.0 and will be removed in 1.2. Please leave the normalize parameter to its default value to silence this warning. The default behavior of this estimator is to not do any normalization. If normalization is needed please use sklearn.preprocessing.StandardScaler instead.\n",
            "  FutureWarning,\n"
          ]
        }
      ]
    },
    {
      "cell_type": "code",
      "source": [
        "results = model.predict(X_test)\n",
        "results"
      ],
      "metadata": {
        "colab": {
          "base_uri": "https://localhost:8080/",
          "height": 80
        },
        "id": "XYnbyiA3mWeW",
        "outputId": "ab621e21-1a69-4c50-aa73-cfe9c318a998"
      },
      "execution_count": null,
      "outputs": [
        {
          "output_type": "execute_result",
          "data": {
            "text/html": [
              "<div>\n",
              "<style scoped>\n",
              "    .dataframe tbody tr th:only-of-type {\n",
              "        vertical-align: middle;\n",
              "    }\n",
              "\n",
              "    .dataframe tbody tr th {\n",
              "        vertical-align: top;\n",
              "    }\n",
              "\n",
              "    .dataframe thead th {\n",
              "        text-align: right;\n",
              "    }\n",
              "</style>\n",
              "<table border=\"1\" class=\"dataframe\">\n",
              "  <thead>\n",
              "    <tr style=\"text-align: right;\">\n",
              "      <th></th>\n",
              "      <th>Pred</th>\n",
              "      <th>lower</th>\n",
              "      <th>upper</th>\n",
              "    </tr>\n",
              "  </thead>\n",
              "  <tbody>\n",
              "    <tr>\n",
              "      <th>0</th>\n",
              "      <td>2832.872286</td>\n",
              "      <td>2137.614236</td>\n",
              "      <td>3528.130336</td>\n",
              "    </tr>\n",
              "  </tbody>\n",
              "</table>\n",
              "</div>"
            ],
            "text/plain": [
              "          Pred        lower        upper\n",
              "0  2832.872286  2137.614236  3528.130336"
            ]
          },
          "metadata": {},
          "execution_count": 69
        }
      ]
    },
    {
      "cell_type": "markdown",
      "source": [
        "The LRPI method is giving us a 95% confidence interval for our prediction. We got a prediction of 2832.872286 which is lower than Professor's diamond price prediction. So there is a 95% chance that the price will be in-between 2137 to 3528. Therefore considering other factors like the retailing cost and the cost of ring a price between 2900dollar to 3000dollar could be offered by Professor."
      ],
      "metadata": {
        "id": "tT8deyBmn240"
      }
    },
    {
      "cell_type": "markdown",
      "source": [
        "## **Summary of results**\n",
        "\n",
        "1. The most important explanatory variabbles are carat, clarity and colour. After that Cut, Polish and and Symmentry comes into play\n",
        "\n",
        "2. We have done the analysis for high priced diamond because professor's diamond requirements fall into that.\n",
        "\n",
        "3. We got a prediction of 2832.872286 which is lower than Professor's diamond price prediction.Therefore considering other factors like the retailing cost and the cost of ring a price between 2900dollar to 3000dollar could be offered by Professor."
      ],
      "metadata": {
        "id": "Q7xOX_6xOinu"
      }
    },
    {
      "cell_type": "code",
      "source": [],
      "metadata": {
        "id": "aUgzKex9bDKo"
      },
      "execution_count": null,
      "outputs": []
    }
  ]
}
