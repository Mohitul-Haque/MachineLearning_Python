{
  "nbformat": 4,
  "nbformat_minor": 0,
  "metadata": {
    "colab": {
      "provenance": []
    },
    "kernelspec": {
      "name": "python3",
      "display_name": "Python 3"
    },
    "accelerator": "GPU"
  },
  "cells": [
    {
      "cell_type": "markdown",
      "source": [
        "# Overview"
      ],
      "metadata": {
        "id": "Xz15aMLj7gPX"
      }
    },
    {
      "cell_type": "markdown",
      "source": [
        "At the core of CNNs are filters (aka weights, kernels, etc.) which convolve (slide) across our input to extract relevant features. The filters are initialized randomly but learn to act as feature extractors via parameter sharing."
      ],
      "metadata": {
        "id": "Ym2pswjn5GNw"
      }
    },
    {
      "cell_type": "markdown",
      "source": [
        "<div align=\"left\">\n",
        "<img src=\"https://raw.githubusercontent.com/GokuMohandas/MadeWithML/main/images/foundations/cnn/convolution.gif\" width=\"500\">\n",
        "</div>"
      ],
      "metadata": {
        "id": "TPGoKi5k4j5y"
      }
    },
    {
      "cell_type": "markdown",
      "source": [
        "* **Objective:**  Extract meaningful spatial substructure from encoded data.\n",
        "* **Advantages:** \n",
        "  * Small number of weights (shared)\n",
        "  * Parallelizable\n",
        "  * Detects spatial substrcutures (feature extractors)\n",
        "  * [Interpretability](https://arxiv.org/abs/1312.6034) via filters\n",
        "  * Can be used for processing in images, text, time-series, etc.\n",
        "* **Disadvantages:**\n",
        "  * Many hyperparameters (kernel size, strides, etc.) to tune.\n",
        "* **Miscellaneous:** \n",
        "  * Lot's of deep CNN architectures constantly updated for SOTA performance.\n",
        "  * Very popular feature extractor that's usually prepended onto other architectures.\n"
      ],
      "metadata": {
        "id": "JqxyljU18hvt"
      }
    },
    {
      "cell_type": "markdown",
      "source": [
        "# Set up"
      ],
      "metadata": {
        "id": "6GLD2nXvo-r4"
      }
    },
    {
      "cell_type": "code",
      "execution_count": null,
      "source": [
        "import numpy as np\n",
        "import pandas as pd\n",
        "import random\n",
        "import torch\n",
        "import torch.nn as nn"
      ],
      "outputs": [],
      "metadata": {
        "id": "y3qKSoEe57na"
      }
    },
    {
      "cell_type": "code",
      "execution_count": null,
      "source": [
        "SEED = 1234"
      ],
      "outputs": [],
      "metadata": {
        "id": "ZMLLoU5htnxT"
      }
    },
    {
      "cell_type": "code",
      "execution_count": null,
      "source": [
        "def set_seeds(seed=1234):\n",
        "    \"\"\"Set seeds for reproducibility.\"\"\"\n",
        "    np.random.seed(seed)\n",
        "    random.seed(seed)\n",
        "    torch.manual_seed(seed)\n",
        "    torch.cuda.manual_seed(seed)\n",
        "    torch.cuda.manual_seed_all(seed) # multi-GPU"
      ],
      "outputs": [],
      "metadata": {
        "id": "xK1YEDDotQ3V"
      }
    },
    {
      "cell_type": "code",
      "execution_count": null,
      "source": [
        "# Set seeds for reproducibility\n",
        "set_seeds(seed=SEED)"
      ],
      "outputs": [],
      "metadata": {
        "id": "XU1TUOBitpaR"
      }
    },
    {
      "cell_type": "code",
      "execution_count": null,
      "source": [
        "# Set device\n",
        "cuda = True\n",
        "device = torch.device(\"cuda\" if (\n",
        "    torch.cuda.is_available() and cuda) else \"cpu\")\n",
        "torch.set_default_tensor_type(\"torch.FloatTensor\")\n",
        "if device.type == \"cuda\":\n",
        "    torch.set_default_tensor_type(\"torch.cuda.FloatTensor\")\n",
        "print (device)"
      ],
      "outputs": [
        {
          "output_type": "stream",
          "name": "stdout",
          "text": [
            "cuda\n"
          ]
        }
      ],
      "metadata": {
        "colab": {
          "base_uri": "https://localhost:8080/"
        },
        "id": "86uoTigW0ylA",
        "outputId": "12da2af1-c8fa-4e0d-83b2-5d7467820f09"
      }
    },
    {
      "cell_type": "markdown",
      "source": [
        "## Load data"
      ],
      "metadata": {
        "id": "c69z9wpJ56nE"
      }
    },
    {
      "cell_type": "markdown",
      "source": [
        "We will download the [AG News dataset](http://www.di.unipi.it/~gulli/AG_corpus_of_news_articles.html), which consists of 120K text samples from 4 unique classes (`Business`, `Sci/Tech`, `Sports`, `World`)"
      ],
      "metadata": {
        "id": "2V_nEp5G58M0"
      }
    },
    {
      "cell_type": "code",
      "execution_count": null,
      "source": [
        "# Load data\n",
        "url = \"https://raw.githubusercontent.com/GokuMohandas/MadeWithML/main/datasets/news.csv\"\n",
        "df = pd.read_csv(url, header=0) # load\n",
        "df = df.sample(frac=1).reset_index(drop=True) # shuffle\n",
        "df.head()"
      ],
      "outputs": [
        {
          "output_type": "execute_result",
          "data": {
            "text/plain": [
              "                                               title  category\n",
              "0  Sharon Accepts Plan to Reduce Gaza Army Operat...     World\n",
              "1  Internet Key Battleground in Wildlife Crime Fight  Sci/Tech\n",
              "2          July Durable Good Orders Rise 1.7 Percent  Business\n",
              "3          Growing Signs of a Slowing on Wall Street  Business\n",
              "4                        The New Faces of Reality TV     World"
            ],
            "text/html": [
              "\n",
              "  <div id=\"df-fb43f86e-a12f-4313-b0e9-8defe064d3db\">\n",
              "    <div class=\"colab-df-container\">\n",
              "      <div>\n",
              "<style scoped>\n",
              "    .dataframe tbody tr th:only-of-type {\n",
              "        vertical-align: middle;\n",
              "    }\n",
              "\n",
              "    .dataframe tbody tr th {\n",
              "        vertical-align: top;\n",
              "    }\n",
              "\n",
              "    .dataframe thead th {\n",
              "        text-align: right;\n",
              "    }\n",
              "</style>\n",
              "<table border=\"1\" class=\"dataframe\">\n",
              "  <thead>\n",
              "    <tr style=\"text-align: right;\">\n",
              "      <th></th>\n",
              "      <th>title</th>\n",
              "      <th>category</th>\n",
              "    </tr>\n",
              "  </thead>\n",
              "  <tbody>\n",
              "    <tr>\n",
              "      <th>0</th>\n",
              "      <td>Sharon Accepts Plan to Reduce Gaza Army Operat...</td>\n",
              "      <td>World</td>\n",
              "    </tr>\n",
              "    <tr>\n",
              "      <th>1</th>\n",
              "      <td>Internet Key Battleground in Wildlife Crime Fight</td>\n",
              "      <td>Sci/Tech</td>\n",
              "    </tr>\n",
              "    <tr>\n",
              "      <th>2</th>\n",
              "      <td>July Durable Good Orders Rise 1.7 Percent</td>\n",
              "      <td>Business</td>\n",
              "    </tr>\n",
              "    <tr>\n",
              "      <th>3</th>\n",
              "      <td>Growing Signs of a Slowing on Wall Street</td>\n",
              "      <td>Business</td>\n",
              "    </tr>\n",
              "    <tr>\n",
              "      <th>4</th>\n",
              "      <td>The New Faces of Reality TV</td>\n",
              "      <td>World</td>\n",
              "    </tr>\n",
              "  </tbody>\n",
              "</table>\n",
              "</div>\n",
              "      <button class=\"colab-df-convert\" onclick=\"convertToInteractive('df-fb43f86e-a12f-4313-b0e9-8defe064d3db')\"\n",
              "              title=\"Convert this dataframe to an interactive table.\"\n",
              "              style=\"display:none;\">\n",
              "        \n",
              "  <svg xmlns=\"http://www.w3.org/2000/svg\" height=\"24px\"viewBox=\"0 0 24 24\"\n",
              "       width=\"24px\">\n",
              "    <path d=\"M0 0h24v24H0V0z\" fill=\"none\"/>\n",
              "    <path d=\"M18.56 5.44l.94 2.06.94-2.06 2.06-.94-2.06-.94-.94-2.06-.94 2.06-2.06.94zm-11 1L8.5 8.5l.94-2.06 2.06-.94-2.06-.94L8.5 2.5l-.94 2.06-2.06.94zm10 10l.94 2.06.94-2.06 2.06-.94-2.06-.94-.94-2.06-.94 2.06-2.06.94z\"/><path d=\"M17.41 7.96l-1.37-1.37c-.4-.4-.92-.59-1.43-.59-.52 0-1.04.2-1.43.59L10.3 9.45l-7.72 7.72c-.78.78-.78 2.05 0 2.83L4 21.41c.39.39.9.59 1.41.59.51 0 1.02-.2 1.41-.59l7.78-7.78 2.81-2.81c.8-.78.8-2.07 0-2.86zM5.41 20L4 18.59l7.72-7.72 1.47 1.35L5.41 20z\"/>\n",
              "  </svg>\n",
              "      </button>\n",
              "      \n",
              "  <style>\n",
              "    .colab-df-container {\n",
              "      display:flex;\n",
              "      flex-wrap:wrap;\n",
              "      gap: 12px;\n",
              "    }\n",
              "\n",
              "    .colab-df-convert {\n",
              "      background-color: #E8F0FE;\n",
              "      border: none;\n",
              "      border-radius: 50%;\n",
              "      cursor: pointer;\n",
              "      display: none;\n",
              "      fill: #1967D2;\n",
              "      height: 32px;\n",
              "      padding: 0 0 0 0;\n",
              "      width: 32px;\n",
              "    }\n",
              "\n",
              "    .colab-df-convert:hover {\n",
              "      background-color: #E2EBFA;\n",
              "      box-shadow: 0px 1px 2px rgba(60, 64, 67, 0.3), 0px 1px 3px 1px rgba(60, 64, 67, 0.15);\n",
              "      fill: #174EA6;\n",
              "    }\n",
              "\n",
              "    [theme=dark] .colab-df-convert {\n",
              "      background-color: #3B4455;\n",
              "      fill: #D2E3FC;\n",
              "    }\n",
              "\n",
              "    [theme=dark] .colab-df-convert:hover {\n",
              "      background-color: #434B5C;\n",
              "      box-shadow: 0px 1px 3px 1px rgba(0, 0, 0, 0.15);\n",
              "      filter: drop-shadow(0px 1px 2px rgba(0, 0, 0, 0.3));\n",
              "      fill: #FFFFFF;\n",
              "    }\n",
              "  </style>\n",
              "\n",
              "      <script>\n",
              "        const buttonEl =\n",
              "          document.querySelector('#df-fb43f86e-a12f-4313-b0e9-8defe064d3db button.colab-df-convert');\n",
              "        buttonEl.style.display =\n",
              "          google.colab.kernel.accessAllowed ? 'block' : 'none';\n",
              "\n",
              "        async function convertToInteractive(key) {\n",
              "          const element = document.querySelector('#df-fb43f86e-a12f-4313-b0e9-8defe064d3db');\n",
              "          const dataTable =\n",
              "            await google.colab.kernel.invokeFunction('convertToInteractive',\n",
              "                                                     [key], {});\n",
              "          if (!dataTable) return;\n",
              "\n",
              "          const docLinkHtml = 'Like what you see? Visit the ' +\n",
              "            '<a target=\"_blank\" href=https://colab.research.google.com/notebooks/data_table.ipynb>data table notebook</a>'\n",
              "            + ' to learn more about interactive tables.';\n",
              "          element.innerHTML = '';\n",
              "          dataTable['output_type'] = 'display_data';\n",
              "          await google.colab.output.renderOutput(dataTable, element);\n",
              "          const docLink = document.createElement('div');\n",
              "          docLink.innerHTML = docLinkHtml;\n",
              "          element.appendChild(docLink);\n",
              "        }\n",
              "      </script>\n",
              "    </div>\n",
              "  </div>\n",
              "  "
            ]
          },
          "metadata": {},
          "execution_count": 6
        }
      ],
      "metadata": {
        "id": "cdjdvnOGrsZP",
        "colab": {
          "base_uri": "https://localhost:8080/",
          "height": 206
        },
        "outputId": "2173978a-244f-4b8f-8927-c3a586d8793b"
      }
    },
    {
      "cell_type": "markdown",
      "source": [
        "## Preprocessing"
      ],
      "metadata": {
        "id": "RQUDEgwloxhF"
      }
    },
    {
      "cell_type": "markdown",
      "source": [
        "We're going to clean up our input data first by doing operations such as lower text, removing stop (filler) words, filters using regular expressions, etc."
      ],
      "metadata": {
        "id": "2QKp1TyPpBKG"
      }
    },
    {
      "cell_type": "code",
      "execution_count": null,
      "source": [
        "import nltk\n",
        "from nltk.corpus import stopwords\n",
        "from nltk.stem import PorterStemmer\n",
        "import re"
      ],
      "outputs": [],
      "metadata": {
        "id": "S-Mv_g0cowkR"
      }
    },
    {
      "cell_type": "code",
      "execution_count": null,
      "source": [
        "nltk.download(\"stopwords\")\n",
        "STOPWORDS = stopwords.words(\"english\")\n",
        "print (STOPWORDS[:5])\n",
        "porter = PorterStemmer()"
      ],
      "outputs": [
        {
          "output_type": "stream",
          "name": "stdout",
          "text": [
            "[nltk_data] Downloading package stopwords to /root/nltk_data...\n",
            "[nltk_data]   Unzipping corpora/stopwords.zip.\n",
            "['i', 'me', 'my', 'myself', 'we']\n"
          ]
        }
      ],
      "metadata": {
        "colab": {
          "base_uri": "https://localhost:8080/"
        },
        "id": "K0DwdEzxownP",
        "outputId": "777145bc-3ff0-4433-9ed0-afbc6537a066"
      }
    },
    {
      "cell_type": "code",
      "execution_count": null,
      "source": [
        "def preprocess(text, stopwords=STOPWORDS):\n",
        "    \"\"\"Conditional preprocessing on our text unique to our task.\"\"\"\n",
        "    # Lower\n",
        "    text = text.lower()\n",
        "\n",
        "    # Remove stopwords\n",
        "    pattern = re.compile(r'\\b(' + r'|'.join(stopwords) + r')\\b\\s*')\n",
        "    text = pattern.sub('', text)\n",
        "\n",
        "    # Remove words in paranthesis\n",
        "    text = re.sub(r'\\([^)]*\\)', '', text)\n",
        "\n",
        "    # Spacing and filters\n",
        "    text = re.sub(r\"([-;;.,!?<=>])\", r\" \\1 \", text)\n",
        "    text = re.sub('[^A-Za-z0-9]+', ' ', text) # remove non alphanumeric chars\n",
        "    text = re.sub(' +', ' ', text)  # remove multiple spaces\n",
        "    text = text.strip()\n",
        "\n",
        "    return text"
      ],
      "outputs": [],
      "metadata": {
        "id": "w1Yyrsp0owqk"
      }
    },
    {
      "cell_type": "code",
      "execution_count": null,
      "source": [
        "# Sample\n",
        "text = \"Great week for the NYSE!\"\n",
        "preprocess(text=text)"
      ],
      "outputs": [
        {
          "output_type": "execute_result",
          "data": {
            "text/plain": [
              "'great week nyse'"
            ],
            "application/vnd.google.colaboratory.intrinsic+json": {
              "type": "string"
            }
          },
          "metadata": {},
          "execution_count": 10
        }
      ],
      "metadata": {
        "colab": {
          "base_uri": "https://localhost:8080/",
          "height": 36
        },
        "id": "zvcSy1wSowtC",
        "outputId": "0dd8db12-fc54-4429-cabb-b2a0e1c0c440"
      }
    },
    {
      "cell_type": "code",
      "execution_count": null,
      "source": [
        "# Apply to dataframe\n",
        "preprocessed_df = df.copy()\n",
        "preprocessed_df.title = preprocessed_df.title.apply(preprocess)\n",
        "print (f\"{df.title.values[0]}\\n\\n{preprocessed_df.title.values[0]}\")"
      ],
      "outputs": [
        {
          "output_type": "stream",
          "name": "stdout",
          "text": [
            "Sharon Accepts Plan to Reduce Gaza Army Operation, Haaretz Says\n",
            "\n",
            "sharon accepts plan reduce gaza army operation haaretz says\n"
          ]
        }
      ],
      "metadata": {
        "colab": {
          "base_uri": "https://localhost:8080/"
        },
        "id": "czjQ3lrrowwh",
        "outputId": "1da42467-cc67-418d-e1df-d0cca0f75ae4"
      }
    },
    {
      "cell_type": "markdown",
      "source": [
        "> If you have preprocessing steps like standardization, etc. that are calculated, you need to separate the training and test set first before applying those operations. This is because we cannot apply any knowledge gained from the test set accidentally (data leak) during preprocessing/training. However for global preprocessing steps like the function above where we aren't learning anything from the data itself, we can perform before splitting the data."
      ],
      "metadata": {
        "id": "h5ZPPgPApLL1"
      }
    },
    {
      "cell_type": "markdown",
      "source": [
        "## Split data"
      ],
      "metadata": {
        "id": "zgStr_fDpMU4"
      }
    },
    {
      "cell_type": "code",
      "execution_count": null,
      "source": [
        "import collections\n",
        "from sklearn.model_selection import train_test_split"
      ],
      "outputs": [],
      "metadata": {
        "id": "287RCymQowyV"
      }
    },
    {
      "cell_type": "code",
      "execution_count": null,
      "source": [
        "TRAIN_SIZE = 0.7\n",
        "VAL_SIZE = 0.15\n",
        "TEST_SIZE = 0.15"
      ],
      "outputs": [],
      "metadata": {
        "id": "BU--xNveow11"
      }
    },
    {
      "cell_type": "code",
      "execution_count": null,
      "source": [
        "def train_val_test_split(X, y, train_size):\n",
        "    \"\"\"Split dataset into data splits.\"\"\"\n",
        "    X_train, X_, y_train, y_ = train_test_split(X, y, train_size=TRAIN_SIZE, stratify=y)\n",
        "    X_val, X_test, y_val, y_test = train_test_split(X_, y_, train_size=0.5, stratify=y_)\n",
        "    return X_train, X_val, X_test, y_train, y_val, y_test"
      ],
      "outputs": [],
      "metadata": {
        "id": "OyQJ6x0vpP7c"
      }
    },
    {
      "cell_type": "code",
      "execution_count": null,
      "source": [
        "# Data\n",
        "X = preprocessed_df[\"title\"].values\n",
        "y = preprocessed_df[\"category\"].values"
      ],
      "outputs": [],
      "metadata": {
        "id": "KKvtQWxepP-C"
      }
    },
    {
      "cell_type": "code",
      "execution_count": null,
      "source": [
        "# Create data splits\n",
        "X_train, X_val, X_test, y_train, y_val, y_test = train_val_test_split(\n",
        "    X=X, y=y, train_size=TRAIN_SIZE)\n",
        "print (f\"X_train: {X_train.shape}, y_train: {y_train.shape}\")\n",
        "print (f\"X_val: {X_val.shape}, y_val: {y_val.shape}\")\n",
        "print (f\"X_test: {X_test.shape}, y_test: {y_test.shape}\")\n",
        "print (f\"Sample point: {X_train[0]} → {y_train[0]}\")"
      ],
      "outputs": [
        {
          "output_type": "stream",
          "name": "stdout",
          "text": [
            "X_train: (84000,), y_train: (84000,)\n",
            "X_val: (18000,), y_val: (18000,)\n",
            "X_test: (18000,), y_test: (18000,)\n",
            "Sample point: china battles north korea nuclear talks → World\n"
          ]
        }
      ],
      "metadata": {
        "colab": {
          "base_uri": "https://localhost:8080/"
        },
        "id": "bnjaba3CpQAm",
        "outputId": "16981777-2218-4ca6-b063-80a687053c6a"
      }
    },
    {
      "cell_type": "markdown",
      "source": [
        "## LabelEncoder"
      ],
      "metadata": {
        "id": "6JJBLk0rpVrX"
      }
    },
    {
      "cell_type": "markdown",
      "source": [
        "Next we'll define a `LabelEncoder` to encode our text labels into unique indices"
      ],
      "metadata": {
        "id": "gxCbJ294pYfd"
      }
    },
    {
      "cell_type": "code",
      "execution_count": null,
      "source": [
        "import itertools"
      ],
      "outputs": [],
      "metadata": {
        "id": "_voCWJ41pQIH"
      }
    },
    {
      "cell_type": "code",
      "execution_count": null,
      "source": [
        "class LabelEncoder(object):\n",
        "    \"\"\"Label encoder for tag labels.\"\"\"\n",
        "    def __init__(self, class_to_index={}):\n",
        "        self.class_to_index = class_to_index\n",
        "        self.index_to_class = {v: k for k, v in self.class_to_index.items()}\n",
        "        self.classes = list(self.class_to_index.keys())\n",
        "\n",
        "    def __len__(self):\n",
        "        return len(self.class_to_index)\n",
        "\n",
        "    def __str__(self):\n",
        "        return f\"<LabelEncoder(num_classes={len(self)})>\"\n",
        "\n",
        "    def fit(self, y):\n",
        "        classes = np.unique(y)\n",
        "        for i, class_ in enumerate(classes):\n",
        "            self.class_to_index[class_] = i\n",
        "        self.index_to_class = {v: k for k, v in self.class_to_index.items()}\n",
        "        self.classes = list(self.class_to_index.keys())\n",
        "        return self\n",
        "\n",
        "    def encode(self, y):\n",
        "        encoded = np.zeros((len(y)), dtype=int)\n",
        "        for i, item in enumerate(y):\n",
        "            encoded[i] = self.class_to_index[item]\n",
        "        return encoded\n",
        "\n",
        "    def decode(self, y):\n",
        "        classes = []\n",
        "        for i, item in enumerate(y):\n",
        "            classes.append(self.index_to_class[item])\n",
        "        return classes\n",
        "\n",
        "    def save(self, fp):\n",
        "        with open(fp, \"w\") as fp:\n",
        "            contents = {'class_to_index': self.class_to_index}\n",
        "            json.dump(contents, fp, indent=4, sort_keys=False)\n",
        "\n",
        "    @classmethod\n",
        "    def load(cls, fp):\n",
        "        with open(fp, \"r\") as fp:\n",
        "            kwargs = json.load(fp=fp)\n",
        "        return cls(**kwargs)"
      ],
      "outputs": [],
      "metadata": {
        "id": "p9Ya97mMp0uR"
      }
    },
    {
      "cell_type": "code",
      "execution_count": null,
      "source": [
        "# Encode\n",
        "label_encoder = LabelEncoder()\n",
        "label_encoder.fit(y_train)\n",
        "NUM_CLASSES = len(label_encoder)\n",
        "label_encoder.class_to_index"
      ],
      "outputs": [
        {
          "output_type": "execute_result",
          "data": {
            "text/plain": [
              "{'Business': 0, 'Sci/Tech': 1, 'Sports': 2, 'World': 3}"
            ]
          },
          "metadata": {},
          "execution_count": 19
        }
      ],
      "metadata": {
        "colab": {
          "base_uri": "https://localhost:8080/"
        },
        "id": "WIFZYOLzp0ws",
        "outputId": "2161d0a2-cf23-4b37-eacc-915e4d8f12b7"
      }
    },
    {
      "cell_type": "code",
      "execution_count": null,
      "source": [
        "# Convert labels to tokens\n",
        "print (f\"y_train[0]: {y_train[0]}\")\n",
        "y_train = label_encoder.encode(y_train)\n",
        "y_val = label_encoder.encode(y_val)\n",
        "y_test = label_encoder.encode(y_test)\n",
        "print (f\"y_train[0]: {y_train[0]}\")"
      ],
      "outputs": [
        {
          "output_type": "stream",
          "name": "stdout",
          "text": [
            "y_train[0]: World\n",
            "y_train[0]: 3\n"
          ]
        }
      ],
      "metadata": {
        "colab": {
          "base_uri": "https://localhost:8080/"
        },
        "id": "MUMaapBCp0zq",
        "outputId": "df3c5858-66db-409c-d8ac-7be820315820"
      }
    },
    {
      "cell_type": "code",
      "execution_count": null,
      "source": [
        "# Class weights\n",
        "counts = np.bincount(y_train)\n",
        "class_weights = {i: 1.0/count for i, count in enumerate(counts)}\n",
        "print (f\"counts: {counts}\\nweights: {class_weights}\")"
      ],
      "outputs": [
        {
          "output_type": "stream",
          "name": "stdout",
          "text": [
            "counts: [21000 21000 21000 21000]\n",
            "weights: {0: 4.761904761904762e-05, 1: 4.761904761904762e-05, 2: 4.761904761904762e-05, 3: 4.761904761904762e-05}\n"
          ]
        }
      ],
      "metadata": {
        "colab": {
          "base_uri": "https://localhost:8080/"
        },
        "id": "U2jYqr5Yp015",
        "outputId": "da9fcc1c-1162-4bd8-d612-0032180e2bc2"
      }
    },
    {
      "cell_type": "markdown",
      "source": [
        "# Tokenizer"
      ],
      "metadata": {
        "id": "8ULHakYnp7fA"
      }
    },
    {
      "cell_type": "markdown",
      "source": [
        "Our input data is text and we can't feed it directly to our models. So, we'll define a `Tokenizer` to convert our text input data into token indices. This means that every token (we can decide what a token is char, word, sub-word, etc.) is mapped to a unique index which allows us to represent our text as an array of indices. "
      ],
      "metadata": {
        "id": "FXEyU6evp-4P"
      }
    },
    {
      "cell_type": "code",
      "execution_count": null,
      "source": [
        "import json\n",
        "from collections import Counter\n",
        "from more_itertools import take"
      ],
      "outputs": [],
      "metadata": {
        "id": "DxSzCrYJpQKq"
      }
    },
    {
      "cell_type": "code",
      "execution_count": null,
      "source": [
        "class Tokenizer(object):\n",
        "    def __init__(self, char_level, num_tokens=None, \n",
        "                 pad_token='<PAD>', oov_token='<UNK>',\n",
        "                 token_to_index=None):\n",
        "        self.char_level = char_level\n",
        "        self.separator = '' if self.char_level else ' '\n",
        "        if num_tokens: num_tokens -= 2 # pad + unk tokens\n",
        "        self.num_tokens = num_tokens\n",
        "        self.pad_token = pad_token\n",
        "        self.oov_token = oov_token\n",
        "        if not token_to_index:\n",
        "            token_to_index = {pad_token: 0, oov_token: 1}\n",
        "        self.token_to_index = token_to_index\n",
        "        self.index_to_token = {v: k for k, v in self.token_to_index.items()}\n",
        "\n",
        "    def __len__(self):\n",
        "        return len(self.token_to_index)\n",
        "\n",
        "    def __str__(self):\n",
        "        return f\"<Tokenizer(num_tokens={len(self)})>\"\n",
        "\n",
        "    def fit_on_texts(self, texts):\n",
        "        if not self.char_level:\n",
        "            texts = [text.split(\" \") for text in texts]\n",
        "        all_tokens = [token for text in texts for token in text]\n",
        "        counts = Counter(all_tokens).most_common(self.num_tokens)\n",
        "        self.min_token_freq = counts[-1][1]\n",
        "        for token, count in counts:\n",
        "            index = len(self)\n",
        "            self.token_to_index[token] = index\n",
        "            self.index_to_token[index] = token\n",
        "        return self\n",
        "\n",
        "    def texts_to_sequences(self, texts):\n",
        "        sequences = []\n",
        "        for text in texts:\n",
        "            if not self.char_level:\n",
        "                text = text.split(' ')\n",
        "            sequence = []\n",
        "            for token in text:\n",
        "                sequence.append(self.token_to_index.get(\n",
        "                    token, self.token_to_index[self.oov_token]))\n",
        "            sequences.append(np.asarray(sequence))\n",
        "        return sequences\n",
        "\n",
        "    def sequences_to_texts(self, sequences):\n",
        "        texts = []\n",
        "        for sequence in sequences:\n",
        "            text = []\n",
        "            for index in sequence:\n",
        "                text.append(self.index_to_token.get(index, self.oov_token))\n",
        "            texts.append(self.separator.join([token for token in text]))\n",
        "        return texts\n",
        "\n",
        "    def save(self, fp):\n",
        "        with open(fp, \"w\") as fp:\n",
        "            contents = {\n",
        "                \"char_level\": self.char_level,\n",
        "                \"oov_token\": self.oov_token,\n",
        "                \"token_to_index\": self.token_to_index\n",
        "            }\n",
        "            json.dump(contents, fp, indent=4, sort_keys=False)\n",
        "\n",
        "    @classmethod\n",
        "    def load(cls, fp):\n",
        "        with open(fp, \"r\") as fp:\n",
        "            kwargs = json.load(fp=fp)\n",
        "        return cls(**kwargs)"
      ],
      "outputs": [],
      "metadata": {
        "id": "ymD8m7Lfow4J"
      }
    },
    {
      "cell_type": "markdown",
      "source": [
        "We're going to restrict the number of tokens in our `Tokenizer` to the top 500 most frequent tokens (stop words already removed) because the full vocabulary size (~30K) is too large to run on Google Colab notebooks.\n",
        "\n",
        "> It's important that we only fit using our train data split because during inference, our model will not always know every token so it's important to replicate that scenario with our validation and test splits as well."
      ],
      "metadata": {
        "id": "UUNjbGizqb1v"
      }
    },
    {
      "cell_type": "code",
      "execution_count": null,
      "source": [
        "# Tokenize\n",
        "tokenizer = Tokenizer(char_level=False, num_tokens=500)\n",
        "tokenizer.fit_on_texts(texts=X_train)\n",
        "VOCAB_SIZE = len(tokenizer)\n",
        "print (tokenizer)"
      ],
      "outputs": [
        {
          "output_type": "stream",
          "name": "stdout",
          "text": [
            "<Tokenizer(num_tokens=500)>\n"
          ]
        }
      ],
      "metadata": {
        "colab": {
          "base_uri": "https://localhost:8080/"
        },
        "id": "2HWkNc94qVH8",
        "outputId": "499ef6e4-9ac8-4a74-ad9b-23cc04c122d8"
      }
    },
    {
      "cell_type": "code",
      "execution_count": null,
      "source": [
        "# Sample of tokens\n",
        "print (take(5, tokenizer.token_to_index.items()))\n",
        "print (f\"least freq token's freq: {tokenizer.min_token_freq}\") # use this to adjust num_tokens"
      ],
      "outputs": [
        {
          "output_type": "stream",
          "name": "stdout",
          "text": [
            "[('<PAD>', 0), ('<UNK>', 1), ('39', 2), ('b', 3), ('gt', 4)]\n",
            "least freq token's freq: 166\n"
          ]
        }
      ],
      "metadata": {
        "colab": {
          "base_uri": "https://localhost:8080/"
        },
        "id": "9x_RK5xBqVKX",
        "outputId": "587604c2-7d21-4684-df78-a64037eafa60"
      }
    },
    {
      "cell_type": "code",
      "execution_count": null,
      "source": [
        "# Convert texts to sequences of indices\n",
        "X_train = tokenizer.texts_to_sequences(X_train)\n",
        "X_val = tokenizer.texts_to_sequences(X_val)\n",
        "X_test = tokenizer.texts_to_sequences(X_test)\n",
        "preprocessed_text = tokenizer.sequences_to_texts([X_train[0]])[0]\n",
        "print (\"Text to indices:\\n\"\n",
        "    f\"  (preprocessed) → {preprocessed_text}\\n\"\n",
        "    f\"  (tokenized) → {X_train[0]}\")"
      ],
      "outputs": [
        {
          "output_type": "stream",
          "name": "stdout",
          "text": [
            "Text to indices:\n",
            "  (preprocessed) → china <UNK> north korea nuclear talks\n",
            "  (tokenized) → [ 16   1 285 142 114  24]\n"
          ]
        }
      ],
      "metadata": {
        "colab": {
          "base_uri": "https://localhost:8080/"
        },
        "id": "7CQYu3DFqVNR",
        "outputId": "dbc15f69-03c9-41c4-c03b-db4db549dc11"
      }
    },
    {
      "cell_type": "markdown",
      "source": [
        "# One-hot encoding"
      ],
      "metadata": {
        "id": "X_BtTeojq4UU"
      }
    },
    {
      "cell_type": "markdown",
      "source": [
        "One-hot encoding creates a binary column for each unique value for the feature we're trying to map.  All of the values in each token's array will be 0 except at the index that this specific token is represented by.\n",
        "\n",
        "There are 5 words in the vocabulary:\n",
        "```json\n",
        "{\n",
        "    \"a\": 0,\n",
        "    \"e\": 1,\n",
        "    \"i\": 2,\n",
        "    \"o\": 3,\n",
        "    \"u\": 4\n",
        "}\n",
        "```\n",
        "\n",
        "Then the text `aou` would be represented by:\n",
        "```python\n",
        "[[1. 0. 0. 0. 0.]\n",
        " [0. 0. 0. 1. 0.]\n",
        " [0. 0. 0. 0. 1.]]\n",
        "```\n",
        "\n",
        "One-hot encoding allows us to represent our data in a way that our models can process the data and isn't biased by the actual value of the token (ex. if your labels were actual numbers). \n",
        "\n",
        "> We have already applied one-hot encoding in the previous lessons when we encoded our labels. Each label was represented by a unique index but when determining loss, we effectively use it's one hot representation and compared it to the predicted probability distribution. We never explicitly wrote this out since all of our previous tasks were multi-class which means every input had just one output class, so the 0s didn't affect the loss (though it did matter during back propagation)."
      ],
      "metadata": {
        "id": "XgB24lwpq7aA"
      }
    },
    {
      "cell_type": "code",
      "execution_count": null,
      "source": [
        "def to_categorical(seq, num_classes):\n",
        "    \"\"\"One-hot encode a sequence of tokens.\"\"\"\n",
        "    one_hot = np.zeros((len(seq), num_classes))\n",
        "    for i, item in enumerate(seq):\n",
        "        one_hot[i, item] = 1.\n",
        "    return one_hot"
      ],
      "outputs": [],
      "metadata": {
        "id": "tYqX76Lpq4aK"
      }
    },
    {
      "cell_type": "code",
      "execution_count": null,
      "source": [
        "# One-hot encoding\n",
        "print (X_train[0])\n",
        "print (len(X_train[0]))\n",
        "cat = to_categorical(seq=X_train[0], num_classes=len(tokenizer))\n",
        "print (cat)\n",
        "print (cat.shape)"
      ],
      "outputs": [
        {
          "output_type": "stream",
          "name": "stdout",
          "text": [
            "[ 16   1 285 142 114  24]\n",
            "6\n",
            "[[0. 0. 0. ... 0. 0. 0.]\n",
            " [0. 1. 0. ... 0. 0. 0.]\n",
            " [0. 0. 0. ... 0. 0. 0.]\n",
            " [0. 0. 0. ... 0. 0. 0.]\n",
            " [0. 0. 0. ... 0. 0. 0.]\n",
            " [0. 0. 0. ... 0. 0. 0.]]\n",
            "(6, 500)\n"
          ]
        }
      ],
      "metadata": {
        "colab": {
          "base_uri": "https://localhost:8080/"
        },
        "id": "Nze7Wq-sq4cv",
        "outputId": "b211def4-e11d-4e3d-8de8-dc385040ffee"
      }
    },
    {
      "cell_type": "code",
      "execution_count": null,
      "source": [
        "# Convert tokens to one-hot\n",
        "vocab_size = len(tokenizer)\n",
        "X_train = [to_categorical(seq, num_classes=vocab_size) for seq in X_train]\n",
        "X_val = [to_categorical(seq, num_classes=vocab_size) for seq in X_val]\n",
        "X_test = [to_categorical(seq, num_classes=vocab_size) for seq in X_test]"
      ],
      "outputs": [],
      "metadata": {
        "id": "FHAIYQLMq4fq"
      }
    },
    {
      "cell_type": "markdown",
      "source": [
        "# Padding"
      ],
      "metadata": {
        "id": "AvdiT_-6rnYF"
      }
    },
    {
      "cell_type": "markdown",
      "source": [
        "Our inputs are all of varying length but we need each batch to be uniformly shaped. Therefore, we will use padding to make all the inputs in the batch the same length. Our padding index will be 0 (note that this is consistent with the `<PAD>` token defined in our `Tokenizer`).\n",
        "\n",
        "> One-hot encoding creates a batch of shape (`N`, `max_seq_len`, `vocab_size`) so we'll need to be able to pad 3D sequences."
      ],
      "metadata": {
        "id": "M384IKVPrnpI"
      }
    },
    {
      "cell_type": "code",
      "execution_count": null,
      "source": [
        "def pad_sequences(sequences, max_seq_len=0):\n",
        "    \"\"\"Pad sequences to max length in sequence.\"\"\"\n",
        "    max_seq_len = max(max_seq_len, max(len(sequence) for sequence in sequences))\n",
        "    num_classes = sequences[0].shape[-1]\n",
        "    padded_sequences = np.zeros((len(sequences), max_seq_len, num_classes))\n",
        "    for i, sequence in enumerate(sequences):\n",
        "        padded_sequences[i][:len(sequence)] = sequence\n",
        "    return padded_sequences"
      ],
      "outputs": [],
      "metadata": {
        "id": "440sFfwBrnu8"
      }
    },
    {
      "cell_type": "code",
      "execution_count": null,
      "source": [
        "# 3D sequences\n",
        "print (X_train[0].shape, X_train[1].shape, X_train[2].shape)\n",
        "padded = pad_sequences(X_train[0:3])\n",
        "print (padded.shape)"
      ],
      "outputs": [
        {
          "output_type": "stream",
          "name": "stdout",
          "text": [
            "(6, 500) (5, 500) (6, 500)\n",
            "(3, 6, 500)\n"
          ]
        }
      ],
      "metadata": {
        "colab": {
          "base_uri": "https://localhost:8080/"
        },
        "id": "NeQoMsyUrnyD",
        "outputId": "58e30820-3999-4121-b9eb-74a9031c457c"
      }
    },
    {
      "cell_type": "markdown",
      "source": [
        "# Dataset"
      ],
      "metadata": {
        "id": "ii6RhseQsMKD"
      }
    },
    {
      "cell_type": "markdown",
      "source": [
        "We're going to place our data into a [`Dataset`](https://pytorch.org/docs/stable/data.html#torch.utils.data.Dataset) and use a [`DataLoader`](https://pytorch.org/docs/stable/data.html#torch.utils.data.DataLoader) to efficiently create batches for training and evaluation."
      ],
      "metadata": {
        "id": "Kd8PKjN8soc5"
      }
    },
    {
      "cell_type": "code",
      "execution_count": null,
      "source": [
        "FILTER_SIZE = 1 # unigram"
      ],
      "outputs": [],
      "metadata": {
        "id": "hNOtsJAgwv_4"
      }
    },
    {
      "cell_type": "code",
      "execution_count": null,
      "source": [
        "class Dataset(torch.utils.data.Dataset):\n",
        "    def __init__(self, X, y, max_filter_size):\n",
        "        self.X = X\n",
        "        self.y = y\n",
        "        self.max_filter_size = max_filter_size\n",
        "\n",
        "    def __len__(self):\n",
        "        return len(self.y)\n",
        "\n",
        "    def __str__(self):\n",
        "        return f\"<Dataset(N={len(self)})>\"\n",
        "\n",
        "    def __getitem__(self, index):\n",
        "        X = self.X[index]\n",
        "        y = self.y[index]\n",
        "        return [X, y]\n",
        "\n",
        "    def collate_fn(self, batch):\n",
        "        \"\"\"Processing on a batch.\"\"\"\n",
        "        # Get inputs\n",
        "        batch = np.array(batch, dtype=object)\n",
        "        X = batch[:, 0]\n",
        "        y = np.stack(batch[:, 1], axis=0)\n",
        "\n",
        "        # Pad sequences\n",
        "        X = pad_sequences(X, max_seq_len=self.max_filter_size)\n",
        "\n",
        "        # Cast\n",
        "        X = torch.FloatTensor(X.astype(np.int32))\n",
        "        y = torch.LongTensor(y.astype(np.int32))\n",
        "\n",
        "        return X, y\n",
        "\n",
        "    def create_dataloader(self, batch_size, shuffle=False, drop_last=False):\n",
        "        return torch.utils.data.DataLoader(\n",
        "            dataset=self, batch_size=batch_size, collate_fn=self.collate_fn,\n",
        "            shuffle=shuffle, drop_last=drop_last, pin_memory=True)"
      ],
      "outputs": [],
      "metadata": {
        "id": "VMS8vwTqrn3O"
      }
    },
    {
      "cell_type": "code",
      "execution_count": null,
      "source": [
        "# Create datasets for embedding\n",
        "train_dataset = Dataset(X=X_train, y=y_train, max_filter_size=FILTER_SIZE)\n",
        "val_dataset = Dataset(X=X_val, y=y_val, max_filter_size=FILTER_SIZE)\n",
        "test_dataset = Dataset(X=X_test, y=y_test, max_filter_size=FILTER_SIZE)\n",
        "print (\"Datasets:\\n\"\n",
        "    f\"  Train dataset:{train_dataset.__str__()}\\n\"\n",
        "    f\"  Val dataset: {val_dataset.__str__()}\\n\"\n",
        "    f\"  Test dataset: {test_dataset.__str__()}\\n\"\n",
        "    \"Sample point:\\n\"\n",
        "    f\"  X: {test_dataset[0][0]}\\n\"\n",
        "    f\"  y: {test_dataset[0][1]}\")"
      ],
      "outputs": [
        {
          "output_type": "stream",
          "name": "stdout",
          "text": [
            "Datasets:\n",
            "  Train dataset:<Dataset(N=84000)>\n",
            "  Val dataset: <Dataset(N=18000)>\n",
            "  Test dataset: <Dataset(N=18000)>\n",
            "Sample point:\n",
            "  X: [[0. 0. 0. ... 0. 0. 0.]\n",
            " [0. 1. 0. ... 0. 0. 0.]\n",
            " [0. 1. 0. ... 0. 0. 0.]\n",
            " [0. 1. 0. ... 0. 0. 0.]]\n",
            "  y: 1\n"
          ]
        }
      ],
      "metadata": {
        "colab": {
          "base_uri": "https://localhost:8080/"
        },
        "id": "tXHORNGWrn6L",
        "outputId": "d14d8924-643d-4b0d-d989-7280c1cb319b"
      }
    },
    {
      "cell_type": "code",
      "execution_count": null,
      "source": [
        "# Create dataloaders\n",
        "batch_size = 64\n",
        "train_dataloader = train_dataset.create_dataloader(batch_size=batch_size)\n",
        "val_dataloader = val_dataset.create_dataloader(batch_size=batch_size)\n",
        "test_dataloader = test_dataset.create_dataloader(batch_size=batch_size)\n",
        "batch_X, batch_y = next(iter(test_dataloader))\n",
        "print (\"Sample batch:\\n\"\n",
        "    f\"  X: {list(batch_X.size())}\\n\"\n",
        "    f\"  y: {list(batch_y.size())}\\n\"\n",
        "    \"Sample point:\\n\"\n",
        "    f\"  X: {batch_X[0]}\\n\"\n",
        "    f\"  y: {batch_y[0]}\")"
      ],
      "outputs": [
        {
          "output_type": "stream",
          "name": "stdout",
          "text": [
            "Sample batch:\n",
            "  X: [64, 14, 500]\n",
            "  y: [64]\n",
            "Sample point:\n",
            "  X: tensor([[0., 0., 0.,  ..., 0., 0., 0.],\n",
            "        [0., 1., 0.,  ..., 0., 0., 0.],\n",
            "        [0., 1., 0.,  ..., 0., 0., 0.],\n",
            "        ...,\n",
            "        [0., 0., 0.,  ..., 0., 0., 0.],\n",
            "        [0., 0., 0.,  ..., 0., 0., 0.],\n",
            "        [0., 0., 0.,  ..., 0., 0., 0.]], device='cpu')\n",
            "  y: 1\n"
          ]
        }
      ],
      "metadata": {
        "colab": {
          "base_uri": "https://localhost:8080/"
        },
        "id": "77K7kzitqwdX",
        "outputId": "097defd3-4740-4a12-b4a8-9204eeb7736c"
      }
    },
    {
      "cell_type": "markdown",
      "source": [
        "# CNN"
      ],
      "metadata": {
        "id": "Y5FMz_VkzvvG"
      }
    },
    {
      "cell_type": "markdown",
      "source": [
        "## Inputs"
      ],
      "metadata": {
        "id": "I6Cs6GYInnD8"
      }
    },
    {
      "cell_type": "markdown",
      "source": [
        "We're going to learn about CNNs by applying them on 1D text data. In the dummy example below, our inputs are composed of character tokens that are one-hot encoded. We have a batch of N samples, where each sample has 8 characters and each character is represented by an array of 10 values (`vocab size=10`). This gives our inputs the size `(N, 8, 10)`.\n",
        "\n",
        "> With PyTorch, when dealing with convolution, our inputs (X) need to have the channels as the second dimension, so our inputs will be `(N, 10, 8)`. "
      ],
      "metadata": {
        "id": "sWf6pSvunpoC"
      }
    },
    {
      "cell_type": "code",
      "execution_count": null,
      "source": [
        "import math\n",
        "import torch\n",
        "import torch.nn as nn\n",
        "import torch.nn.functional as F"
      ],
      "outputs": [],
      "metadata": {
        "id": "c4AW9_QGpBqS"
      }
    },
    {
      "cell_type": "code",
      "execution_count": null,
      "source": [
        "# Assume all our inputs are padded to have the same # of words\n",
        "batch_size = 64\n",
        "max_seq_len = 8 # words per input\n",
        "vocab_size = 10 # one hot size\n",
        "x = torch.randn(batch_size, max_seq_len, vocab_size)\n",
        "print(f\"X: {x.shape}\")\n",
        "x = x.transpose(1, 2)\n",
        "print(f\"X: {x.shape}\")"
      ],
      "outputs": [
        {
          "output_type": "stream",
          "name": "stdout",
          "text": [
            "X: torch.Size([64, 8, 10])\n",
            "X: torch.Size([64, 10, 8])\n"
          ]
        }
      ],
      "metadata": {
        "id": "bCQeJEUVnnrR",
        "colab": {
          "base_uri": "https://localhost:8080/"
        },
        "outputId": "4f9d34b1-1826-452a-87a1-ddfcedcc83cb"
      }
    },
    {
      "cell_type": "markdown",
      "source": [
        "<div align=\"left\">\n",
        "<img src=\"https://raw.githubusercontent.com/GokuMohandas/MadeWithML/main/images/foundations/cnn/inputs.png\" width=\"500\">\n",
        "</div>\n",
        "\n",
        "This diagram above is for char-level tokens but extends to any level of tokenization (word-level in our case)."
      ],
      "metadata": {
        "id": "UAJMhb7DsFgV"
      }
    },
    {
      "cell_type": "markdown",
      "source": [
        "## Filters"
      ],
      "metadata": {
        "id": "3uLslqxFl_au"
      }
    },
    {
      "cell_type": "markdown",
      "source": [
        "At the core of CNNs are filters (aka weights, kernels, etc.) which convolve (slide) across our input to extract relevant features. The filters are initialized randomly but learn to pick up meaningful features from the input that aid in optimizing for the objective. The intuition here is that each filter represents a feature and we will use this filter on other inputs to capture the same feature (feature extraction via parameter sharing). \n",
        "\n",
        "We can see convolution in the diagram below where we simplified the filters and inputs to be 2D for ease of visualization. Also note that the values are 0/1s but in reality they can be any floating point value."
      ],
      "metadata": {
        "id": "JhhTVijAl-Yp"
      }
    },
    {
      "cell_type": "markdown",
      "source": [
        "<div align=\"left\">\n",
        "<img src=\"https://raw.githubusercontent.com/GokuMohandas/MadeWithML/main/images/foundations/cnn/convolution.gif\" width=\"500\">\n",
        "</div>"
      ],
      "metadata": {
        "id": "du4gRM5htR9W"
      }
    },
    {
      "cell_type": "markdown",
      "source": [
        "Now let's return to our actual inputs `x`, which is of shape (8, 10) [`max_seq_len`, `vocab_size`] and we want to convolve on this input using filters. We will use 50 filters that are of size (1, 3) and has the same depth as the number of channels (`num_channels` = `vocab_size` = `one_hot_size` = 10). This gives our filter a shape of (3, 10, 50) [`kernel_size`, `vocab_size`, `num_filters`]\n",
        "\n",
        "<div align=\"left\">\n",
        "<img src=\"https://raw.githubusercontent.com/GokuMohandas/MadeWithML/main/images/foundations/cnn/filters.png\" width=\"500\">\n",
        "</div>"
      ],
      "metadata": {
        "id": "96PfAWzYsOEI"
      }
    },
    {
      "cell_type": "markdown",
      "source": [
        "* **stride**: amount the filters move from one convolution operation to the next.\n",
        "* **padding**: values (typically zero) padded to the input, typically to create a volume with whole number dimensions."
      ],
      "metadata": {
        "id": "26nX0cVX-Bwl"
      }
    },
    {
      "cell_type": "markdown",
      "source": [
        "So far we've used a `stride` of 1 and `VALID` padding (no padding) but let's look at an example with a higher stride and difference between different padding approaches.\n",
        "\n",
        "Padding types:\n",
        "* **VALID**: no padding, the filters only use the \"valid\" values in the input. If the filter cannot reach all the input values (filters go left to right), the extra values on the right are dropped.\n",
        "* **SAME**: adds padding evenly to the right (preferred) and left sides of the input so that all values in the input are processed.\n",
        "\n",
        "<div align=\"left\">\n",
        "<img src=\"https://raw.githubusercontent.com/GokuMohandas/MadeWithML/main/images/foundations/cnn/padding.png\" width=\"500\">\n",
        "</div>"
      ],
      "metadata": {
        "id": "q5DH85gdEdR_"
      }
    },
    {
      "cell_type": "markdown",
      "source": [
        "We're going to use the [Conv1d](https://pytorch.org/docs/stable/generated/torch.nn.Conv1d.html#torch.nn.Conv1d) layer to process our inputs."
      ],
      "metadata": {
        "id": "wN7QCnCWuwiG"
      }
    },
    {
      "cell_type": "code",
      "execution_count": null,
      "source": [
        "# Convolutional filters (VALID padding)\n",
        "vocab_size = 10 # one hot size\n",
        "num_filters = 50 # num filters\n",
        "filter_size = 3 # filters are 3X3\n",
        "stride = 1\n",
        "padding = 0 # valid padding (no padding)\n",
        "conv1 = nn.Conv1d(in_channels=vocab_size, out_channels=num_filters, \n",
        "                  kernel_size=filter_size, stride=stride, \n",
        "                  padding=padding, padding_mode='zeros')\n",
        "print(\"conv: {}\".format(conv1.weight.shape))"
      ],
      "outputs": [
        {
          "output_type": "stream",
          "name": "stdout",
          "text": [
            "conv: torch.Size([50, 10, 3])\n"
          ]
        }
      ],
      "metadata": {
        "id": "0bwK2BE6diB3",
        "colab": {
          "base_uri": "https://localhost:8080/"
        },
        "outputId": "2b0cbb29-1f2c-4b14-ebaf-4dce4cf343ef"
      }
    },
    {
      "cell_type": "code",
      "execution_count": null,
      "source": [
        "# Forward pass\n",
        "z = conv1(x)\n",
        "print (f\"z: {z.shape}\")"
      ],
      "outputs": [
        {
          "output_type": "stream",
          "name": "stdout",
          "text": [
            "z: torch.Size([64, 50, 6])\n"
          ]
        }
      ],
      "metadata": {
        "id": "HYxn8MejfGi0",
        "colab": {
          "base_uri": "https://localhost:8080/"
        },
        "outputId": "c097568a-5cdf-46d7-d010-597d52e879db"
      }
    },
    {
      "cell_type": "markdown",
      "source": [
        "<div align=\"left\">\n",
        "<img src=\"https://raw.githubusercontent.com/GokuMohandas/MadeWithML/main/images/foundations/cnn/conv.png\" width=\"700\">\n",
        "</div>"
      ],
      "metadata": {
        "id": "wFD9qBslxs4A"
      }
    },
    {
      "cell_type": "markdown",
      "source": [
        "When we apply these filter on our inputs, we receive an output of shape (N, 6, 50). We get 50 for the output channel dim because we used 50 filters and 6 for the conv outputs because:\n",
        "\n",
        "$W_1 = \\frac{W_2 - F + 2P}{S} + 1 = \\frac{8 - 3 + 2(0)}{1} + 1 = 6$\n",
        "\n",
        "$H_1 = \\frac{H_2 - F + 2P}{S} + 1 = \\frac{1 - 1 + 2(0)}{1} + 1 = 1$\n",
        "\n",
        "$D_2 = D_1 $\n",
        "\n",
        "where:\n",
        "  * `W`: width of each input = 8\n",
        "  * `H`: height of each input = 1\n",
        "  * `D`: depth (# channels)\n",
        "  * `F`: filter size = 3\n",
        "  * `P`: padding = 0\n",
        "  * `S`: stride = 1"
      ],
      "metadata": {
        "id": "tcBbTPW6tZtr"
      }
    },
    {
      "cell_type": "markdown",
      "source": [
        "Now we'll add padding so that the convolutional outputs are the same shape as our inputs. The amount of padding for the `SAME` padding can be determined using the same equation. We want out output to have the same width as our input, so we solve for P:\n",
        "\n",
        "$ \\frac{W-F+2P}{S} + 1 = W $\n",
        "\n",
        "$ P = \\frac{S(W-1) - W + F}{2} $\n",
        "\n",
        "If $P$ is not a whole number, we round up (using `math.ceil`) and place the extra padding on the right side."
      ],
      "metadata": {
        "id": "NSE9tWhUKHPb"
      }
    },
    {
      "cell_type": "code",
      "execution_count": null,
      "source": [
        "# Convolutional filters (SAME padding)\n",
        "vocab_size = 10 # one hot size\n",
        "num_filters = 50 # num filters\n",
        "filter_size = 3 # filters are 3X3\n",
        "stride = 1\n",
        "conv = nn.Conv1d(in_channels=vocab_size, out_channels=num_filters, \n",
        "                 kernel_size=filter_size, stride=stride)\n",
        "print(\"conv: {}\".format(conv.weight.shape))"
      ],
      "outputs": [
        {
          "output_type": "stream",
          "name": "stdout",
          "text": [
            "conv: torch.Size([50, 10, 3])\n"
          ]
        }
      ],
      "metadata": {
        "id": "uXB9FwR6EkeA",
        "colab": {
          "base_uri": "https://localhost:8080/"
        },
        "outputId": "d195c190-0341-4bb6-b925-0f041e0d1621"
      }
    },
    {
      "cell_type": "code",
      "execution_count": null,
      "source": [
        "# `SAME` padding\n",
        "padding_left = int((conv.stride[0]*(max_seq_len-1) - max_seq_len + filter_size)/2)\n",
        "padding_right = int(math.ceil((conv.stride[0]*(max_seq_len-1) - max_seq_len + filter_size)/2))\n",
        "print (f\"padding: {(padding_left, padding_right)}\")"
      ],
      "outputs": [
        {
          "output_type": "stream",
          "name": "stdout",
          "text": [
            "padding: (1, 1)\n"
          ]
        }
      ],
      "metadata": {
        "id": "HQLr0RG9uIgK",
        "colab": {
          "base_uri": "https://localhost:8080/"
        },
        "outputId": "a2bad039-79d6-476f-d9a7-dd38e34ea653"
      }
    },
    {
      "cell_type": "code",
      "execution_count": null,
      "source": [
        "# Forward pass\n",
        "z = conv(F.pad(x, (padding_left, padding_right)))\n",
        "print (f\"z: {z.shape}\")"
      ],
      "outputs": [
        {
          "output_type": "stream",
          "name": "stdout",
          "text": [
            "z: torch.Size([64, 50, 8])\n"
          ]
        }
      ],
      "metadata": {
        "id": "KCxWRzxAEmJW",
        "colab": {
          "base_uri": "https://localhost:8080/"
        },
        "outputId": "fe2a9449-ecad-476e-bdc1-f0159976ac11"
      }
    },
    {
      "cell_type": "markdown",
      "source": [
        "> We will explore larger dimensional convolution layers in subsequent lessons. For example, [Conv2D](https://pytorch.org/docs/stable/generated/torch.nn.Conv2d.html#torch.nn.Conv2d) is used with 3D inputs (images, char-level text, etc.) and [Conv3D](https://pytorch.org/docs/stable/generated/torch.nn.Conv3d.html#torch.nn.Conv3d) is used for 4D inputs (videos, time-series, etc.)."
      ],
      "metadata": {
        "id": "FRD72rMHvWHN"
      }
    },
    {
      "cell_type": "markdown",
      "source": [
        "## Pooling"
      ],
      "metadata": {
        "id": "HpB8HSJNwLp-"
      }
    },
    {
      "cell_type": "markdown",
      "source": [
        "The result of convolving filters on an input is a feature map. Due to the nature of convolution and overlaps, our feature map will have lots of redundant information. Pooling is a way to summarize a high-dimensional feature map into a lower dimensional one for simplified downstream computation. The pooling operation can be the max value, average, etc. in a certain receptive field. Below is an example of pooling where the outputs from a conv layer are `4X4` and we're going to apply max pool filters of size `2X2`.\n",
        "\n",
        "<div align=\"left\">\n",
        "<img src=\"https://raw.githubusercontent.com/GokuMohandas/MadeWithML/main/images/foundations/cnn/pooling.png\" width=\"500\">\n",
        "</div>"
      ],
      "metadata": {
        "id": "WxRnbPy6wLuc"
      }
    },
    {
      "cell_type": "markdown",
      "source": [
        "$W_2 = \\frac{W_1 - F}{S} + 1 = \\frac{4 - 2}{2} + 1 = 2$\n",
        "\n",
        "$H_2 = \\frac{H_1 - F}{S} + 1 = \\frac{4 - 2}{2} + 1 = 2$\n",
        "\n",
        "$ D_2 = D_1 $\n",
        "\n",
        "where:\n",
        "  * `W`: width of each input = 4\n",
        "  * `H`: height of each input = 4\n",
        "  * `D`: depth (# channels)\n",
        "  * `F`: filter size = 2\n",
        "  * `S`: stride = 2"
      ],
      "metadata": {
        "id": "ok0EBECKc2QU"
      }
    },
    {
      "cell_type": "markdown",
      "source": [
        "In our use case, we want to just take the one max value so we will use the [MaxPool1D](https://pytorch.org/docs/stable/generated/torch.nn.MaxPool1d.html#torch.nn.MaxPool1d) layer, so our max-pool filter size will be max_seq_len.\n"
      ],
      "metadata": {
        "id": "5ijJtky9QHeX"
      }
    },
    {
      "cell_type": "code",
      "execution_count": null,
      "source": [
        "# Max pooling\n",
        "pool_output = F.max_pool1d(z, z.size(2))\n",
        "print(\"Size: {}\".format(pool_output.shape))"
      ],
      "outputs": [
        {
          "output_type": "stream",
          "name": "stdout",
          "text": [
            "Size: torch.Size([64, 50, 1])\n"
          ]
        }
      ],
      "metadata": {
        "id": "niptcsv2wUPA",
        "colab": {
          "base_uri": "https://localhost:8080/"
        },
        "outputId": "14eec457-f9df-4651-f721-781a1686e00a"
      }
    },
    {
      "cell_type": "markdown",
      "source": [
        "## Batch Normalization"
      ],
      "metadata": {
        "id": "ccelFfH-s3ZY"
      }
    },
    {
      "cell_type": "markdown",
      "source": [
        "The last topic we'll cover before constructing our model is [batch normalization](https://arxiv.org/abs/1502.03167). It's an operation that will standardize (mean=0, std=1) the activations from the previous layer. Recall that we used to standardize our inputs in previous notebooks so our model can optimize quickly with larger learning rates. It's the same concept here but we continue to maintain standardized values throughout the forward pass to further aid optimization. "
      ],
      "metadata": {
        "id": "9f67F4o1HHQp"
      }
    },
    {
      "cell_type": "code",
      "execution_count": null,
      "source": [
        "# Batch normalization\n",
        "batch_norm = nn.BatchNorm1d(num_features=num_filters)\n",
        "z = batch_norm(conv(x)) # applied to activations (after conv layer & before pooling)\n",
        "print (f\"z: {z.shape}\")"
      ],
      "outputs": [
        {
          "output_type": "stream",
          "name": "stdout",
          "text": [
            "z: torch.Size([64, 50, 6])\n"
          ]
        }
      ],
      "metadata": {
        "id": "owtCbYoZs82g",
        "colab": {
          "base_uri": "https://localhost:8080/"
        },
        "outputId": "ca7b2bc3-5cb8-49f5-acd2-2d134309585a"
      }
    },
    {
      "cell_type": "code",
      "execution_count": null,
      "source": [
        "# Mean and std before batchnorm\n",
        "print (f\"mean: {torch.mean(conv1(x)):.2f}, std: {torch.std(conv(x)):.2f}\")"
      ],
      "outputs": [
        {
          "output_type": "stream",
          "name": "stdout",
          "text": [
            "mean: 0.01, std: 0.57\n"
          ]
        }
      ],
      "metadata": {
        "id": "3ABUSm-vyaTG",
        "colab": {
          "base_uri": "https://localhost:8080/"
        },
        "outputId": "7afef3c8-0c58-4581-db48-25e581556e4b"
      }
    },
    {
      "cell_type": "code",
      "execution_count": null,
      "source": [
        "# Mean and std after batchnorm\n",
        "print (f\"mean: {torch.mean(z):.2f}, std: {torch.std(z):.2f}\")"
      ],
      "outputs": [
        {
          "output_type": "stream",
          "name": "stdout",
          "text": [
            "mean: 0.00, std: 1.00\n"
          ]
        }
      ],
      "metadata": {
        "id": "fNzIKpJUyQqk",
        "colab": {
          "base_uri": "https://localhost:8080/"
        },
        "outputId": "ed900d3f-c900-4295-cf6f-9eddeca22190"
      }
    },
    {
      "cell_type": "markdown",
      "source": [
        "# Modeling"
      ],
      "metadata": {
        "id": "Hpo4QXTOtGV6"
      }
    },
    {
      "cell_type": "markdown",
      "source": [
        "## Model"
      ],
      "metadata": {
        "id": "pfhjWZRD94hK"
      }
    },
    {
      "cell_type": "markdown",
      "source": [
        "Let's visualize the model's forward pass.\n",
        "\n",
        "1. We'll first tokenize our inputs (`batch_size`, `max_seq_len`).\n",
        "2. Then we'll one-hot encode our tokenized inputs (`batch_size`, `max_seq_len`, `vocab_size`).\n",
        "3. We'll apply convolution via filters (`filter_size`, `vocab_size`, `num_filters`) followed by batch normalization. Our filters act as character level n-gram detectors.\n",
        "4. We'll apply 1D global max pooling which will extract the most relevant information from the feature maps for making the decision.\n",
        "5. We feed the pool outputs to a fully-connected (FC) layer (with dropout).\n",
        "6. We use one more FC layer with softmax to derive class probabilities. "
      ],
      "metadata": {
        "id": "zVmJGm8m-KIz"
      }
    },
    {
      "cell_type": "markdown",
      "source": [
        "<div align=\"left\">\n",
        "<img src=\"https://raw.githubusercontent.com/GokuMohandas/MadeWithML/main/images/foundations/cnn/model.png\" width=\"1000\">\n",
        "</div>"
      ],
      "metadata": {
        "id": "3ilKr0yTgl6o"
      }
    },
    {
      "cell_type": "code",
      "execution_count": null,
      "source": [
        "NUM_FILTERS = 50\n",
        "HIDDEN_DIM = 100\n",
        "DROPOUT_P = 0.1"
      ],
      "outputs": [],
      "metadata": {
        "id": "jKXRELvlwQHe"
      }
    },
    {
      "cell_type": "code",
      "execution_count": null,
      "source": [
        "class CNN(nn.Module):\n",
        "    def __init__(self, vocab_size, num_filters, filter_size,\n",
        "                 hidden_dim, dropout_p, num_classes):\n",
        "        super(CNN, self).__init__()\n",
        "        \n",
        "        # Convolutional filters\n",
        "        self.filter_size = filter_size\n",
        "        self.conv = nn.Conv1d(\n",
        "            in_channels=vocab_size, out_channels=num_filters, \n",
        "            kernel_size=filter_size, stride=1, padding=0, padding_mode='zeros')\n",
        "        self.batch_norm = nn.BatchNorm1d(num_features=num_filters)\n",
        "\n",
        "        # FC layers\n",
        "        self.fc1 = nn.Linear(num_filters, hidden_dim)\n",
        "        self.dropout = nn.Dropout(dropout_p)\n",
        "        self.fc2 = nn.Linear(hidden_dim, num_classes)\n",
        "\n",
        "    def forward(self, inputs, channel_first=False):\n",
        "\n",
        "        # Rearrange input so num_channels is in dim 1 (N, C, L)\n",
        "        x_in, = inputs\n",
        "        if not channel_first:\n",
        "            x_in = x_in.transpose(1, 2)\n",
        "\n",
        "        # Padding for `SAME` padding\n",
        "        max_seq_len = x_in.shape[2]\n",
        "        padding_left = int((self.conv.stride[0]*(max_seq_len-1) - max_seq_len + self.filter_size)/2)\n",
        "        padding_right = int(math.ceil((self.conv.stride[0]*(max_seq_len-1) - max_seq_len + self.filter_size)/2))\n",
        "\n",
        "        # Conv outputs\n",
        "        z = self.conv(F.pad(x_in, (padding_left, padding_right)))\n",
        "        z = F.max_pool1d(z, z.size(2)).squeeze(2)\n",
        "\n",
        "        # FC layer\n",
        "        z = self.fc1(z)\n",
        "        z = self.dropout(z)\n",
        "        z = self.fc2(z)\n",
        "        return z"
      ],
      "outputs": [],
      "metadata": {
        "id": "UPP5ROd69mXC"
      }
    },
    {
      "cell_type": "code",
      "execution_count": null,
      "source": [
        "# Initialize model\n",
        "model = CNN(vocab_size=VOCAB_SIZE, num_filters=NUM_FILTERS, filter_size=FILTER_SIZE,\n",
        "            hidden_dim=HIDDEN_DIM, dropout_p=DROPOUT_P, num_classes=NUM_CLASSES)\n",
        "model = model.to(device) # set device\n",
        "print (model.named_parameters)"
      ],
      "outputs": [
        {
          "output_type": "stream",
          "name": "stdout",
          "text": [
            "<bound method Module.named_parameters of CNN(\n",
            "  (conv): Conv1d(500, 50, kernel_size=(1,), stride=(1,))\n",
            "  (batch_norm): BatchNorm1d(50, eps=1e-05, momentum=0.1, affine=True, track_running_stats=True)\n",
            "  (fc1): Linear(in_features=50, out_features=100, bias=True)\n",
            "  (dropout): Dropout(p=0.1, inplace=False)\n",
            "  (fc2): Linear(in_features=100, out_features=4, bias=True)\n",
            ")>\n"
          ]
        }
      ],
      "metadata": {
        "id": "wD4sRUS5_lwq",
        "colab": {
          "base_uri": "https://localhost:8080/"
        },
        "outputId": "bff80d41-a38a-4466-d9d0-099447ddaf79"
      }
    },
    {
      "cell_type": "markdown",
      "source": [
        "> We used `SAME` padding (w/ stride=1) which means that the conv outputs will have the same width (`max_seq_len`) as our inputs. The amount of padding differs for each batch based on the `max_seq_len` but you can calculate it by solving for P in the equation below.\n",
        "\n",
        "$ \\frac{W_1 - F + 2P}{S} + 1 = W_2 $\n",
        "\n",
        "$ \\frac{\\text{max_seq_len } - \\text{ filter_size } + 2P}{\\text{stride}} + 1 = \\text{max_seq_len} $\n",
        "\n",
        "$ P = \\frac{\\text{stride}(\\text{max_seq_len}-1) - \\text{max_seq_len} + \\text{filter_size}}{2} $\n",
        "\n",
        "If $P$ is not a whole number, we round up (using `math.ceil`) and place the extra padding on the right side."
      ],
      "metadata": {
        "id": "s1L7-vxbgCup"
      }
    },
    {
      "cell_type": "markdown",
      "source": [
        "## Training"
      ],
      "metadata": {
        "id": "tzZTZI-y2Tzy"
      }
    },
    {
      "cell_type": "markdown",
      "source": [
        "Let's create the `Trainer` class that we'll use to facilitate training for our experiments. Notice that we're now moving the `train` function inside this class."
      ],
      "metadata": {
        "id": "SYw0JY9k2VPk"
      }
    },
    {
      "cell_type": "code",
      "execution_count": null,
      "source": [
        "from torch.optim import Adam"
      ],
      "outputs": [],
      "metadata": {
        "id": "2Cd0KoTq3MhV"
      }
    },
    {
      "cell_type": "code",
      "execution_count": null,
      "source": [
        "LEARNING_RATE = 1e-3\n",
        "PATIENCE = 5\n",
        "NUM_EPOCHS = 10"
      ],
      "outputs": [],
      "metadata": {
        "id": "NPUmSaoR3PQc"
      }
    },
    {
      "cell_type": "code",
      "execution_count": null,
      "source": [
        "class Trainer(object):\n",
        "    def __init__(self, model, device, loss_fn=None, optimizer=None, scheduler=None):\n",
        "\n",
        "        # Set params\n",
        "        self.model = model\n",
        "        self.device = device\n",
        "        self.loss_fn = loss_fn\n",
        "        self.optimizer = optimizer\n",
        "        self.scheduler = scheduler\n",
        "\n",
        "    def train_step(self, dataloader):\n",
        "        \"\"\"Train step.\"\"\"\n",
        "        # Set model to train mode\n",
        "        self.model.train()\n",
        "        loss = 0.0\n",
        "\n",
        "        # Iterate over train batches\n",
        "        for i, batch in enumerate(dataloader):\n",
        "\n",
        "            # Step\n",
        "            batch = [item.to(self.device) for item in batch]  # Set device\n",
        "            inputs, targets = batch[:-1], batch[-1]\n",
        "            self.optimizer.zero_grad()  # Reset gradients\n",
        "            z = self.model(inputs)  # Forward pass\n",
        "            J = self.loss_fn(z, targets)  # Define loss\n",
        "            J.backward()  # Backward pass\n",
        "            self.optimizer.step()  # Update weights\n",
        "\n",
        "            # Cumulative Metrics\n",
        "            loss += (J.detach().item() - loss) / (i + 1)\n",
        "\n",
        "        return loss\n",
        "\n",
        "    def eval_step(self, dataloader):\n",
        "        \"\"\"Validation or test step.\"\"\"\n",
        "        # Set model to eval mode\n",
        "        self.model.eval()\n",
        "        loss = 0.0\n",
        "        y_trues, y_probs = [], []\n",
        "\n",
        "        # Iterate over val batches\n",
        "        with torch.inference_mode():\n",
        "            for i, batch in enumerate(dataloader):\n",
        "\n",
        "                # Step\n",
        "                batch = [item.to(self.device) for item in batch]  # Set device\n",
        "                inputs, y_true = batch[:-1], batch[-1]\n",
        "                z = self.model(inputs)  # Forward pass\n",
        "                J = self.loss_fn(z, y_true).item()\n",
        "\n",
        "                # Cumulative Metrics\n",
        "                loss += (J - loss) / (i + 1)\n",
        "\n",
        "                # Store outputs\n",
        "                y_prob = F.softmax(z).cpu().numpy()\n",
        "                y_probs.extend(y_prob)\n",
        "                y_trues.extend(y_true.cpu().numpy())\n",
        "\n",
        "        return loss, np.vstack(y_trues), np.vstack(y_probs)\n",
        "\n",
        "    def predict_step(self, dataloader):\n",
        "        \"\"\"Prediction step.\"\"\"\n",
        "        # Set model to eval mode\n",
        "        self.model.eval()\n",
        "        y_probs = []\n",
        "\n",
        "        # Iterate over val batches\n",
        "        with torch.inference_mode():\n",
        "            for i, batch in enumerate(dataloader):\n",
        "\n",
        "                # Forward pass w/ inputs\n",
        "                inputs, targets = batch[:-1], batch[-1]\n",
        "                z = self.model(inputs)\n",
        "\n",
        "                # Store outputs\n",
        "                y_prob = F.softmax(z).cpu().numpy()\n",
        "                y_probs.extend(y_prob)\n",
        "\n",
        "        return np.vstack(y_probs)\n",
        "    \n",
        "    def train(self, num_epochs, patience, train_dataloader, val_dataloader):\n",
        "        best_val_loss = np.inf\n",
        "        for epoch in range(num_epochs):\n",
        "            # Steps\n",
        "            train_loss = self.train_step(dataloader=train_dataloader)\n",
        "            val_loss, _, _ = self.eval_step(dataloader=val_dataloader)\n",
        "            self.scheduler.step(val_loss)\n",
        "\n",
        "            # Early stopping\n",
        "            if val_loss < best_val_loss:\n",
        "                best_val_loss = val_loss\n",
        "                best_model = self.model\n",
        "                _patience = patience  # reset _patience\n",
        "            else:\n",
        "                _patience -= 1\n",
        "            if not _patience:  # 0\n",
        "                print(\"Stopping early!\")\n",
        "                break\n",
        "\n",
        "            # Logging\n",
        "            print(\n",
        "                f\"Epoch: {epoch+1} | \"\n",
        "                f\"train_loss: {train_loss:.5f}, \"\n",
        "                f\"val_loss: {val_loss:.5f}, \"\n",
        "                f\"lr: {self.optimizer.param_groups[0]['lr']:.2E}, \"\n",
        "                f\"_patience: {_patience}\"\n",
        "            )\n",
        "        return best_model"
      ],
      "outputs": [],
      "metadata": {
        "id": "H3EqfumC2Ud4"
      }
    },
    {
      "cell_type": "code",
      "execution_count": null,
      "source": [
        "# Define Loss\n",
        "class_weights_tensor = torch.Tensor(list(class_weights.values())).to(device)\n",
        "loss_fn = nn.CrossEntropyLoss(weight=class_weights_tensor)"
      ],
      "outputs": [],
      "metadata": {
        "id": "SMfTLWuB290z"
      }
    },
    {
      "cell_type": "code",
      "execution_count": null,
      "source": [
        "# Define optimizer & scheduler\n",
        "optimizer = Adam(model.parameters(), lr=LEARNING_RATE) \n",
        "scheduler = torch.optim.lr_scheduler.ReduceLROnPlateau(\n",
        "    optimizer, mode=\"min\", factor=0.1, patience=3)"
      ],
      "outputs": [],
      "metadata": {
        "id": "wAjAGYpX3FG5"
      }
    },
    {
      "cell_type": "code",
      "execution_count": null,
      "source": [
        "# Trainer module\n",
        "trainer = Trainer(\n",
        "    model=model, device=device, loss_fn=loss_fn, \n",
        "    optimizer=optimizer, scheduler=scheduler)"
      ],
      "outputs": [],
      "metadata": {
        "id": "GoA55gCt3FJk"
      }
    },
    {
      "cell_type": "code",
      "execution_count": null,
      "source": [
        "# Train\n",
        "best_model = trainer.train(\n",
        "    NUM_EPOCHS, PATIENCE, train_dataloader, val_dataloader)"
      ],
      "outputs": [
        {
          "output_type": "stream",
          "name": "stderr",
          "text": [
            "/usr/local/lib/python3.7/dist-packages/ipykernel_launcher.py:55: UserWarning: Implicit dimension choice for softmax has been deprecated. Change the call to include dim=X as an argument.\n"
          ]
        },
        {
          "output_type": "stream",
          "name": "stdout",
          "text": [
            "Epoch: 1 | train_loss: 0.87388, val_loss: 0.79013, lr: 1.00E-03, _patience: 5\n",
            "Epoch: 2 | train_loss: 0.78353, val_loss: 0.78662, lr: 1.00E-03, _patience: 5\n",
            "Epoch: 3 | train_loss: 0.77744, val_loss: 0.78439, lr: 1.00E-03, _patience: 5\n",
            "Epoch: 4 | train_loss: 0.77235, val_loss: 0.78298, lr: 1.00E-03, _patience: 5\n",
            "Epoch: 5 | train_loss: 0.76906, val_loss: 0.78147, lr: 1.00E-03, _patience: 5\n",
            "Epoch: 6 | train_loss: 0.76615, val_loss: 0.78081, lr: 1.00E-03, _patience: 5\n",
            "Epoch: 7 | train_loss: 0.76423, val_loss: 0.78069, lr: 1.00E-03, _patience: 5\n",
            "Epoch: 8 | train_loss: 0.76202, val_loss: 0.78045, lr: 1.00E-03, _patience: 5\n",
            "Epoch: 9 | train_loss: 0.76014, val_loss: 0.77985, lr: 1.00E-03, _patience: 5\n",
            "Epoch: 10 | train_loss: 0.75848, val_loss: 0.78005, lr: 1.00E-03, _patience: 4\n"
          ]
        }
      ],
      "metadata": {
        "colab": {
          "base_uri": "https://localhost:8080/"
        },
        "id": "ub6AB1qB3JCm",
        "outputId": "d4c7fd02-620a-4a2e-ec2e-c364f6cc3347"
      }
    },
    {
      "cell_type": "markdown",
      "source": [
        "## Evaluation"
      ],
      "metadata": {
        "id": "fG6ejmWj4DhH"
      }
    },
    {
      "cell_type": "code",
      "execution_count": null,
      "source": [
        "import json\n",
        "from pathlib import Path\n",
        "from sklearn.metrics import precision_recall_fscore_support"
      ],
      "outputs": [],
      "metadata": {
        "id": "8k2WdDeH3S6P"
      }
    },
    {
      "cell_type": "code",
      "execution_count": null,
      "source": [
        "def get_performance(y_true, y_pred, classes):\n",
        "    \"\"\"Per-class performance metrics.\"\"\"\n",
        "    # Performance\n",
        "    performance = {\"overall\": {}, \"class\": {}}\n",
        "\n",
        "    # Overall performance\n",
        "    metrics = precision_recall_fscore_support(y_true, y_pred, average=\"weighted\")\n",
        "    performance[\"overall\"][\"precision\"] = metrics[0]\n",
        "    performance[\"overall\"][\"recall\"] = metrics[1]\n",
        "    performance[\"overall\"][\"f1\"] = metrics[2]\n",
        "    performance[\"overall\"][\"num_samples\"] = np.float64(len(y_true))\n",
        "\n",
        "    # Per-class performance\n",
        "    metrics = precision_recall_fscore_support(y_true, y_pred, average=None)\n",
        "    for i in range(len(classes)):\n",
        "        performance[\"class\"][classes[i]] = {\n",
        "            \"precision\": metrics[0][i],\n",
        "            \"recall\": metrics[1][i],\n",
        "            \"f1\": metrics[2][i],\n",
        "            \"num_samples\": np.float64(metrics[3][i]),\n",
        "        }\n",
        "\n",
        "    return performance"
      ],
      "outputs": [],
      "metadata": {
        "id": "Sne12LQZ4HTx"
      }
    },
    {
      "cell_type": "code",
      "execution_count": null,
      "source": [
        "# Get predictions\n",
        "test_loss, y_true, y_prob = trainer.eval_step(dataloader=test_dataloader)\n",
        "y_pred = np.argmax(y_prob, axis=1)"
      ],
      "outputs": [
        {
          "output_type": "stream",
          "name": "stderr",
          "text": [
            "/usr/local/lib/python3.7/dist-packages/ipykernel_launcher.py:55: UserWarning: Implicit dimension choice for softmax has been deprecated. Change the call to include dim=X as an argument.\n"
          ]
        }
      ],
      "metadata": {
        "id": "TXRbjnaz4I1H",
        "colab": {
          "base_uri": "https://localhost:8080/"
        },
        "outputId": "f6340b94-2d5a-49eb-cc09-01c8ff2fe658"
      }
    },
    {
      "cell_type": "code",
      "execution_count": null,
      "source": [
        "# Determine performance\n",
        "performance = get_performance(\n",
        "    y_true=y_test, y_pred=y_pred, classes=label_encoder.classes)\n",
        "print (json.dumps(performance[\"overall\"], indent=2))"
      ],
      "outputs": [
        {
          "output_type": "stream",
          "name": "stdout",
          "text": [
            "{\n",
            "  \"precision\": 0.7119254556198303,\n",
            "  \"recall\": 0.6932222222222222,\n",
            "  \"f1\": 0.6930662307272424,\n",
            "  \"num_samples\": 18000.0\n",
            "}\n"
          ]
        }
      ],
      "metadata": {
        "colab": {
          "base_uri": "https://localhost:8080/"
        },
        "id": "b3fVoGmZ5WRR",
        "outputId": "1a244012-563b-406f-b70c-d0f8b941051b"
      }
    },
    {
      "cell_type": "code",
      "execution_count": null,
      "source": [
        "# Save artifacts\n",
        "dir = Path(\"cnn\")\n",
        "dir.mkdir(parents=True, exist_ok=True)\n",
        "label_encoder.save(fp=Path(dir, \"label_encoder.json\"))\n",
        "tokenizer.save(fp=Path(dir, 'tokenizer.json'))\n",
        "torch.save(best_model.state_dict(), Path(dir, \"model.pt\"))\n",
        "with open(Path(dir, 'performance.json'), \"w\") as fp:\n",
        "    json.dump(performance, indent=2, sort_keys=False, fp=fp)"
      ],
      "outputs": [],
      "metadata": {
        "id": "wIgO8aQd46p1"
      }
    },
    {
      "cell_type": "markdown",
      "source": [
        "## Inference"
      ],
      "metadata": {
        "id": "9SYtJtBB42jA"
      }
    },
    {
      "cell_type": "code",
      "execution_count": null,
      "source": [
        "def get_probability_distribution(y_prob, classes):\n",
        "    \"\"\"Create a dict of class probabilities from an array.\"\"\"\n",
        "    results = {}\n",
        "    for i, class_ in enumerate(classes):\n",
        "        results[class_] = np.float64(y_prob[i])\n",
        "    sorted_results = {k: v for k, v in sorted(\n",
        "        results.items(), key=lambda item: item[1], reverse=True)}\n",
        "    return sorted_results"
      ],
      "outputs": [],
      "metadata": {
        "id": "u0pGgxCN9W9I"
      }
    },
    {
      "cell_type": "code",
      "execution_count": null,
      "source": [
        "# Load artifacts\n",
        "device = torch.device(\"cpu\")\n",
        "label_encoder = LabelEncoder.load(fp=Path(dir, \"label_encoder.json\"))\n",
        "tokenizer = Tokenizer.load(fp=Path(dir, 'tokenizer.json'))\n",
        "model = CNN(\n",
        "    vocab_size=VOCAB_SIZE, num_filters=NUM_FILTERS, filter_size=FILTER_SIZE,\n",
        "    hidden_dim=HIDDEN_DIM, dropout_p=DROPOUT_P, num_classes=NUM_CLASSES)\n",
        "model.load_state_dict(torch.load(Path(dir, \"model.pt\"), map_location=device))\n",
        "model.to(device)"
      ],
      "outputs": [
        {
          "output_type": "execute_result",
          "data": {
            "text/plain": [
              "CNN(\n",
              "  (conv): Conv1d(500, 50, kernel_size=(1,), stride=(1,))\n",
              "  (batch_norm): BatchNorm1d(50, eps=1e-05, momentum=0.1, affine=True, track_running_stats=True)\n",
              "  (fc1): Linear(in_features=50, out_features=100, bias=True)\n",
              "  (dropout): Dropout(p=0.1, inplace=False)\n",
              "  (fc2): Linear(in_features=100, out_features=4, bias=True)\n",
              ")"
            ]
          },
          "metadata": {},
          "execution_count": 63
        }
      ],
      "metadata": {
        "colab": {
          "base_uri": "https://localhost:8080/"
        },
        "id": "WciQjoMf4KZL",
        "outputId": "665c8c14-3566-4fcc-c7fb-de5e6de53c6a"
      }
    },
    {
      "cell_type": "code",
      "execution_count": null,
      "source": [
        "# Initialize trainer\n",
        "trainer = Trainer(model=model, device=device)"
      ],
      "outputs": [],
      "metadata": {
        "id": "5uioiNWd5akm"
      }
    },
    {
      "cell_type": "code",
      "execution_count": null,
      "source": [
        "# Dataloader\n",
        "text = \"What a day for the new york stock market to go bust!\"\n",
        "sequences = tokenizer.texts_to_sequences([preprocess(text)])\n",
        "print (tokenizer.sequences_to_texts(sequences))\n",
        "X = [to_categorical(seq, num_classes=len(tokenizer)) for seq in sequences]\n",
        "y_filler = label_encoder.encode([label_encoder.classes[0]]*len(X))\n",
        "dataset = Dataset(X=X, y=y_filler, max_filter_size=FILTER_SIZE)\n",
        "dataloader = dataset.create_dataloader(batch_size=batch_size)"
      ],
      "outputs": [
        {
          "output_type": "stream",
          "name": "stdout",
          "text": [
            "['day new <UNK> stock market go <UNK>']\n"
          ]
        }
      ],
      "metadata": {
        "colab": {
          "base_uri": "https://localhost:8080/"
        },
        "id": "rKHHNuw65dPx",
        "outputId": "62edd63a-8f9e-4c46-d99b-c2e217be8275"
      }
    },
    {
      "cell_type": "code",
      "execution_count": null,
      "source": [
        "# Inference\n",
        "y_prob = trainer.predict_step(dataloader)\n",
        "y_pred = np.argmax(y_prob, axis=1)\n",
        "label_encoder.decode(y_pred)"
      ],
      "outputs": [
        {
          "output_type": "stream",
          "name": "stderr",
          "text": [
            "/usr/local/lib/python3.7/dist-packages/ipykernel_launcher.py:76: UserWarning: Implicit dimension choice for softmax has been deprecated. Change the call to include dim=X as an argument.\n"
          ]
        },
        {
          "output_type": "execute_result",
          "data": {
            "text/plain": [
              "['Business']"
            ]
          },
          "metadata": {},
          "execution_count": 66
        }
      ],
      "metadata": {
        "colab": {
          "base_uri": "https://localhost:8080/"
        },
        "id": "QcZnAxrm5dSY",
        "outputId": "a62b0014-1618-4481-eb31-77ccb9dafdac"
      }
    },
    {
      "cell_type": "code",
      "execution_count": null,
      "source": [
        "# Class distributions\n",
        "prob_dist = get_probability_distribution(y_prob=y_prob[0], classes=label_encoder.classes)\n",
        "print (json.dumps(prob_dist, indent=2))"
      ],
      "outputs": [
        {
          "output_type": "stream",
          "name": "stdout",
          "text": [
            "{\n",
            "  \"Business\": 0.85136479139328,\n",
            "  \"Sci/Tech\": 0.10569773614406586,\n",
            "  \"World\": 0.036114681512117386,\n",
            "  \"Sports\": 0.006822694092988968\n",
            "}\n"
          ]
        }
      ],
      "metadata": {
        "colab": {
          "base_uri": "https://localhost:8080/"
        },
        "id": "WhjciE436mYQ",
        "outputId": "b6580eb6-ac25-4f6c-d439-e39ec6b88da4"
      }
    },
    {
      "cell_type": "markdown",
      "source": [
        "# Interpretability"
      ],
      "metadata": {
        "id": "1TsxDKyRArrQ"
      }
    },
    {
      "cell_type": "markdown",
      "source": [
        "We went through all the trouble of padding our inputs before convolution to result is outputs of the same shape as our inputs so we can try to get some interpretability. Since every token is mapped to a convolutional output on whcih we apply max pooling, we can see which token's output was most influential towards the prediction. We first need to get the conv outputs from our model:"
      ],
      "metadata": {
        "id": "wqa6OxyeAtkj"
      }
    },
    {
      "cell_type": "code",
      "execution_count": null,
      "source": [
        "import collections\n",
        "import seaborn as sns"
      ],
      "outputs": [],
      "metadata": {
        "id": "T-TywFzL54LS"
      }
    },
    {
      "cell_type": "code",
      "execution_count": null,
      "source": [
        "class InterpretableCNN(nn.Module):\n",
        "    def __init__(self, vocab_size, num_filters, filter_size,\n",
        "                 hidden_dim, dropout_p, num_classes):\n",
        "        super(InterpretableCNN, self).__init__()\n",
        "        \n",
        "        # Convolutional filters\n",
        "        self.filter_size = filter_size\n",
        "        self.conv = nn.Conv1d(\n",
        "            in_channels=vocab_size, out_channels=num_filters, \n",
        "            kernel_size=filter_size, stride=1, padding=0, padding_mode='zeros')\n",
        "        self.batch_norm = nn.BatchNorm1d(num_features=num_filters)\n",
        "\n",
        "        # FC layers\n",
        "        self.fc1 = nn.Linear(num_filters, hidden_dim)\n",
        "        self.dropout = nn.Dropout(dropout_p)\n",
        "        self.fc2 = nn.Linear(hidden_dim, num_classes)\n",
        "\n",
        "    def forward(self, inputs, channel_first=False):\n",
        "\n",
        "        # Rearrange input so num_channels is in dim 1 (N, C, L)\n",
        "        x_in, = inputs\n",
        "        if not channel_first:\n",
        "            x_in = x_in.transpose(1, 2)\n",
        "\n",
        "        # Padding for `SAME` padding\n",
        "        max_seq_len = x_in.shape[2]\n",
        "        padding_left = int((self.conv.stride[0]*(max_seq_len-1) - max_seq_len + self.filter_size)/2)\n",
        "        padding_right = int(math.ceil((self.conv.stride[0]*(max_seq_len-1) - max_seq_len + self.filter_size)/2))\n",
        "\n",
        "        # Conv outputs\n",
        "        z = self.conv(F.pad(x_in, (padding_left, padding_right)))\n",
        "        return z"
      ],
      "outputs": [],
      "metadata": {
        "id": "-I6gSfZ9BSOD"
      }
    },
    {
      "cell_type": "code",
      "execution_count": null,
      "source": [
        "# Initialize\n",
        "interpretable_model = InterpretableCNN(\n",
        "    vocab_size=len(tokenizer), num_filters=NUM_FILTERS, filter_size=FILTER_SIZE,\n",
        "    hidden_dim=HIDDEN_DIM, dropout_p=DROPOUT_P, num_classes=NUM_CLASSES)"
      ],
      "outputs": [],
      "metadata": {
        "id": "kdgTQI3qBwVe"
      }
    },
    {
      "cell_type": "code",
      "execution_count": null,
      "source": [
        "# Load weights (same architecture)\n",
        "interpretable_model.load_state_dict(torch.load(Path(dir, \"model.pt\"), map_location=device))\n",
        "interpretable_model.to(device)"
      ],
      "outputs": [
        {
          "output_type": "execute_result",
          "data": {
            "text/plain": [
              "InterpretableCNN(\n",
              "  (conv): Conv1d(500, 50, kernel_size=(1,), stride=(1,))\n",
              "  (batch_norm): BatchNorm1d(50, eps=1e-05, momentum=0.1, affine=True, track_running_stats=True)\n",
              "  (fc1): Linear(in_features=50, out_features=100, bias=True)\n",
              "  (dropout): Dropout(p=0.1, inplace=False)\n",
              "  (fc2): Linear(in_features=100, out_features=4, bias=True)\n",
              ")"
            ]
          },
          "metadata": {},
          "execution_count": 71
        }
      ],
      "metadata": {
        "colab": {
          "base_uri": "https://localhost:8080/"
        },
        "id": "iF8ckOT8BSQ5",
        "outputId": "8da9a784-6a2a-4441-f714-e0f40f85f498"
      }
    },
    {
      "cell_type": "code",
      "execution_count": null,
      "source": [
        "# Initialize trainer\n",
        "interpretable_trainer = Trainer(model=interpretable_model, device=device)"
      ],
      "outputs": [],
      "metadata": {
        "id": "kFDPbdHLCJpa"
      }
    },
    {
      "cell_type": "code",
      "execution_count": null,
      "source": [
        "# Get conv outputs\n",
        "conv_outputs = interpretable_trainer.predict_step(dataloader)\n",
        "print (conv_outputs.shape) # (num_filters, max_seq_len)"
      ],
      "outputs": [
        {
          "output_type": "stream",
          "name": "stdout",
          "text": [
            "(50, 7)\n"
          ]
        },
        {
          "output_type": "stream",
          "name": "stderr",
          "text": [
            "/usr/local/lib/python3.7/dist-packages/ipykernel_launcher.py:76: UserWarning: Implicit dimension choice for softmax has been deprecated. Change the call to include dim=X as an argument.\n"
          ]
        }
      ],
      "metadata": {
        "colab": {
          "base_uri": "https://localhost:8080/"
        },
        "id": "defuFVDYBSTn",
        "outputId": "d8682087-0b29-491c-e454-e076d7a0a2d1"
      }
    },
    {
      "cell_type": "code",
      "execution_count": null,
      "source": [
        "# Visualize a bi-gram filter's outputs\n",
        "tokens = tokenizer.sequences_to_texts(sequences)[0].split(' ')\n",
        "sns.heatmap(conv_outputs, xticklabels=tokens)"
      ],
      "outputs": [
        {
          "output_type": "execute_result",
          "data": {
            "text/plain": [
              "<matplotlib.axes._subplots.AxesSubplot at 0x7fa595db0b50>"
            ]
          },
          "metadata": {},
          "execution_count": 74
        },
        {
          "output_type": "display_data",
          "data": {
            "text/plain": [
              "<Figure size 432x288 with 2 Axes>"
            ],
            "image/png": "[encoded data removed]"
          },
          "metadata": {
            "needs_background": "light"
          }
        }
      ],
      "metadata": {
        "colab": {
          "base_uri": "https://localhost:8080/",
          "height": 287
        },
        "id": "S8BeyVdk6Mzd",
        "outputId": "76eae1b5-19c2-4531-eafe-c0b4690349a3"
      }
    },
    {
      "cell_type": "markdown",
      "source": [
        "# **The actual heatmap is not showing here.**\n",
        "\n",
        "In the actual heatmap it was shown that the filters have high values for the words `stock` and `market` which influenced the `Business` category classification."
      ],
      "metadata": {
        "id": "NWakIG-C6Ybh"
      }
    },
    {
      "cell_type": "markdown",
      "source": [
        "> This is a crude technique (maxpool doesn't strictly behave this way on a batch) loosely based off of more elaborate [interpretability](https://arxiv.org/abs/1312.6034) methods."
      ],
      "metadata": {
        "id": "3UsWNPkaHGUZ"
      }
    },
    {
      "cell_type": "markdown",
      "source": [
        "Reference-\n",
        "\n",
        "[1]\n",
        "@article{madewithml,\n",
        "    author       = {Goku Mohandas},\n",
        "    title        = { CNNs - Made With ML },\n",
        "    howpublished = {\\url{https://madewithml.com/}},\n",
        "    year         = {2021}\n",
        "}"
      ],
      "metadata": {
        "id": "Udk1aDWxCiaK"
      }
    }
  ]
}